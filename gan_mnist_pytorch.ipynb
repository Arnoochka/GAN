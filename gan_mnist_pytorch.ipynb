{
  "cells": [
    {
      "cell_type": "code",
      "execution_count": 2,
      "metadata": {
        "id": "KuRPet522PAc"
      },
      "outputs": [],
      "source": [
        "import torch\n",
        "import torch.nn as nn\n",
        "import torch.optim as optim\n",
        "from torchvision import datasets, transforms\n",
        "from torch.utils.data import DataLoader\n",
        "import matplotlib.pyplot as plt\n",
        "from torch.autograd import Variable\n",
        "from torchvision.utils import save_image\n",
        "from tqdm import tqdm\n",
        "\n",
        "device = torch.device('cuda' if torch.cuda.is_available() else 'cpu')"
      ]
    },
    {
      "cell_type": "code",
      "execution_count": 3,
      "metadata": {
        "id": "QvQ8ok6A2PAk",
        "colab": {
          "base_uri": "https://localhost:8080/"
        },
        "outputId": "51b4b236-7245-40a0-b7f6-524796e18df0"
      },
      "outputs": [
        {
          "output_type": "stream",
          "name": "stdout",
          "text": [
            "Downloading http://yann.lecun.com/exdb/mnist/train-images-idx3-ubyte.gz\n",
            "Failed to download (trying next):\n",
            "HTTP Error 403: Forbidden\n",
            "\n",
            "Downloading https://ossci-datasets.s3.amazonaws.com/mnist/train-images-idx3-ubyte.gz\n",
            "Downloading https://ossci-datasets.s3.amazonaws.com/mnist/train-images-idx3-ubyte.gz to data/MNIST/raw/train-images-idx3-ubyte.gz\n"
          ]
        },
        {
          "output_type": "stream",
          "name": "stderr",
          "text": [
            "100%|██████████| 9.91M/9.91M [00:00<00:00, 16.4MB/s]\n"
          ]
        },
        {
          "output_type": "stream",
          "name": "stdout",
          "text": [
            "Extracting data/MNIST/raw/train-images-idx3-ubyte.gz to data/MNIST/raw\n",
            "\n",
            "Downloading http://yann.lecun.com/exdb/mnist/train-labels-idx1-ubyte.gz\n",
            "Failed to download (trying next):\n",
            "HTTP Error 403: Forbidden\n",
            "\n",
            "Downloading https://ossci-datasets.s3.amazonaws.com/mnist/train-labels-idx1-ubyte.gz\n",
            "Downloading https://ossci-datasets.s3.amazonaws.com/mnist/train-labels-idx1-ubyte.gz to data/MNIST/raw/train-labels-idx1-ubyte.gz\n"
          ]
        },
        {
          "output_type": "stream",
          "name": "stderr",
          "text": [
            "100%|██████████| 28.9k/28.9k [00:00<00:00, 494kB/s]\n"
          ]
        },
        {
          "output_type": "stream",
          "name": "stdout",
          "text": [
            "Extracting data/MNIST/raw/train-labels-idx1-ubyte.gz to data/MNIST/raw\n",
            "\n",
            "Downloading http://yann.lecun.com/exdb/mnist/t10k-images-idx3-ubyte.gz\n",
            "Failed to download (trying next):\n",
            "HTTP Error 403: Forbidden\n",
            "\n",
            "Downloading https://ossci-datasets.s3.amazonaws.com/mnist/t10k-images-idx3-ubyte.gz\n",
            "Downloading https://ossci-datasets.s3.amazonaws.com/mnist/t10k-images-idx3-ubyte.gz to data/MNIST/raw/t10k-images-idx3-ubyte.gz\n"
          ]
        },
        {
          "output_type": "stream",
          "name": "stderr",
          "text": [
            "100%|██████████| 1.65M/1.65M [00:00<00:00, 4.51MB/s]\n"
          ]
        },
        {
          "output_type": "stream",
          "name": "stdout",
          "text": [
            "Extracting data/MNIST/raw/t10k-images-idx3-ubyte.gz to data/MNIST/raw\n",
            "\n",
            "Downloading http://yann.lecun.com/exdb/mnist/t10k-labels-idx1-ubyte.gz\n",
            "Failed to download (trying next):\n",
            "HTTP Error 403: Forbidden\n",
            "\n",
            "Downloading https://ossci-datasets.s3.amazonaws.com/mnist/t10k-labels-idx1-ubyte.gz\n",
            "Downloading https://ossci-datasets.s3.amazonaws.com/mnist/t10k-labels-idx1-ubyte.gz to data/MNIST/raw/t10k-labels-idx1-ubyte.gz\n"
          ]
        },
        {
          "output_type": "stream",
          "name": "stderr",
          "text": [
            "100%|██████████| 4.54k/4.54k [00:00<00:00, 5.42MB/s]"
          ]
        },
        {
          "output_type": "stream",
          "name": "stdout",
          "text": [
            "Extracting data/MNIST/raw/t10k-labels-idx1-ubyte.gz to data/MNIST/raw\n",
            "\n"
          ]
        },
        {
          "output_type": "stream",
          "name": "stderr",
          "text": [
            "\n"
          ]
        }
      ],
      "source": [
        "BATCH_SIZE = 100\n",
        "LR = 0.0001\n",
        "\n",
        "transform = transforms.Compose([\n",
        "    transforms.ToTensor(),\n",
        "    transforms.Normalize(0.13, 0.31)])\n",
        "\n",
        "train_dataset = datasets.MNIST(root='data', train=True, transform=transform, download=True)\n",
        "test_dataset = datasets.MNIST(root='data', train=False, transform=transform, download=True)\n",
        "\n",
        "train_loader = DataLoader(dataset=train_dataset, batch_size=BATCH_SIZE, shuffle=True)\n",
        "test_loader = DataLoader(dataset=test_dataset, batch_size=BATCH_SIZE, shuffle=False)\n"
      ]
    },
    {
      "cell_type": "code",
      "execution_count": 4,
      "metadata": {
        "id": "9oQsyk-j3yK3"
      },
      "outputs": [],
      "source": [
        "class Generator(nn.Module):\n",
        "    def __init__(self, input_size, output_size):\n",
        "        super(Generator, self).__init__()\n",
        "        self.model = nn.Sequential(\n",
        "            nn.Linear(input_size, 256),\n",
        "            nn.LeakyReLU(0.2),\n",
        "            nn.Linear(256, 512),\n",
        "            nn.LeakyReLU(0.2),\n",
        "            nn.Linear(512, 1024),\n",
        "            nn.LeakyReLU(0.2),\n",
        "            nn.Linear(1024, output_size),\n",
        "            nn.Tanh()\n",
        "        )\n",
        "\n",
        "    def forward(self, x):\n",
        "        return self.model(x).view(-1, 1, 28, 28)\n"
      ]
    },
    {
      "cell_type": "code",
      "execution_count": 5,
      "metadata": {
        "id": "_Gg37omm3yK3"
      },
      "outputs": [],
      "source": [
        "class Discriminator(nn.Module):\n",
        "    def __init__(self, input_size):\n",
        "        super(Discriminator, self).__init__()\n",
        "        self.model = nn.Sequential(\n",
        "            nn.Linear(input_size, 1024),\n",
        "            nn.LeakyReLU(0.2),\n",
        "            nn.Dropout(0.3),\n",
        "            nn.Linear(1024, 512),\n",
        "            nn.LeakyReLU(0.2),\n",
        "            nn.Dropout(0.3),\n",
        "            nn.Linear(512, 256),\n",
        "            nn.LeakyReLU(0.2),\n",
        "            nn.Dropout(0.3),\n",
        "            nn.Linear(256, 1),\n",
        "            nn.Sigmoid()\n",
        "        )\n",
        "\n",
        "    def forward(self, x):\n",
        "        return self.model(x.view(-1, 28 * 28))\n"
      ]
    },
    {
      "cell_type": "code",
      "execution_count": 6,
      "metadata": {
        "id": "-vNQl6ei2PAp",
        "colab": {
          "base_uri": "https://localhost:8080/"
        },
        "outputId": "f002e1aa-49d7-41a6-ef68-e6c268234bd1"
      },
      "outputs": [
        {
          "output_type": "stream",
          "name": "stderr",
          "text": [
            "/usr/local/lib/python3.10/dist-packages/torchvision/datasets/mnist.py:76: UserWarning: train_data has been renamed data\n",
            "  warnings.warn(\"train_data has been renamed data\")\n"
          ]
        }
      ],
      "source": [
        "# build network\n",
        "input_size_G = 50\n",
        "mnist_dim = train_dataset.train_data.size(1) * train_dataset.train_data.size(2)\n",
        "\n",
        "Generator = Generator(input_size=input_size_G, output_size = mnist_dim).to(device)\n",
        "Discriminator = Discriminator(mnist_dim).to(device)"
      ]
    },
    {
      "cell_type": "code",
      "execution_count": 7,
      "metadata": {
        "id": "e5tCeRSY3yK4"
      },
      "outputs": [],
      "source": [
        "criterion = nn.BCELoss()\n",
        "optimizer_G = optim.Adam(Generator.parameters(), lr=LR)\n",
        "optimizer_D = optim.Adam(Discriminator.parameters(), lr=LR)"
      ]
    },
    {
      "cell_type": "code",
      "execution_count": 8,
      "metadata": {
        "id": "1h9ChGeQ2PAu"
      },
      "outputs": [],
      "source": [
        "def D_train(x):\n",
        "    Discriminator.zero_grad()\n",
        "\n",
        "    # train discriminator on real\n",
        "    x_real, y_real = x.view(-1, mnist_dim), torch.ones(BATCH_SIZE, 1)\n",
        "    x_real, y_real = Variable(x_real.to(device)), Variable(y_real.to(device))\n",
        "\n",
        "    D_output = Discriminator(x_real)\n",
        "    D_real_loss = criterion(D_output, y_real)\n",
        "    D_real_score = D_output\n",
        "\n",
        "    # train discriminator on fake\n",
        "    z = Variable(torch.randn(BATCH_SIZE,    input_size_G ).to(device))\n",
        "    x_fake, y_fake = Generator(z), Variable(torch.zeros(BATCH_SIZE, 1).to(device))\n",
        "\n",
        "    D_output = Discriminator(x_fake)\n",
        "    D_fake_loss = criterion(D_output, y_fake)\n",
        "    D_fake_score = D_output\n",
        "\n",
        "    # gradient backprop & optimize ONLY D's parameters\n",
        "    D_loss = D_real_loss + D_fake_loss\n",
        "    D_loss.backward()\n",
        "    optimizer_D.step()\n",
        "\n",
        "    return  D_loss.data.item()"
      ]
    },
    {
      "cell_type": "code",
      "execution_count": 9,
      "metadata": {
        "id": "SP1auDNV2PAw"
      },
      "outputs": [],
      "source": [
        "def G_train(x):\n",
        "    Generator.zero_grad()\n",
        "\n",
        "    z = Variable(torch.randn(BATCH_SIZE, input_size_G).to(device))\n",
        "    y = Variable(torch.ones(BATCH_SIZE, 1).to(device))\n",
        "\n",
        "    G_output = Generator(z)\n",
        "    D_output = Discriminator(G_output)\n",
        "    G_loss = criterion(D_output, y)\n",
        "\n",
        "    G_loss.backward()\n",
        "    optimizer_G.step()\n",
        "\n",
        "    return G_loss.data.item()"
      ]
    },
    {
      "cell_type": "code",
      "execution_count": 10,
      "metadata": {
        "id": "8aCNezrJMOME"
      },
      "outputs": [],
      "source": [
        "test = Variable(torch.randn(BATCH_SIZE, input_size_G).to(device))\n",
        "def generate_test_image(epoch):\n",
        "    with torch.no_grad():\n",
        "        generated = Generator(test)\n",
        "        save_image(generated.view(generated.size(0), 1, 28, 28)[0],\n",
        "                   f'./output/sample_{epoch}.png')"
      ]
    },
    {
      "cell_type": "code",
      "execution_count": 12,
      "metadata": {
        "colab": {
          "base_uri": "https://localhost:8080/"
        },
        "id": "6hUDVNSB2PAx",
        "outputId": "ce113fd7-cb36-416e-b475-28613dd1341d",
        "scrolled": true
      },
      "outputs": [
        {
          "metadata": {
            "tags": null
          },
          "name": "stderr",
          "output_type": "stream",
          "text": [
            "Epoch 1/300: 100%|██████████| 600/600 [00:19<00:00, 30.21it/s, loss_d=0.441, loss_g=3.62]\n"
          ]
        },
        {
          "metadata": {
            "tags": null
          },
          "name": "stdout",
          "output_type": "stream",
          "text": [
            "[1/300]: loss_d: 0.441, loss_g: 3.615\n"
          ]
        },
        {
          "metadata": {
            "tags": null
          },
          "name": "stderr",
          "output_type": "stream",
          "text": [
            "Epoch 2/300: 100%|██████████| 600/600 [00:19<00:00, 30.08it/s, loss_d=0.181, loss_g=5.19]\n"
          ]
        },
        {
          "metadata": {
            "tags": null
          },
          "name": "stdout",
          "output_type": "stream",
          "text": [
            "[2/300]: loss_d: 0.181, loss_g: 5.190\n"
          ]
        },
        {
          "metadata": {
            "tags": null
          },
          "name": "stderr",
          "output_type": "stream",
          "text": [
            "Epoch 3/300: 100%|██████████| 600/600 [00:20<00:00, 29.53it/s, loss_d=0.11, loss_g=5.7]\n"
          ]
        },
        {
          "metadata": {
            "tags": null
          },
          "name": "stdout",
          "output_type": "stream",
          "text": [
            "[3/300]: loss_d: 0.110, loss_g: 5.700\n"
          ]
        },
        {
          "metadata": {
            "tags": null
          },
          "name": "stderr",
          "output_type": "stream",
          "text": [
            "Epoch 4/300: 100%|██████████| 600/600 [00:20<00:00, 29.67it/s, loss_d=0.102, loss_g=6.76]\n"
          ]
        },
        {
          "metadata": {
            "tags": null
          },
          "name": "stdout",
          "output_type": "stream",
          "text": [
            "[4/300]: loss_d: 0.102, loss_g: 6.758\n"
          ]
        },
        {
          "metadata": {
            "tags": null
          },
          "name": "stderr",
          "output_type": "stream",
          "text": [
            "Epoch 5/300: 100%|██████████| 600/600 [00:18<00:00, 31.73it/s, loss_d=0.0592, loss_g=6.95]\n"
          ]
        },
        {
          "metadata": {
            "tags": null
          },
          "name": "stdout",
          "output_type": "stream",
          "text": [
            "[5/300]: loss_d: 0.059, loss_g: 6.945\n"
          ]
        },
        {
          "metadata": {
            "tags": null
          },
          "name": "stderr",
          "output_type": "stream",
          "text": [
            "Epoch 6/300: 100%|██████████| 600/600 [00:19<00:00, 30.57it/s, loss_d=0.0626, loss_g=7.7]\n"
          ]
        },
        {
          "metadata": {
            "tags": null
          },
          "name": "stdout",
          "output_type": "stream",
          "text": [
            "[6/300]: loss_d: 0.063, loss_g: 7.705\n"
          ]
        },
        {
          "metadata": {
            "tags": null
          },
          "name": "stderr",
          "output_type": "stream",
          "text": [
            "Epoch 7/300: 100%|██████████| 600/600 [00:19<00:00, 31.49it/s, loss_d=0.0557, loss_g=7.68]\n"
          ]
        },
        {
          "metadata": {
            "tags": null
          },
          "name": "stdout",
          "output_type": "stream",
          "text": [
            "[7/300]: loss_d: 0.056, loss_g: 7.684\n"
          ]
        },
        {
          "metadata": {
            "tags": null
          },
          "name": "stderr",
          "output_type": "stream",
          "text": [
            "Epoch 8/300: 100%|██████████| 600/600 [00:19<00:00, 30.62it/s, loss_d=0.047, loss_g=7.82]\n"
          ]
        },
        {
          "metadata": {
            "tags": null
          },
          "name": "stdout",
          "output_type": "stream",
          "text": [
            "[8/300]: loss_d: 0.047, loss_g: 7.818\n"
          ]
        },
        {
          "metadata": {
            "tags": null
          },
          "name": "stderr",
          "output_type": "stream",
          "text": [
            "Epoch 9/300: 100%|██████████| 600/600 [00:19<00:00, 31.32it/s, loss_d=0.0564, loss_g=7.69]\n"
          ]
        },
        {
          "metadata": {
            "tags": null
          },
          "name": "stdout",
          "output_type": "stream",
          "text": [
            "[9/300]: loss_d: 0.056, loss_g: 7.688\n"
          ]
        },
        {
          "metadata": {
            "tags": null
          },
          "name": "stderr",
          "output_type": "stream",
          "text": [
            "Epoch 10/300: 100%|██████████| 600/600 [00:19<00:00, 30.78it/s, loss_d=0.0478, loss_g=7.62]\n"
          ]
        },
        {
          "metadata": {
            "tags": null
          },
          "name": "stdout",
          "output_type": "stream",
          "text": [
            "[10/300]: loss_d: 0.048, loss_g: 7.618\n"
          ]
        },
        {
          "metadata": {
            "tags": null
          },
          "name": "stderr",
          "output_type": "stream",
          "text": [
            "Epoch 11/300: 100%|██████████| 600/600 [00:19<00:00, 31.16it/s, loss_d=0.048, loss_g=7.5]\n"
          ]
        },
        {
          "metadata": {
            "tags": null
          },
          "name": "stdout",
          "output_type": "stream",
          "text": [
            "[11/300]: loss_d: 0.048, loss_g: 7.499\n"
          ]
        },
        {
          "metadata": {
            "tags": null
          },
          "name": "stderr",
          "output_type": "stream",
          "text": [
            "Epoch 12/300: 100%|██████████| 600/600 [00:20<00:00, 29.58it/s, loss_d=0.0491, loss_g=7.22]\n"
          ]
        },
        {
          "metadata": {
            "tags": null
          },
          "name": "stdout",
          "output_type": "stream",
          "text": [
            "[12/300]: loss_d: 0.049, loss_g: 7.218\n"
          ]
        },
        {
          "metadata": {
            "tags": null
          },
          "name": "stderr",
          "output_type": "stream",
          "text": [
            "Epoch 13/300: 100%|██████████| 600/600 [00:20<00:00, 28.86it/s, loss_d=0.0446, loss_g=7.47]\n"
          ]
        },
        {
          "metadata": {
            "tags": null
          },
          "name": "stdout",
          "output_type": "stream",
          "text": [
            "[13/300]: loss_d: 0.045, loss_g: 7.474\n"
          ]
        },
        {
          "metadata": {
            "tags": null
          },
          "name": "stderr",
          "output_type": "stream",
          "text": [
            "Epoch 14/300: 100%|██████████| 600/600 [00:20<00:00, 29.56it/s, loss_d=0.0488, loss_g=7.43]\n"
          ]
        },
        {
          "metadata": {
            "tags": null
          },
          "name": "stdout",
          "output_type": "stream",
          "text": [
            "[14/300]: loss_d: 0.049, loss_g: 7.432\n"
          ]
        },
        {
          "metadata": {
            "tags": null
          },
          "name": "stderr",
          "output_type": "stream",
          "text": [
            "Epoch 15/300: 100%|██████████| 600/600 [00:19<00:00, 30.39it/s, loss_d=0.0503, loss_g=6.94]\n"
          ]
        },
        {
          "metadata": {
            "tags": null
          },
          "name": "stdout",
          "output_type": "stream",
          "text": [
            "[15/300]: loss_d: 0.050, loss_g: 6.936\n"
          ]
        },
        {
          "metadata": {
            "tags": null
          },
          "name": "stderr",
          "output_type": "stream",
          "text": [
            "Epoch 16/300: 100%|██████████| 600/600 [00:20<00:00, 29.48it/s, loss_d=0.0478, loss_g=6.98]\n"
          ]
        },
        {
          "metadata": {
            "tags": null
          },
          "name": "stdout",
          "output_type": "stream",
          "text": [
            "[16/300]: loss_d: 0.048, loss_g: 6.976\n"
          ]
        },
        {
          "metadata": {
            "tags": null
          },
          "name": "stderr",
          "output_type": "stream",
          "text": [
            "Epoch 17/300: 100%|██████████| 600/600 [00:19<00:00, 30.46it/s, loss_d=0.0421, loss_g=7.03]\n"
          ]
        },
        {
          "metadata": {
            "tags": null
          },
          "name": "stdout",
          "output_type": "stream",
          "text": [
            "[17/300]: loss_d: 0.042, loss_g: 7.031\n"
          ]
        },
        {
          "metadata": {
            "tags": null
          },
          "name": "stderr",
          "output_type": "stream",
          "text": [
            "Epoch 18/300: 100%|██████████| 600/600 [00:20<00:00, 29.91it/s, loss_d=0.0434, loss_g=7.16]\n"
          ]
        },
        {
          "metadata": {
            "tags": null
          },
          "name": "stdout",
          "output_type": "stream",
          "text": [
            "[18/300]: loss_d: 0.043, loss_g: 7.164\n"
          ]
        },
        {
          "metadata": {
            "tags": null
          },
          "name": "stderr",
          "output_type": "stream",
          "text": [
            "Epoch 19/300: 100%|██████████| 600/600 [00:20<00:00, 29.67it/s, loss_d=0.0381, loss_g=7.2]\n"
          ]
        },
        {
          "metadata": {
            "tags": null
          },
          "name": "stdout",
          "output_type": "stream",
          "text": [
            "[19/300]: loss_d: 0.038, loss_g: 7.200\n"
          ]
        },
        {
          "metadata": {
            "tags": null
          },
          "name": "stderr",
          "output_type": "stream",
          "text": [
            "Epoch 20/300: 100%|██████████| 600/600 [00:20<00:00, 29.51it/s, loss_d=0.0419, loss_g=7.1]\n"
          ]
        },
        {
          "metadata": {
            "tags": null
          },
          "name": "stdout",
          "output_type": "stream",
          "text": [
            "[20/300]: loss_d: 0.042, loss_g: 7.103\n"
          ]
        },
        {
          "metadata": {
            "tags": null
          },
          "name": "stderr",
          "output_type": "stream",
          "text": [
            "Epoch 21/300: 100%|██████████| 600/600 [00:20<00:00, 29.70it/s, loss_d=0.0397, loss_g=6.98]\n"
          ]
        },
        {
          "metadata": {
            "tags": null
          },
          "name": "stdout",
          "output_type": "stream",
          "text": [
            "[21/300]: loss_d: 0.040, loss_g: 6.982\n"
          ]
        },
        {
          "metadata": {
            "tags": null
          },
          "name": "stderr",
          "output_type": "stream",
          "text": [
            "Epoch 22/300: 100%|██████████| 600/600 [00:20<00:00, 29.71it/s, loss_d=0.0374, loss_g=7.17]\n"
          ]
        },
        {
          "metadata": {
            "tags": null
          },
          "name": "stdout",
          "output_type": "stream",
          "text": [
            "[22/300]: loss_d: 0.037, loss_g: 7.167\n"
          ]
        },
        {
          "metadata": {
            "tags": null
          },
          "name": "stderr",
          "output_type": "stream",
          "text": [
            "Epoch 23/300: 100%|██████████| 600/600 [00:19<00:00, 30.79it/s, loss_d=0.0359, loss_g=7.44]\n"
          ]
        },
        {
          "metadata": {
            "tags": null
          },
          "name": "stdout",
          "output_type": "stream",
          "text": [
            "[23/300]: loss_d: 0.036, loss_g: 7.438\n"
          ]
        },
        {
          "metadata": {
            "tags": null
          },
          "name": "stderr",
          "output_type": "stream",
          "text": [
            "Epoch 24/300: 100%|██████████| 600/600 [00:19<00:00, 30.10it/s, loss_d=0.0343, loss_g=7.37]\n"
          ]
        },
        {
          "metadata": {
            "tags": null
          },
          "name": "stdout",
          "output_type": "stream",
          "text": [
            "[24/300]: loss_d: 0.034, loss_g: 7.369\n"
          ]
        },
        {
          "metadata": {
            "tags": null
          },
          "name": "stderr",
          "output_type": "stream",
          "text": [
            "Epoch 25/300: 100%|██████████| 600/600 [00:19<00:00, 30.21it/s, loss_d=0.0309, loss_g=7.46]\n"
          ]
        },
        {
          "metadata": {
            "tags": null
          },
          "name": "stdout",
          "output_type": "stream",
          "text": [
            "[25/300]: loss_d: 0.031, loss_g: 7.456\n"
          ]
        },
        {
          "metadata": {
            "tags": null
          },
          "name": "stderr",
          "output_type": "stream",
          "text": [
            "Epoch 26/300: 100%|██████████| 600/600 [00:19<00:00, 30.17it/s, loss_d=0.027, loss_g=7.66]\n"
          ]
        },
        {
          "metadata": {
            "tags": null
          },
          "name": "stdout",
          "output_type": "stream",
          "text": [
            "[26/300]: loss_d: 0.027, loss_g: 7.659\n"
          ]
        },
        {
          "metadata": {
            "tags": null
          },
          "name": "stderr",
          "output_type": "stream",
          "text": [
            "Epoch 27/300: 100%|██████████| 600/600 [00:20<00:00, 29.58it/s, loss_d=0.0276, loss_g=7.83]\n"
          ]
        },
        {
          "metadata": {
            "tags": null
          },
          "name": "stdout",
          "output_type": "stream",
          "text": [
            "[27/300]: loss_d: 0.028, loss_g: 7.827\n"
          ]
        },
        {
          "metadata": {
            "tags": null
          },
          "name": "stderr",
          "output_type": "stream",
          "text": [
            "Epoch 28/300: 100%|██████████| 600/600 [00:20<00:00, 29.74it/s, loss_d=0.0252, loss_g=7.71]\n"
          ]
        },
        {
          "metadata": {
            "tags": null
          },
          "name": "stdout",
          "output_type": "stream",
          "text": [
            "[28/300]: loss_d: 0.025, loss_g: 7.707\n"
          ]
        },
        {
          "metadata": {
            "tags": null
          },
          "name": "stderr",
          "output_type": "stream",
          "text": [
            "Epoch 29/300: 100%|██████████| 600/600 [00:20<00:00, 29.59it/s, loss_d=0.0248, loss_g=7.95]\n"
          ]
        },
        {
          "metadata": {
            "tags": null
          },
          "name": "stdout",
          "output_type": "stream",
          "text": [
            "[29/300]: loss_d: 0.025, loss_g: 7.945\n"
          ]
        },
        {
          "metadata": {
            "tags": null
          },
          "name": "stderr",
          "output_type": "stream",
          "text": [
            "Epoch 30/300: 100%|██████████| 600/600 [00:20<00:00, 29.83it/s, loss_d=0.0219, loss_g=8.14]\n"
          ]
        },
        {
          "metadata": {
            "tags": null
          },
          "name": "stdout",
          "output_type": "stream",
          "text": [
            "[30/300]: loss_d: 0.022, loss_g: 8.137\n"
          ]
        },
        {
          "metadata": {
            "tags": null
          },
          "name": "stderr",
          "output_type": "stream",
          "text": [
            "Epoch 31/300: 100%|██████████| 600/600 [00:19<00:00, 30.55it/s, loss_d=0.0211, loss_g=8.11]\n"
          ]
        },
        {
          "metadata": {
            "tags": null
          },
          "name": "stdout",
          "output_type": "stream",
          "text": [
            "[31/300]: loss_d: 0.021, loss_g: 8.107\n"
          ]
        },
        {
          "metadata": {
            "tags": null
          },
          "name": "stderr",
          "output_type": "stream",
          "text": [
            "Epoch 32/300: 100%|██████████| 600/600 [00:20<00:00, 29.63it/s, loss_d=0.0212, loss_g=8.02]\n"
          ]
        },
        {
          "metadata": {
            "tags": null
          },
          "name": "stdout",
          "output_type": "stream",
          "text": [
            "[32/300]: loss_d: 0.021, loss_g: 8.017\n"
          ]
        },
        {
          "metadata": {
            "tags": null
          },
          "name": "stderr",
          "output_type": "stream",
          "text": [
            "Epoch 33/300: 100%|██████████| 600/600 [00:19<00:00, 30.09it/s, loss_d=0.0193, loss_g=8.25]\n"
          ]
        },
        {
          "metadata": {
            "tags": null
          },
          "name": "stdout",
          "output_type": "stream",
          "text": [
            "[33/300]: loss_d: 0.019, loss_g: 8.247\n"
          ]
        },
        {
          "metadata": {
            "tags": null
          },
          "name": "stderr",
          "output_type": "stream",
          "text": [
            "Epoch 34/300: 100%|██████████| 600/600 [00:19<00:00, 30.10it/s, loss_d=0.0187, loss_g=8.52]\n"
          ]
        },
        {
          "metadata": {
            "tags": null
          },
          "name": "stdout",
          "output_type": "stream",
          "text": [
            "[34/300]: loss_d: 0.019, loss_g: 8.517\n"
          ]
        },
        {
          "metadata": {
            "tags": null
          },
          "name": "stderr",
          "output_type": "stream",
          "text": [
            "Epoch 35/300: 100%|██████████| 600/600 [00:20<00:00, 29.62it/s, loss_d=0.0207, loss_g=8.42]\n"
          ]
        },
        {
          "metadata": {
            "tags": null
          },
          "name": "stdout",
          "output_type": "stream",
          "text": [
            "[35/300]: loss_d: 0.021, loss_g: 8.417\n"
          ]
        },
        {
          "metadata": {
            "tags": null
          },
          "name": "stderr",
          "output_type": "stream",
          "text": [
            "Epoch 36/300: 100%|██████████| 600/600 [00:19<00:00, 30.41it/s, loss_d=0.0181, loss_g=8.34]\n"
          ]
        },
        {
          "metadata": {
            "tags": null
          },
          "name": "stdout",
          "output_type": "stream",
          "text": [
            "[36/300]: loss_d: 0.018, loss_g: 8.342\n"
          ]
        },
        {
          "metadata": {
            "tags": null
          },
          "name": "stderr",
          "output_type": "stream",
          "text": [
            "Epoch 37/300: 100%|██████████| 600/600 [00:20<00:00, 28.60it/s, loss_d=0.0169, loss_g=8.62]\n"
          ]
        },
        {
          "metadata": {
            "tags": null
          },
          "name": "stdout",
          "output_type": "stream",
          "text": [
            "[37/300]: loss_d: 0.017, loss_g: 8.623\n"
          ]
        },
        {
          "metadata": {
            "tags": null
          },
          "name": "stderr",
          "output_type": "stream",
          "text": [
            "Epoch 38/300: 100%|██████████| 600/600 [00:20<00:00, 29.69it/s, loss_d=0.015, loss_g=8.71]\n"
          ]
        },
        {
          "metadata": {
            "tags": null
          },
          "name": "stdout",
          "output_type": "stream",
          "text": [
            "[38/300]: loss_d: 0.015, loss_g: 8.715\n"
          ]
        },
        {
          "metadata": {
            "tags": null
          },
          "name": "stderr",
          "output_type": "stream",
          "text": [
            "Epoch 39/300: 100%|██████████| 600/600 [00:19<00:00, 30.49it/s, loss_d=0.0165, loss_g=8.73]\n"
          ]
        },
        {
          "metadata": {
            "tags": null
          },
          "name": "stdout",
          "output_type": "stream",
          "text": [
            "[39/300]: loss_d: 0.017, loss_g: 8.726\n"
          ]
        },
        {
          "metadata": {
            "tags": null
          },
          "name": "stderr",
          "output_type": "stream",
          "text": [
            "Epoch 40/300: 100%|██████████| 600/600 [00:20<00:00, 29.59it/s, loss_d=0.0152, loss_g=8.59]\n"
          ]
        },
        {
          "metadata": {
            "tags": null
          },
          "name": "stdout",
          "output_type": "stream",
          "text": [
            "[40/300]: loss_d: 0.015, loss_g: 8.587\n"
          ]
        },
        {
          "metadata": {
            "tags": null
          },
          "name": "stderr",
          "output_type": "stream",
          "text": [
            "Epoch 41/300: 100%|██████████| 600/600 [00:20<00:00, 29.71it/s, loss_d=0.0129, loss_g=8.82]\n"
          ]
        },
        {
          "metadata": {
            "tags": null
          },
          "name": "stdout",
          "output_type": "stream",
          "text": [
            "[41/300]: loss_d: 0.013, loss_g: 8.823\n"
          ]
        },
        {
          "metadata": {
            "tags": null
          },
          "name": "stderr",
          "output_type": "stream",
          "text": [
            "Epoch 42/300: 100%|██████████| 600/600 [00:19<00:00, 30.43it/s, loss_d=0.0126, loss_g=9.23]\n"
          ]
        },
        {
          "metadata": {
            "tags": null
          },
          "name": "stdout",
          "output_type": "stream",
          "text": [
            "[42/300]: loss_d: 0.013, loss_g: 9.234\n"
          ]
        },
        {
          "metadata": {
            "tags": null
          },
          "name": "stderr",
          "output_type": "stream",
          "text": [
            "Epoch 43/300: 100%|██████████| 600/600 [00:20<00:00, 29.27it/s, loss_d=0.0123, loss_g=9.23]\n"
          ]
        },
        {
          "metadata": {
            "tags": null
          },
          "name": "stdout",
          "output_type": "stream",
          "text": [
            "[43/300]: loss_d: 0.012, loss_g: 9.234\n"
          ]
        },
        {
          "metadata": {
            "tags": null
          },
          "name": "stderr",
          "output_type": "stream",
          "text": [
            "Epoch 44/300: 100%|██████████| 600/600 [00:20<00:00, 29.99it/s, loss_d=0.0115, loss_g=9.27]\n"
          ]
        },
        {
          "metadata": {
            "tags": null
          },
          "name": "stdout",
          "output_type": "stream",
          "text": [
            "[44/300]: loss_d: 0.011, loss_g: 9.274\n"
          ]
        },
        {
          "metadata": {
            "tags": null
          },
          "name": "stderr",
          "output_type": "stream",
          "text": [
            "Epoch 45/300: 100%|██████████| 600/600 [00:20<00:00, 29.23it/s, loss_d=0.0116, loss_g=9.22]\n"
          ]
        },
        {
          "metadata": {
            "tags": null
          },
          "name": "stdout",
          "output_type": "stream",
          "text": [
            "[45/300]: loss_d: 0.012, loss_g: 9.215\n"
          ]
        },
        {
          "metadata": {
            "tags": null
          },
          "name": "stderr",
          "output_type": "stream",
          "text": [
            "Epoch 46/300: 100%|██████████| 600/600 [00:20<00:00, 29.54it/s, loss_d=0.0119, loss_g=9.32]\n"
          ]
        },
        {
          "metadata": {
            "tags": null
          },
          "name": "stdout",
          "output_type": "stream",
          "text": [
            "[46/300]: loss_d: 0.012, loss_g: 9.323\n"
          ]
        },
        {
          "metadata": {
            "tags": null
          },
          "name": "stderr",
          "output_type": "stream",
          "text": [
            "Epoch 47/300: 100%|██████████| 600/600 [00:19<00:00, 30.53it/s, loss_d=0.0112, loss_g=9.44]\n"
          ]
        },
        {
          "metadata": {
            "tags": null
          },
          "name": "stdout",
          "output_type": "stream",
          "text": [
            "[47/300]: loss_d: 0.011, loss_g: 9.442\n"
          ]
        },
        {
          "metadata": {
            "tags": null
          },
          "name": "stderr",
          "output_type": "stream",
          "text": [
            "Epoch 48/300: 100%|██████████| 600/600 [00:20<00:00, 29.50it/s, loss_d=0.0109, loss_g=9.61]\n"
          ]
        },
        {
          "metadata": {
            "tags": null
          },
          "name": "stdout",
          "output_type": "stream",
          "text": [
            "[48/300]: loss_d: 0.011, loss_g: 9.614\n"
          ]
        },
        {
          "metadata": {
            "tags": null
          },
          "name": "stderr",
          "output_type": "stream",
          "text": [
            "Epoch 49/300: 100%|██████████| 600/600 [00:20<00:00, 29.51it/s, loss_d=0.011, loss_g=9.69]\n"
          ]
        },
        {
          "metadata": {
            "tags": null
          },
          "name": "stdout",
          "output_type": "stream",
          "text": [
            "[49/300]: loss_d: 0.011, loss_g: 9.687\n"
          ]
        },
        {
          "metadata": {
            "tags": null
          },
          "name": "stderr",
          "output_type": "stream",
          "text": [
            "Epoch 50/300: 100%|██████████| 600/600 [00:19<00:00, 30.61it/s, loss_d=0.0104, loss_g=9.43]\n"
          ]
        },
        {
          "metadata": {
            "tags": null
          },
          "name": "stdout",
          "output_type": "stream",
          "text": [
            "[50/300]: loss_d: 0.010, loss_g: 9.431\n"
          ]
        },
        {
          "metadata": {
            "tags": null
          },
          "name": "stderr",
          "output_type": "stream",
          "text": [
            "Epoch 51/300: 100%|██████████| 600/600 [00:20<00:00, 29.63it/s, loss_d=0.00915, loss_g=9.55]\n"
          ]
        },
        {
          "metadata": {
            "tags": null
          },
          "name": "stdout",
          "output_type": "stream",
          "text": [
            "[51/300]: loss_d: 0.009, loss_g: 9.546\n"
          ]
        },
        {
          "metadata": {
            "tags": null
          },
          "name": "stderr",
          "output_type": "stream",
          "text": [
            "Epoch 52/300: 100%|██████████| 600/600 [00:20<00:00, 29.76it/s, loss_d=0.00907, loss_g=9.82]\n"
          ]
        },
        {
          "metadata": {
            "tags": null
          },
          "name": "stdout",
          "output_type": "stream",
          "text": [
            "[52/300]: loss_d: 0.009, loss_g: 9.819\n"
          ]
        },
        {
          "metadata": {
            "tags": null
          },
          "name": "stderr",
          "output_type": "stream",
          "text": [
            "Epoch 53/300: 100%|██████████| 600/600 [00:20<00:00, 29.21it/s, loss_d=0.0108, loss_g=9.98]\n"
          ]
        },
        {
          "metadata": {
            "tags": null
          },
          "name": "stdout",
          "output_type": "stream",
          "text": [
            "[53/300]: loss_d: 0.011, loss_g: 9.985\n"
          ]
        },
        {
          "metadata": {
            "tags": null
          },
          "name": "stderr",
          "output_type": "stream",
          "text": [
            "Epoch 54/300: 100%|██████████| 600/600 [00:20<00:00, 29.54it/s, loss_d=0.00977, loss_g=9.53]\n"
          ]
        },
        {
          "metadata": {
            "tags": null
          },
          "name": "stdout",
          "output_type": "stream",
          "text": [
            "[54/300]: loss_d: 0.010, loss_g: 9.529\n"
          ]
        },
        {
          "metadata": {
            "tags": null
          },
          "name": "stderr",
          "output_type": "stream",
          "text": [
            "Epoch 55/300: 100%|██████████| 600/600 [00:19<00:00, 30.15it/s, loss_d=0.00827, loss_g=9.99]\n"
          ]
        },
        {
          "metadata": {
            "tags": null
          },
          "name": "stdout",
          "output_type": "stream",
          "text": [
            "[55/300]: loss_d: 0.008, loss_g: 9.995\n"
          ]
        },
        {
          "metadata": {
            "tags": null
          },
          "name": "stderr",
          "output_type": "stream",
          "text": [
            "Epoch 56/300: 100%|██████████| 600/600 [00:20<00:00, 29.93it/s, loss_d=0.00828, loss_g=10.1]\n"
          ]
        },
        {
          "metadata": {
            "tags": null
          },
          "name": "stdout",
          "output_type": "stream",
          "text": [
            "[56/300]: loss_d: 0.008, loss_g: 10.143\n"
          ]
        },
        {
          "metadata": {
            "tags": null
          },
          "name": "stderr",
          "output_type": "stream",
          "text": [
            "Epoch 57/300: 100%|██████████| 600/600 [00:20<00:00, 29.64it/s, loss_d=0.00779, loss_g=9.94]\n"
          ]
        },
        {
          "metadata": {
            "tags": null
          },
          "name": "stdout",
          "output_type": "stream",
          "text": [
            "[57/300]: loss_d: 0.008, loss_g: 9.939\n"
          ]
        },
        {
          "metadata": {
            "tags": null
          },
          "name": "stderr",
          "output_type": "stream",
          "text": [
            "Epoch 58/300: 100%|██████████| 600/600 [00:19<00:00, 30.02it/s, loss_d=0.00917, loss_g=10.4]\n"
          ]
        },
        {
          "metadata": {
            "tags": null
          },
          "name": "stdout",
          "output_type": "stream",
          "text": [
            "[58/300]: loss_d: 0.009, loss_g: 10.411\n"
          ]
        },
        {
          "metadata": {
            "tags": null
          },
          "name": "stderr",
          "output_type": "stream",
          "text": [
            "Epoch 59/300: 100%|██████████| 600/600 [00:20<00:00, 29.57it/s, loss_d=0.0074, loss_g=10.1]\n"
          ]
        },
        {
          "metadata": {
            "tags": null
          },
          "name": "stdout",
          "output_type": "stream",
          "text": [
            "[59/300]: loss_d: 0.007, loss_g: 10.065\n"
          ]
        },
        {
          "metadata": {
            "tags": null
          },
          "name": "stderr",
          "output_type": "stream",
          "text": [
            "Epoch 60/300: 100%|██████████| 600/600 [00:20<00:00, 29.58it/s, loss_d=0.00792, loss_g=9.98]\n"
          ]
        },
        {
          "metadata": {
            "tags": null
          },
          "name": "stdout",
          "output_type": "stream",
          "text": [
            "[60/300]: loss_d: 0.008, loss_g: 9.978\n"
          ]
        },
        {
          "metadata": {
            "tags": null
          },
          "name": "stderr",
          "output_type": "stream",
          "text": [
            "Epoch 61/300: 100%|██████████| 600/600 [00:19<00:00, 30.38it/s, loss_d=0.00596, loss_g=10.2]\n"
          ]
        },
        {
          "metadata": {
            "tags": null
          },
          "name": "stdout",
          "output_type": "stream",
          "text": [
            "[61/300]: loss_d: 0.006, loss_g: 10.217\n"
          ]
        },
        {
          "metadata": {
            "tags": null
          },
          "name": "stderr",
          "output_type": "stream",
          "text": [
            "Epoch 62/300: 100%|██████████| 600/600 [00:21<00:00, 28.50it/s, loss_d=0.00724, loss_g=10.7]\n"
          ]
        },
        {
          "metadata": {
            "tags": null
          },
          "name": "stdout",
          "output_type": "stream",
          "text": [
            "[62/300]: loss_d: 0.007, loss_g: 10.738\n"
          ]
        },
        {
          "metadata": {
            "tags": null
          },
          "name": "stderr",
          "output_type": "stream",
          "text": [
            "Epoch 63/300: 100%|██████████| 600/600 [00:20<00:00, 29.99it/s, loss_d=0.00769, loss_g=10.5]\n"
          ]
        },
        {
          "metadata": {
            "tags": null
          },
          "name": "stdout",
          "output_type": "stream",
          "text": [
            "[63/300]: loss_d: 0.008, loss_g: 10.495\n"
          ]
        },
        {
          "metadata": {
            "tags": null
          },
          "name": "stderr",
          "output_type": "stream",
          "text": [
            "Epoch 64/300: 100%|██████████| 600/600 [00:20<00:00, 29.68it/s, loss_d=0.00609, loss_g=10.3]\n"
          ]
        },
        {
          "metadata": {
            "tags": null
          },
          "name": "stdout",
          "output_type": "stream",
          "text": [
            "[64/300]: loss_d: 0.006, loss_g: 10.267\n"
          ]
        },
        {
          "metadata": {
            "tags": null
          },
          "name": "stderr",
          "output_type": "stream",
          "text": [
            "Epoch 65/300: 100%|██████████| 600/600 [00:20<00:00, 29.65it/s, loss_d=0.00748, loss_g=10.2]\n"
          ]
        },
        {
          "metadata": {
            "tags": null
          },
          "name": "stdout",
          "output_type": "stream",
          "text": [
            "[65/300]: loss_d: 0.007, loss_g: 10.250\n"
          ]
        },
        {
          "metadata": {
            "tags": null
          },
          "name": "stderr",
          "output_type": "stream",
          "text": [
            "Epoch 66/300: 100%|██████████| 600/600 [00:19<00:00, 30.17it/s, loss_d=0.00652, loss_g=10.5]\n"
          ]
        },
        {
          "metadata": {
            "tags": null
          },
          "name": "stdout",
          "output_type": "stream",
          "text": [
            "[66/300]: loss_d: 0.007, loss_g: 10.522\n"
          ]
        },
        {
          "metadata": {
            "tags": null
          },
          "name": "stderr",
          "output_type": "stream",
          "text": [
            "Epoch 67/300: 100%|██████████| 600/600 [00:20<00:00, 29.53it/s, loss_d=0.00663, loss_g=10.5]\n"
          ]
        },
        {
          "metadata": {
            "tags": null
          },
          "name": "stdout",
          "output_type": "stream",
          "text": [
            "[67/300]: loss_d: 0.007, loss_g: 10.455\n"
          ]
        },
        {
          "metadata": {
            "tags": null
          },
          "name": "stderr",
          "output_type": "stream",
          "text": [
            "Epoch 68/300: 100%|██████████| 600/600 [00:20<00:00, 29.73it/s, loss_d=0.00627, loss_g=10.6]\n"
          ]
        },
        {
          "metadata": {
            "tags": null
          },
          "name": "stdout",
          "output_type": "stream",
          "text": [
            "[68/300]: loss_d: 0.006, loss_g: 10.550\n"
          ]
        },
        {
          "metadata": {
            "tags": null
          },
          "name": "stderr",
          "output_type": "stream",
          "text": [
            "Epoch 69/300: 100%|██████████| 600/600 [00:19<00:00, 30.39it/s, loss_d=0.00635, loss_g=10.6]\n"
          ]
        },
        {
          "metadata": {
            "tags": null
          },
          "name": "stdout",
          "output_type": "stream",
          "text": [
            "[69/300]: loss_d: 0.006, loss_g: 10.572\n"
          ]
        },
        {
          "metadata": {
            "tags": null
          },
          "name": "stderr",
          "output_type": "stream",
          "text": [
            "Epoch 70/300: 100%|██████████| 600/600 [00:21<00:00, 28.48it/s, loss_d=0.00528, loss_g=10.8]\n"
          ]
        },
        {
          "metadata": {
            "tags": null
          },
          "name": "stdout",
          "output_type": "stream",
          "text": [
            "[70/300]: loss_d: 0.005, loss_g: 10.776\n"
          ]
        },
        {
          "metadata": {
            "tags": null
          },
          "name": "stderr",
          "output_type": "stream",
          "text": [
            "Epoch 71/300: 100%|██████████| 600/600 [00:20<00:00, 29.54it/s, loss_d=0.00474, loss_g=10.9]\n"
          ]
        },
        {
          "metadata": {
            "tags": null
          },
          "name": "stdout",
          "output_type": "stream",
          "text": [
            "[71/300]: loss_d: 0.005, loss_g: 10.928\n"
          ]
        },
        {
          "metadata": {
            "tags": null
          },
          "name": "stderr",
          "output_type": "stream",
          "text": [
            "Epoch 72/300: 100%|██████████| 600/600 [00:19<00:00, 30.29it/s, loss_d=0.00539, loss_g=10.8]\n"
          ]
        },
        {
          "metadata": {
            "tags": null
          },
          "name": "stdout",
          "output_type": "stream",
          "text": [
            "[72/300]: loss_d: 0.005, loss_g: 10.810\n"
          ]
        },
        {
          "metadata": {
            "tags": null
          },
          "name": "stderr",
          "output_type": "stream",
          "text": [
            "Epoch 73/300: 100%|██████████| 600/600 [00:20<00:00, 29.12it/s, loss_d=0.00501, loss_g=11.5]\n"
          ]
        },
        {
          "metadata": {
            "tags": null
          },
          "name": "stdout",
          "output_type": "stream",
          "text": [
            "[73/300]: loss_d: 0.005, loss_g: 11.532\n"
          ]
        },
        {
          "metadata": {
            "tags": null
          },
          "name": "stderr",
          "output_type": "stream",
          "text": [
            "Epoch 74/300: 100%|██████████| 600/600 [00:20<00:00, 29.61it/s, loss_d=0.00554, loss_g=11.5]\n"
          ]
        },
        {
          "metadata": {
            "tags": null
          },
          "name": "stdout",
          "output_type": "stream",
          "text": [
            "[74/300]: loss_d: 0.006, loss_g: 11.458\n"
          ]
        },
        {
          "metadata": {
            "tags": null
          },
          "name": "stderr",
          "output_type": "stream",
          "text": [
            "Epoch 75/300: 100%|██████████| 600/600 [00:19<00:00, 30.30it/s, loss_d=0.00621, loss_g=10.8]\n"
          ]
        },
        {
          "metadata": {
            "tags": null
          },
          "name": "stdout",
          "output_type": "stream",
          "text": [
            "[75/300]: loss_d: 0.006, loss_g: 10.819\n"
          ]
        },
        {
          "metadata": {
            "tags": null
          },
          "name": "stderr",
          "output_type": "stream",
          "text": [
            "Epoch 76/300: 100%|██████████| 600/600 [00:20<00:00, 29.33it/s, loss_d=0.00482, loss_g=11.3]\n"
          ]
        },
        {
          "metadata": {
            "tags": null
          },
          "name": "stdout",
          "output_type": "stream",
          "text": [
            "[76/300]: loss_d: 0.005, loss_g: 11.297\n"
          ]
        },
        {
          "metadata": {
            "tags": null
          },
          "name": "stderr",
          "output_type": "stream",
          "text": [
            "Epoch 77/300: 100%|██████████| 600/600 [00:20<00:00, 29.59it/s, loss_d=0.00559, loss_g=11]\n"
          ]
        },
        {
          "metadata": {
            "tags": null
          },
          "name": "stdout",
          "output_type": "stream",
          "text": [
            "[77/300]: loss_d: 0.006, loss_g: 11.039\n"
          ]
        },
        {
          "metadata": {
            "tags": null
          },
          "name": "stderr",
          "output_type": "stream",
          "text": [
            "Epoch 78/300: 100%|██████████| 600/600 [00:20<00:00, 28.81it/s, loss_d=0.00369, loss_g=11.5]\n"
          ]
        },
        {
          "metadata": {
            "tags": null
          },
          "name": "stdout",
          "output_type": "stream",
          "text": [
            "[78/300]: loss_d: 0.004, loss_g: 11.531\n"
          ]
        },
        {
          "metadata": {
            "tags": null
          },
          "name": "stderr",
          "output_type": "stream",
          "text": [
            "Epoch 79/300: 100%|██████████| 600/600 [00:20<00:00, 29.03it/s, loss_d=0.00494, loss_g=11.3]\n"
          ]
        },
        {
          "metadata": {
            "tags": null
          },
          "name": "stdout",
          "output_type": "stream",
          "text": [
            "[79/300]: loss_d: 0.005, loss_g: 11.310\n"
          ]
        },
        {
          "metadata": {
            "tags": null
          },
          "name": "stderr",
          "output_type": "stream",
          "text": [
            "Epoch 80/300: 100%|██████████| 600/600 [00:20<00:00, 29.25it/s, loss_d=0.0051, loss_g=10.8]\n"
          ]
        },
        {
          "metadata": {
            "tags": null
          },
          "name": "stdout",
          "output_type": "stream",
          "text": [
            "[80/300]: loss_d: 0.005, loss_g: 10.810\n"
          ]
        },
        {
          "metadata": {
            "tags": null
          },
          "name": "stderr",
          "output_type": "stream",
          "text": [
            "Epoch 81/300: 100%|██████████| 600/600 [00:20<00:00, 29.19it/s, loss_d=0.00422, loss_g=11.5]\n"
          ]
        },
        {
          "metadata": {
            "tags": null
          },
          "name": "stdout",
          "output_type": "stream",
          "text": [
            "[81/300]: loss_d: 0.004, loss_g: 11.478\n"
          ]
        },
        {
          "metadata": {
            "tags": null
          },
          "name": "stderr",
          "output_type": "stream",
          "text": [
            "Epoch 82/300: 100%|██████████| 600/600 [00:20<00:00, 28.72it/s, loss_d=0.00538, loss_g=11.2]\n"
          ]
        },
        {
          "metadata": {
            "tags": null
          },
          "name": "stdout",
          "output_type": "stream",
          "text": [
            "[82/300]: loss_d: 0.005, loss_g: 11.234\n"
          ]
        },
        {
          "metadata": {
            "tags": null
          },
          "name": "stderr",
          "output_type": "stream",
          "text": [
            "Epoch 83/300: 100%|██████████| 600/600 [00:20<00:00, 28.86it/s, loss_d=0.00364, loss_g=11.2]\n"
          ]
        },
        {
          "metadata": {
            "tags": null
          },
          "name": "stdout",
          "output_type": "stream",
          "text": [
            "[83/300]: loss_d: 0.004, loss_g: 11.192\n"
          ]
        },
        {
          "metadata": {
            "tags": null
          },
          "name": "stderr",
          "output_type": "stream",
          "text": [
            "Epoch 84/300: 100%|██████████| 600/600 [00:20<00:00, 29.48it/s, loss_d=0.00449, loss_g=11.4]\n"
          ]
        },
        {
          "metadata": {
            "tags": null
          },
          "name": "stdout",
          "output_type": "stream",
          "text": [
            "[84/300]: loss_d: 0.004, loss_g: 11.374\n"
          ]
        },
        {
          "metadata": {
            "tags": null
          },
          "name": "stderr",
          "output_type": "stream",
          "text": [
            "Epoch 85/300: 100%|██████████| 600/600 [00:20<00:00, 28.84it/s, loss_d=0.00542, loss_g=11.4]\n"
          ]
        },
        {
          "metadata": {
            "tags": null
          },
          "name": "stdout",
          "output_type": "stream",
          "text": [
            "[85/300]: loss_d: 0.005, loss_g: 11.355\n"
          ]
        },
        {
          "metadata": {
            "tags": null
          },
          "name": "stderr",
          "output_type": "stream",
          "text": [
            "Epoch 86/300: 100%|██████████| 600/600 [00:21<00:00, 28.01it/s, loss_d=0.00461, loss_g=11.3]\n"
          ]
        },
        {
          "metadata": {
            "tags": null
          },
          "name": "stdout",
          "output_type": "stream",
          "text": [
            "[86/300]: loss_d: 0.005, loss_g: 11.264\n"
          ]
        },
        {
          "metadata": {
            "tags": null
          },
          "name": "stderr",
          "output_type": "stream",
          "text": [
            "Epoch 87/300: 100%|██████████| 600/600 [00:20<00:00, 29.55it/s, loss_d=0.00401, loss_g=11.6]\n"
          ]
        },
        {
          "metadata": {
            "tags": null
          },
          "name": "stdout",
          "output_type": "stream",
          "text": [
            "[87/300]: loss_d: 0.004, loss_g: 11.598\n"
          ]
        },
        {
          "metadata": {
            "tags": null
          },
          "name": "stderr",
          "output_type": "stream",
          "text": [
            "Epoch 88/300: 100%|██████████| 600/600 [00:20<00:00, 28.60it/s, loss_d=0.00409, loss_g=11.9]\n"
          ]
        },
        {
          "metadata": {
            "tags": null
          },
          "name": "stdout",
          "output_type": "stream",
          "text": [
            "[88/300]: loss_d: 0.004, loss_g: 11.940\n"
          ]
        },
        {
          "metadata": {
            "tags": null
          },
          "name": "stderr",
          "output_type": "stream",
          "text": [
            "Epoch 89/300: 100%|██████████| 600/600 [00:20<00:00, 28.58it/s, loss_d=0.00378, loss_g=12]\n"
          ]
        },
        {
          "metadata": {
            "tags": null
          },
          "name": "stdout",
          "output_type": "stream",
          "text": [
            "[89/300]: loss_d: 0.004, loss_g: 12.028\n"
          ]
        },
        {
          "metadata": {
            "tags": null
          },
          "name": "stderr",
          "output_type": "stream",
          "text": [
            "Epoch 90/300: 100%|██████████| 600/600 [00:20<00:00, 29.89it/s, loss_d=0.00451, loss_g=11.7]\n"
          ]
        },
        {
          "metadata": {
            "tags": null
          },
          "name": "stdout",
          "output_type": "stream",
          "text": [
            "[90/300]: loss_d: 0.005, loss_g: 11.722\n"
          ]
        },
        {
          "metadata": {
            "tags": null
          },
          "name": "stderr",
          "output_type": "stream",
          "text": [
            "Epoch 91/300: 100%|██████████| 600/600 [00:20<00:00, 29.13it/s, loss_d=0.00363, loss_g=11.6]\n"
          ]
        },
        {
          "metadata": {
            "tags": null
          },
          "name": "stdout",
          "output_type": "stream",
          "text": [
            "[91/300]: loss_d: 0.004, loss_g: 11.611\n"
          ]
        },
        {
          "metadata": {
            "tags": null
          },
          "name": "stderr",
          "output_type": "stream",
          "text": [
            "Epoch 92/300: 100%|██████████| 600/600 [00:20<00:00, 29.28it/s, loss_d=0.00382, loss_g=11.6]\n"
          ]
        },
        {
          "metadata": {
            "tags": null
          },
          "name": "stdout",
          "output_type": "stream",
          "text": [
            "[92/300]: loss_d: 0.004, loss_g: 11.575\n"
          ]
        },
        {
          "metadata": {
            "tags": null
          },
          "name": "stderr",
          "output_type": "stream",
          "text": [
            "Epoch 93/300: 100%|██████████| 600/600 [00:20<00:00, 29.85it/s, loss_d=0.00341, loss_g=12]\n"
          ]
        },
        {
          "metadata": {
            "tags": null
          },
          "name": "stdout",
          "output_type": "stream",
          "text": [
            "[93/300]: loss_d: 0.003, loss_g: 12.029\n"
          ]
        },
        {
          "metadata": {
            "tags": null
          },
          "name": "stderr",
          "output_type": "stream",
          "text": [
            "Epoch 94/300: 100%|██████████| 600/600 [00:19<00:00, 31.46it/s, loss_d=0.00424, loss_g=11.8]\n"
          ]
        },
        {
          "metadata": {
            "tags": null
          },
          "name": "stdout",
          "output_type": "stream",
          "text": [
            "[94/300]: loss_d: 0.004, loss_g: 11.849\n"
          ]
        },
        {
          "metadata": {
            "tags": null
          },
          "name": "stderr",
          "output_type": "stream",
          "text": [
            "Epoch 95/300: 100%|██████████| 600/600 [00:19<00:00, 31.04it/s, loss_d=0.00345, loss_g=11.3]\n"
          ]
        },
        {
          "metadata": {
            "tags": null
          },
          "name": "stdout",
          "output_type": "stream",
          "text": [
            "[95/300]: loss_d: 0.003, loss_g: 11.345\n"
          ]
        },
        {
          "metadata": {
            "tags": null
          },
          "name": "stderr",
          "output_type": "stream",
          "text": [
            "Epoch 96/300: 100%|██████████| 600/600 [00:19<00:00, 31.50it/s, loss_d=0.00392, loss_g=11.5]\n"
          ]
        },
        {
          "metadata": {
            "tags": null
          },
          "name": "stdout",
          "output_type": "stream",
          "text": [
            "[96/300]: loss_d: 0.004, loss_g: 11.491\n"
          ]
        },
        {
          "metadata": {
            "tags": null
          },
          "name": "stderr",
          "output_type": "stream",
          "text": [
            "Epoch 97/300: 100%|██████████| 600/600 [00:18<00:00, 31.90it/s, loss_d=0.00365, loss_g=11.7]\n"
          ]
        },
        {
          "metadata": {
            "tags": null
          },
          "name": "stdout",
          "output_type": "stream",
          "text": [
            "[97/300]: loss_d: 0.004, loss_g: 11.682\n"
          ]
        },
        {
          "metadata": {
            "tags": null
          },
          "name": "stderr",
          "output_type": "stream",
          "text": [
            "Epoch 98/300: 100%|██████████| 600/600 [00:18<00:00, 32.29it/s, loss_d=0.0031, loss_g=11.6]\n"
          ]
        },
        {
          "metadata": {
            "tags": null
          },
          "name": "stdout",
          "output_type": "stream",
          "text": [
            "[98/300]: loss_d: 0.003, loss_g: 11.632\n"
          ]
        },
        {
          "metadata": {
            "tags": null
          },
          "name": "stderr",
          "output_type": "stream",
          "text": [
            "Epoch 99/300: 100%|██████████| 600/600 [00:19<00:00, 31.54it/s, loss_d=0.0033, loss_g=12.5]\n"
          ]
        },
        {
          "metadata": {
            "tags": null
          },
          "name": "stdout",
          "output_type": "stream",
          "text": [
            "[99/300]: loss_d: 0.003, loss_g: 12.455\n"
          ]
        },
        {
          "metadata": {
            "tags": null
          },
          "name": "stderr",
          "output_type": "stream",
          "text": [
            "Epoch 100/300: 100%|██████████| 600/600 [00:18<00:00, 32.58it/s, loss_d=0.00427, loss_g=12.2]\n"
          ]
        },
        {
          "metadata": {
            "tags": null
          },
          "name": "stdout",
          "output_type": "stream",
          "text": [
            "[100/300]: loss_d: 0.004, loss_g: 12.234\n"
          ]
        },
        {
          "metadata": {
            "tags": null
          },
          "name": "stderr",
          "output_type": "stream",
          "text": [
            "Epoch 101/300: 100%|██████████| 600/600 [00:20<00:00, 29.40it/s, loss_d=0.00173, loss_g=11.7]\n"
          ]
        },
        {
          "metadata": {
            "tags": null
          },
          "name": "stdout",
          "output_type": "stream",
          "text": [
            "[101/300]: loss_d: 0.002, loss_g: 11.696\n"
          ]
        },
        {
          "metadata": {
            "tags": null
          },
          "name": "stderr",
          "output_type": "stream",
          "text": [
            "Epoch 102/300: 100%|██████████| 600/600 [00:20<00:00, 29.55it/s, loss_d=0.00294, loss_g=12.6]\n"
          ]
        },
        {
          "metadata": {
            "tags": null
          },
          "name": "stdout",
          "output_type": "stream",
          "text": [
            "[102/300]: loss_d: 0.003, loss_g: 12.581\n"
          ]
        },
        {
          "metadata": {
            "tags": null
          },
          "name": "stderr",
          "output_type": "stream",
          "text": [
            "Epoch 103/300: 100%|██████████| 600/600 [00:21<00:00, 28.04it/s, loss_d=0.00288, loss_g=12.6]\n"
          ]
        },
        {
          "metadata": {
            "tags": null
          },
          "name": "stdout",
          "output_type": "stream",
          "text": [
            "[103/300]: loss_d: 0.003, loss_g: 12.621\n"
          ]
        },
        {
          "metadata": {
            "tags": null
          },
          "name": "stderr",
          "output_type": "stream",
          "text": [
            "Epoch 104/300: 100%|██████████| 600/600 [00:20<00:00, 28.70it/s, loss_d=0.00375, loss_g=11.6]\n"
          ]
        },
        {
          "metadata": {
            "tags": null
          },
          "name": "stdout",
          "output_type": "stream",
          "text": [
            "[104/300]: loss_d: 0.004, loss_g: 11.648\n"
          ]
        },
        {
          "metadata": {
            "tags": null
          },
          "name": "stderr",
          "output_type": "stream",
          "text": [
            "Epoch 105/300: 100%|██████████| 600/600 [00:20<00:00, 28.97it/s, loss_d=0.00327, loss_g=11.7]\n"
          ]
        },
        {
          "metadata": {
            "tags": null
          },
          "name": "stdout",
          "output_type": "stream",
          "text": [
            "[105/300]: loss_d: 0.003, loss_g: 11.711\n"
          ]
        },
        {
          "metadata": {
            "tags": null
          },
          "name": "stderr",
          "output_type": "stream",
          "text": [
            "Epoch 106/300: 100%|██████████| 600/600 [00:20<00:00, 28.89it/s, loss_d=0.0025, loss_g=12.1]\n"
          ]
        },
        {
          "metadata": {
            "tags": null
          },
          "name": "stdout",
          "output_type": "stream",
          "text": [
            "[106/300]: loss_d: 0.002, loss_g: 12.090\n"
          ]
        },
        {
          "metadata": {
            "tags": null
          },
          "name": "stderr",
          "output_type": "stream",
          "text": [
            "Epoch 107/300: 100%|██████████| 600/600 [00:20<00:00, 28.65it/s, loss_d=0.00299, loss_g=12.6]\n"
          ]
        },
        {
          "metadata": {
            "tags": null
          },
          "name": "stdout",
          "output_type": "stream",
          "text": [
            "[107/300]: loss_d: 0.003, loss_g: 12.571\n"
          ]
        },
        {
          "metadata": {
            "tags": null
          },
          "name": "stderr",
          "output_type": "stream",
          "text": [
            "Epoch 108/300: 100%|██████████| 600/600 [00:20<00:00, 28.76it/s, loss_d=0.00319, loss_g=12.4]\n"
          ]
        },
        {
          "metadata": {
            "tags": null
          },
          "name": "stdout",
          "output_type": "stream",
          "text": [
            "[108/300]: loss_d: 0.003, loss_g: 12.363\n"
          ]
        },
        {
          "metadata": {
            "tags": null
          },
          "name": "stderr",
          "output_type": "stream",
          "text": [
            "Epoch 109/300: 100%|██████████| 600/600 [00:20<00:00, 29.31it/s, loss_d=0.00322, loss_g=12.1]\n"
          ]
        },
        {
          "metadata": {
            "tags": null
          },
          "name": "stdout",
          "output_type": "stream",
          "text": [
            "[109/300]: loss_d: 0.003, loss_g: 12.071\n"
          ]
        },
        {
          "metadata": {
            "tags": null
          },
          "name": "stderr",
          "output_type": "stream",
          "text": [
            "Epoch 110/300: 100%|██████████| 600/600 [00:21<00:00, 28.41it/s, loss_d=0.00344, loss_g=11.7]\n"
          ]
        },
        {
          "metadata": {
            "tags": null
          },
          "name": "stdout",
          "output_type": "stream",
          "text": [
            "[110/300]: loss_d: 0.003, loss_g: 11.659\n"
          ]
        },
        {
          "metadata": {
            "tags": null
          },
          "name": "stderr",
          "output_type": "stream",
          "text": [
            "Epoch 111/300: 100%|██████████| 600/600 [00:21<00:00, 27.48it/s, loss_d=0.00311, loss_g=11.8]\n"
          ]
        },
        {
          "metadata": {
            "tags": null
          },
          "name": "stdout",
          "output_type": "stream",
          "text": [
            "[111/300]: loss_d: 0.003, loss_g: 11.759\n"
          ]
        },
        {
          "metadata": {
            "tags": null
          },
          "name": "stderr",
          "output_type": "stream",
          "text": [
            "Epoch 112/300: 100%|██████████| 600/600 [00:20<00:00, 28.88it/s, loss_d=0.00409, loss_g=12]\n"
          ]
        },
        {
          "metadata": {
            "tags": null
          },
          "name": "stdout",
          "output_type": "stream",
          "text": [
            "[112/300]: loss_d: 0.004, loss_g: 11.984\n"
          ]
        },
        {
          "metadata": {
            "tags": null
          },
          "name": "stderr",
          "output_type": "stream",
          "text": [
            "Epoch 113/300: 100%|██████████| 600/600 [00:20<00:00, 28.89it/s, loss_d=0.00262, loss_g=11.6]\n"
          ]
        },
        {
          "metadata": {
            "tags": null
          },
          "name": "stdout",
          "output_type": "stream",
          "text": [
            "[113/300]: loss_d: 0.003, loss_g: 11.644\n"
          ]
        },
        {
          "metadata": {
            "tags": null
          },
          "name": "stderr",
          "output_type": "stream",
          "text": [
            "Epoch 114/300: 100%|██████████| 600/600 [00:20<00:00, 28.72it/s, loss_d=0.00282, loss_g=12.4]\n"
          ]
        },
        {
          "metadata": {
            "tags": null
          },
          "name": "stdout",
          "output_type": "stream",
          "text": [
            "[114/300]: loss_d: 0.003, loss_g: 12.386\n"
          ]
        },
        {
          "metadata": {
            "tags": null
          },
          "name": "stderr",
          "output_type": "stream",
          "text": [
            "Epoch 115/300: 100%|██████████| 600/600 [00:20<00:00, 29.90it/s, loss_d=0.00352, loss_g=12.6]\n"
          ]
        },
        {
          "metadata": {
            "tags": null
          },
          "name": "stdout",
          "output_type": "stream",
          "text": [
            "[115/300]: loss_d: 0.004, loss_g: 12.572\n"
          ]
        },
        {
          "metadata": {
            "tags": null
          },
          "name": "stderr",
          "output_type": "stream",
          "text": [
            "Epoch 116/300: 100%|██████████| 600/600 [00:20<00:00, 29.08it/s, loss_d=0.00224, loss_g=12.5]\n"
          ]
        },
        {
          "metadata": {
            "tags": null
          },
          "name": "stdout",
          "output_type": "stream",
          "text": [
            "[116/300]: loss_d: 0.002, loss_g: 12.538\n"
          ]
        },
        {
          "metadata": {
            "tags": null
          },
          "name": "stderr",
          "output_type": "stream",
          "text": [
            "Epoch 117/300: 100%|██████████| 600/600 [00:20<00:00, 28.72it/s, loss_d=0.00297, loss_g=12.9]\n"
          ]
        },
        {
          "metadata": {
            "tags": null
          },
          "name": "stdout",
          "output_type": "stream",
          "text": [
            "[117/300]: loss_d: 0.003, loss_g: 12.878\n"
          ]
        },
        {
          "metadata": {
            "tags": null
          },
          "name": "stderr",
          "output_type": "stream",
          "text": [
            "Epoch 118/300: 100%|██████████| 600/600 [00:20<00:00, 29.43it/s, loss_d=0.00357, loss_g=11.9]\n"
          ]
        },
        {
          "metadata": {
            "tags": null
          },
          "name": "stdout",
          "output_type": "stream",
          "text": [
            "[118/300]: loss_d: 0.004, loss_g: 11.934\n"
          ]
        },
        {
          "metadata": {
            "tags": null
          },
          "name": "stderr",
          "output_type": "stream",
          "text": [
            "Epoch 119/300: 100%|██████████| 600/600 [00:21<00:00, 27.88it/s, loss_d=0.00336, loss_g=11.6]\n"
          ]
        },
        {
          "metadata": {
            "tags": null
          },
          "name": "stdout",
          "output_type": "stream",
          "text": [
            "[119/300]: loss_d: 0.003, loss_g: 11.565\n"
          ]
        },
        {
          "metadata": {
            "tags": null
          },
          "name": "stderr",
          "output_type": "stream",
          "text": [
            "Epoch 120/300: 100%|██████████| 600/600 [00:21<00:00, 27.84it/s, loss_d=0.00221, loss_g=12]\n"
          ]
        },
        {
          "metadata": {
            "tags": null
          },
          "name": "stdout",
          "output_type": "stream",
          "text": [
            "[120/300]: loss_d: 0.002, loss_g: 11.967\n"
          ]
        },
        {
          "metadata": {
            "tags": null
          },
          "name": "stderr",
          "output_type": "stream",
          "text": [
            "Epoch 121/300: 100%|██████████| 600/600 [00:20<00:00, 29.19it/s, loss_d=0.00353, loss_g=12.7]\n"
          ]
        },
        {
          "metadata": {
            "tags": null
          },
          "name": "stdout",
          "output_type": "stream",
          "text": [
            "[121/300]: loss_d: 0.004, loss_g: 12.726\n"
          ]
        },
        {
          "metadata": {
            "tags": null
          },
          "name": "stderr",
          "output_type": "stream",
          "text": [
            "Epoch 122/300: 100%|██████████| 600/600 [00:21<00:00, 28.18it/s, loss_d=0.00379, loss_g=12.6]\n"
          ]
        },
        {
          "metadata": {
            "tags": null
          },
          "name": "stdout",
          "output_type": "stream",
          "text": [
            "[122/300]: loss_d: 0.004, loss_g: 12.601\n"
          ]
        },
        {
          "metadata": {
            "tags": null
          },
          "name": "stderr",
          "output_type": "stream",
          "text": [
            "Epoch 123/300: 100%|██████████| 600/600 [00:21<00:00, 28.36it/s, loss_d=0.00366, loss_g=12.3]\n"
          ]
        },
        {
          "metadata": {
            "tags": null
          },
          "name": "stdout",
          "output_type": "stream",
          "text": [
            "[123/300]: loss_d: 0.004, loss_g: 12.332\n"
          ]
        },
        {
          "metadata": {
            "tags": null
          },
          "name": "stderr",
          "output_type": "stream",
          "text": [
            "Epoch 124/300: 100%|██████████| 600/600 [00:20<00:00, 28.68it/s, loss_d=0.0028, loss_g=12]\n"
          ]
        },
        {
          "metadata": {
            "tags": null
          },
          "name": "stdout",
          "output_type": "stream",
          "text": [
            "[124/300]: loss_d: 0.003, loss_g: 11.967\n"
          ]
        },
        {
          "metadata": {
            "tags": null
          },
          "name": "stderr",
          "output_type": "stream",
          "text": [
            "Epoch 125/300: 100%|██████████| 600/600 [00:21<00:00, 28.32it/s, loss_d=0.00299, loss_g=12.3]\n"
          ]
        },
        {
          "metadata": {
            "tags": null
          },
          "name": "stdout",
          "output_type": "stream",
          "text": [
            "[125/300]: loss_d: 0.003, loss_g: 12.328\n"
          ]
        },
        {
          "metadata": {
            "tags": null
          },
          "name": "stderr",
          "output_type": "stream",
          "text": [
            "Epoch 126/300: 100%|██████████| 600/600 [00:21<00:00, 28.22it/s, loss_d=0.00185, loss_g=11.6]\n"
          ]
        },
        {
          "metadata": {
            "tags": null
          },
          "name": "stdout",
          "output_type": "stream",
          "text": [
            "[126/300]: loss_d: 0.002, loss_g: 11.600\n"
          ]
        },
        {
          "metadata": {
            "tags": null
          },
          "name": "stderr",
          "output_type": "stream",
          "text": [
            "Epoch 127/300: 100%|██████████| 600/600 [00:21<00:00, 27.76it/s, loss_d=0.00186, loss_g=12.4]\n"
          ]
        },
        {
          "metadata": {
            "tags": null
          },
          "name": "stdout",
          "output_type": "stream",
          "text": [
            "[127/300]: loss_d: 0.002, loss_g: 12.372\n"
          ]
        },
        {
          "metadata": {
            "tags": null
          },
          "name": "stderr",
          "output_type": "stream",
          "text": [
            "Epoch 128/300: 100%|██████████| 600/600 [00:21<00:00, 27.70it/s, loss_d=0.00168, loss_g=13.1]\n"
          ]
        },
        {
          "metadata": {
            "tags": null
          },
          "name": "stdout",
          "output_type": "stream",
          "text": [
            "[128/300]: loss_d: 0.002, loss_g: 13.113\n"
          ]
        },
        {
          "metadata": {
            "tags": null
          },
          "name": "stderr",
          "output_type": "stream",
          "text": [
            "Epoch 129/300: 100%|██████████| 600/600 [00:21<00:00, 28.14it/s, loss_d=0.00213, loss_g=13.5]\n"
          ]
        },
        {
          "metadata": {
            "tags": null
          },
          "name": "stdout",
          "output_type": "stream",
          "text": [
            "[129/300]: loss_d: 0.002, loss_g: 13.524\n"
          ]
        },
        {
          "metadata": {
            "tags": null
          },
          "name": "stderr",
          "output_type": "stream",
          "text": [
            "Epoch 130/300: 100%|██████████| 600/600 [00:20<00:00, 28.78it/s, loss_d=0.00206, loss_g=14]\n"
          ]
        },
        {
          "metadata": {
            "tags": null
          },
          "name": "stdout",
          "output_type": "stream",
          "text": [
            "[130/300]: loss_d: 0.002, loss_g: 14.037\n"
          ]
        },
        {
          "metadata": {
            "tags": null
          },
          "name": "stderr",
          "output_type": "stream",
          "text": [
            "Epoch 131/300: 100%|██████████| 600/600 [00:20<00:00, 28.98it/s, loss_d=0.00207, loss_g=13.6]\n"
          ]
        },
        {
          "metadata": {
            "tags": null
          },
          "name": "stdout",
          "output_type": "stream",
          "text": [
            "[131/300]: loss_d: 0.002, loss_g: 13.600\n"
          ]
        },
        {
          "metadata": {
            "tags": null
          },
          "name": "stderr",
          "output_type": "stream",
          "text": [
            "Epoch 132/300: 100%|██████████| 600/600 [00:21<00:00, 28.57it/s, loss_d=0.00183, loss_g=13.3]\n"
          ]
        },
        {
          "metadata": {
            "tags": null
          },
          "name": "stdout",
          "output_type": "stream",
          "text": [
            "[132/300]: loss_d: 0.002, loss_g: 13.344\n"
          ]
        },
        {
          "metadata": {
            "tags": null
          },
          "name": "stderr",
          "output_type": "stream",
          "text": [
            "Epoch 133/300: 100%|██████████| 600/600 [00:20<00:00, 28.78it/s, loss_d=0.0019, loss_g=13.4]\n"
          ]
        },
        {
          "metadata": {
            "tags": null
          },
          "name": "stdout",
          "output_type": "stream",
          "text": [
            "[133/300]: loss_d: 0.002, loss_g: 13.447\n"
          ]
        },
        {
          "metadata": {
            "tags": null
          },
          "name": "stderr",
          "output_type": "stream",
          "text": [
            "Epoch 134/300: 100%|██████████| 600/600 [00:20<00:00, 28.71it/s, loss_d=0.00193, loss_g=13.4]\n"
          ]
        },
        {
          "metadata": {
            "tags": null
          },
          "name": "stdout",
          "output_type": "stream",
          "text": [
            "[134/300]: loss_d: 0.002, loss_g: 13.403\n"
          ]
        },
        {
          "metadata": {
            "tags": null
          },
          "name": "stderr",
          "output_type": "stream",
          "text": [
            "Epoch 135/300: 100%|██████████| 600/600 [00:21<00:00, 27.78it/s, loss_d=0.00265, loss_g=14.2]\n"
          ]
        },
        {
          "metadata": {
            "tags": null
          },
          "name": "stdout",
          "output_type": "stream",
          "text": [
            "[135/300]: loss_d: 0.003, loss_g: 14.207\n"
          ]
        },
        {
          "metadata": {
            "tags": null
          },
          "name": "stderr",
          "output_type": "stream",
          "text": [
            "Epoch 136/300: 100%|██████████| 600/600 [00:21<00:00, 28.20it/s, loss_d=0.00193, loss_g=12.7]\n"
          ]
        },
        {
          "metadata": {
            "tags": null
          },
          "name": "stdout",
          "output_type": "stream",
          "text": [
            "[136/300]: loss_d: 0.002, loss_g: 12.684\n"
          ]
        },
        {
          "metadata": {
            "tags": null
          },
          "name": "stderr",
          "output_type": "stream",
          "text": [
            "Epoch 137/300: 100%|██████████| 600/600 [00:20<00:00, 28.81it/s, loss_d=0.00179, loss_g=13.8]\n"
          ]
        },
        {
          "metadata": {
            "tags": null
          },
          "name": "stdout",
          "output_type": "stream",
          "text": [
            "[137/300]: loss_d: 0.002, loss_g: 13.833\n"
          ]
        },
        {
          "metadata": {
            "tags": null
          },
          "name": "stderr",
          "output_type": "stream",
          "text": [
            "Epoch 138/300: 100%|██████████| 600/600 [00:21<00:00, 28.08it/s, loss_d=0.00338, loss_g=13.5]\n"
          ]
        },
        {
          "metadata": {
            "tags": null
          },
          "name": "stdout",
          "output_type": "stream",
          "text": [
            "[138/300]: loss_d: 0.003, loss_g: 13.488\n"
          ]
        },
        {
          "metadata": {
            "tags": null
          },
          "name": "stderr",
          "output_type": "stream",
          "text": [
            "Epoch 139/300: 100%|██████████| 600/600 [00:21<00:00, 27.91it/s, loss_d=0.00255, loss_g=12.1]\n"
          ]
        },
        {
          "metadata": {
            "tags": null
          },
          "name": "stdout",
          "output_type": "stream",
          "text": [
            "[139/300]: loss_d: 0.003, loss_g: 12.078\n"
          ]
        },
        {
          "metadata": {
            "tags": null
          },
          "name": "stderr",
          "output_type": "stream",
          "text": [
            "Epoch 140/300: 100%|██████████| 600/600 [00:21<00:00, 28.47it/s, loss_d=0.00166, loss_g=12.6]\n"
          ]
        },
        {
          "metadata": {
            "tags": null
          },
          "name": "stdout",
          "output_type": "stream",
          "text": [
            "[140/300]: loss_d: 0.002, loss_g: 12.636\n"
          ]
        },
        {
          "metadata": {
            "tags": null
          },
          "name": "stderr",
          "output_type": "stream",
          "text": [
            "Epoch 141/300: 100%|██████████| 600/600 [00:21<00:00, 28.49it/s, loss_d=0.00178, loss_g=12.9]\n"
          ]
        },
        {
          "metadata": {
            "tags": null
          },
          "name": "stdout",
          "output_type": "stream",
          "text": [
            "[141/300]: loss_d: 0.002, loss_g: 12.939\n"
          ]
        },
        {
          "metadata": {
            "tags": null
          },
          "name": "stderr",
          "output_type": "stream",
          "text": [
            "Epoch 142/300: 100%|██████████| 600/600 [00:21<00:00, 28.17it/s, loss_d=0.00329, loss_g=13.1]\n"
          ]
        },
        {
          "metadata": {
            "tags": null
          },
          "name": "stdout",
          "output_type": "stream",
          "text": [
            "[142/300]: loss_d: 0.003, loss_g: 13.072\n"
          ]
        },
        {
          "metadata": {
            "tags": null
          },
          "name": "stderr",
          "output_type": "stream",
          "text": [
            "Epoch 143/300: 100%|██████████| 600/600 [00:21<00:00, 27.46it/s, loss_d=0.00276, loss_g=12.5]\n"
          ]
        },
        {
          "metadata": {
            "tags": null
          },
          "name": "stdout",
          "output_type": "stream",
          "text": [
            "[143/300]: loss_d: 0.003, loss_g: 12.525\n"
          ]
        },
        {
          "metadata": {
            "tags": null
          },
          "name": "stderr",
          "output_type": "stream",
          "text": [
            "Epoch 144/300: 100%|██████████| 600/600 [00:20<00:00, 28.84it/s, loss_d=0.00198, loss_g=12.4]\n"
          ]
        },
        {
          "metadata": {
            "tags": null
          },
          "name": "stdout",
          "output_type": "stream",
          "text": [
            "[144/300]: loss_d: 0.002, loss_g: 12.402\n"
          ]
        },
        {
          "metadata": {
            "tags": null
          },
          "name": "stderr",
          "output_type": "stream",
          "text": [
            "Epoch 145/300: 100%|██████████| 600/600 [00:21<00:00, 28.11it/s, loss_d=0.00145, loss_g=12.4]\n"
          ]
        },
        {
          "metadata": {
            "tags": null
          },
          "name": "stdout",
          "output_type": "stream",
          "text": [
            "[145/300]: loss_d: 0.001, loss_g: 12.380\n"
          ]
        },
        {
          "metadata": {
            "tags": null
          },
          "name": "stderr",
          "output_type": "stream",
          "text": [
            "Epoch 146/300: 100%|██████████| 600/600 [00:21<00:00, 28.10it/s, loss_d=0.00211, loss_g=12.5]\n"
          ]
        },
        {
          "metadata": {
            "tags": null
          },
          "name": "stdout",
          "output_type": "stream",
          "text": [
            "[146/300]: loss_d: 0.002, loss_g: 12.522\n"
          ]
        },
        {
          "metadata": {
            "tags": null
          },
          "name": "stderr",
          "output_type": "stream",
          "text": [
            "Epoch 147/300: 100%|██████████| 600/600 [00:20<00:00, 28.94it/s, loss_d=0.00215, loss_g=13.4]\n"
          ]
        },
        {
          "metadata": {
            "tags": null
          },
          "name": "stdout",
          "output_type": "stream",
          "text": [
            "[147/300]: loss_d: 0.002, loss_g: 13.353\n"
          ]
        },
        {
          "metadata": {
            "tags": null
          },
          "name": "stderr",
          "output_type": "stream",
          "text": [
            "Epoch 148/300: 100%|██████████| 600/600 [00:21<00:00, 27.88it/s, loss_d=0.00185, loss_g=13.4]\n"
          ]
        },
        {
          "metadata": {
            "tags": null
          },
          "name": "stdout",
          "output_type": "stream",
          "text": [
            "[148/300]: loss_d: 0.002, loss_g: 13.397\n"
          ]
        },
        {
          "metadata": {
            "tags": null
          },
          "name": "stderr",
          "output_type": "stream",
          "text": [
            "Epoch 149/300: 100%|██████████| 600/600 [00:21<00:00, 28.22it/s, loss_d=0.00254, loss_g=13.1]\n"
          ]
        },
        {
          "metadata": {
            "tags": null
          },
          "name": "stdout",
          "output_type": "stream",
          "text": [
            "[149/300]: loss_d: 0.003, loss_g: 13.147\n"
          ]
        },
        {
          "metadata": {
            "tags": null
          },
          "name": "stderr",
          "output_type": "stream",
          "text": [
            "Epoch 150/300: 100%|██████████| 600/600 [00:20<00:00, 28.97it/s, loss_d=0.00248, loss_g=12.5]\n"
          ]
        },
        {
          "metadata": {
            "tags": null
          },
          "name": "stdout",
          "output_type": "stream",
          "text": [
            "[150/300]: loss_d: 0.002, loss_g: 12.471\n"
          ]
        },
        {
          "metadata": {
            "tags": null
          },
          "name": "stderr",
          "output_type": "stream",
          "text": [
            "Epoch 151/300: 100%|██████████| 600/600 [00:21<00:00, 27.70it/s, loss_d=0.00302, loss_g=12.5]\n"
          ]
        },
        {
          "metadata": {
            "tags": null
          },
          "name": "stdout",
          "output_type": "stream",
          "text": [
            "[151/300]: loss_d: 0.003, loss_g: 12.489\n"
          ]
        },
        {
          "metadata": {
            "tags": null
          },
          "name": "stderr",
          "output_type": "stream",
          "text": [
            "Epoch 152/300: 100%|██████████| 600/600 [00:20<00:00, 28.71it/s, loss_d=0.0017, loss_g=13.1]\n"
          ]
        },
        {
          "metadata": {
            "tags": null
          },
          "name": "stdout",
          "output_type": "stream",
          "text": [
            "[152/300]: loss_d: 0.002, loss_g: 13.062\n"
          ]
        },
        {
          "metadata": {
            "tags": null
          },
          "name": "stderr",
          "output_type": "stream",
          "text": [
            "Epoch 153/300: 100%|██████████| 600/600 [00:20<00:00, 29.22it/s, loss_d=0.00287, loss_g=12.5]\n"
          ]
        },
        {
          "metadata": {
            "tags": null
          },
          "name": "stdout",
          "output_type": "stream",
          "text": [
            "[153/300]: loss_d: 0.003, loss_g: 12.527\n"
          ]
        },
        {
          "metadata": {
            "tags": null
          },
          "name": "stderr",
          "output_type": "stream",
          "text": [
            "Epoch 154/300: 100%|██████████| 600/600 [00:20<00:00, 29.05it/s, loss_d=0.00288, loss_g=12.5]\n"
          ]
        },
        {
          "metadata": {
            "tags": null
          },
          "name": "stdout",
          "output_type": "stream",
          "text": [
            "[154/300]: loss_d: 0.003, loss_g: 12.451\n"
          ]
        },
        {
          "metadata": {
            "tags": null
          },
          "name": "stderr",
          "output_type": "stream",
          "text": [
            "Epoch 155/300: 100%|██████████| 600/600 [00:20<00:00, 28.68it/s, loss_d=0.00185, loss_g=12.6]\n"
          ]
        },
        {
          "metadata": {
            "tags": null
          },
          "name": "stdout",
          "output_type": "stream",
          "text": [
            "[155/300]: loss_d: 0.002, loss_g: 12.623\n"
          ]
        },
        {
          "metadata": {
            "tags": null
          },
          "name": "stderr",
          "output_type": "stream",
          "text": [
            "Epoch 156/300: 100%|██████████| 600/600 [00:20<00:00, 29.25it/s, loss_d=0.00169, loss_g=12.8]\n"
          ]
        },
        {
          "metadata": {
            "tags": null
          },
          "name": "stdout",
          "output_type": "stream",
          "text": [
            "[156/300]: loss_d: 0.002, loss_g: 12.827\n"
          ]
        },
        {
          "metadata": {
            "tags": null
          },
          "name": "stderr",
          "output_type": "stream",
          "text": [
            "Epoch 157/300: 100%|██████████| 600/600 [00:20<00:00, 28.87it/s, loss_d=0.0026, loss_g=12.8]\n"
          ]
        },
        {
          "metadata": {
            "tags": null
          },
          "name": "stdout",
          "output_type": "stream",
          "text": [
            "[157/300]: loss_d: 0.003, loss_g: 12.769\n"
          ]
        },
        {
          "metadata": {
            "tags": null
          },
          "name": "stderr",
          "output_type": "stream",
          "text": [
            "Epoch 158/300: 100%|██████████| 600/600 [00:20<00:00, 28.66it/s, loss_d=0.00181, loss_g=12.1]\n"
          ]
        },
        {
          "metadata": {
            "tags": null
          },
          "name": "stdout",
          "output_type": "stream",
          "text": [
            "[158/300]: loss_d: 0.002, loss_g: 12.095\n"
          ]
        },
        {
          "metadata": {
            "tags": null
          },
          "name": "stderr",
          "output_type": "stream",
          "text": [
            "Epoch 159/300: 100%|██████████| 600/600 [00:21<00:00, 28.17it/s, loss_d=0.00265, loss_g=12.5]\n"
          ]
        },
        {
          "metadata": {
            "tags": null
          },
          "name": "stdout",
          "output_type": "stream",
          "text": [
            "[159/300]: loss_d: 0.003, loss_g: 12.519\n"
          ]
        },
        {
          "metadata": {
            "tags": null
          },
          "name": "stderr",
          "output_type": "stream",
          "text": [
            "Epoch 160/300: 100%|██████████| 600/600 [00:20<00:00, 29.13it/s, loss_d=0.00205, loss_g=12.8]\n"
          ]
        },
        {
          "metadata": {
            "tags": null
          },
          "name": "stdout",
          "output_type": "stream",
          "text": [
            "[160/300]: loss_d: 0.002, loss_g: 12.765\n"
          ]
        },
        {
          "metadata": {
            "tags": null
          },
          "name": "stderr",
          "output_type": "stream",
          "text": [
            "Epoch 161/300: 100%|██████████| 600/600 [00:20<00:00, 28.59it/s, loss_d=0.00115, loss_g=12.6]\n"
          ]
        },
        {
          "metadata": {
            "tags": null
          },
          "name": "stdout",
          "output_type": "stream",
          "text": [
            "[161/300]: loss_d: 0.001, loss_g: 12.639\n"
          ]
        },
        {
          "metadata": {
            "tags": null
          },
          "name": "stderr",
          "output_type": "stream",
          "text": [
            "Epoch 162/300: 100%|██████████| 600/600 [00:20<00:00, 28.88it/s, loss_d=0.00173, loss_g=13.2]\n"
          ]
        },
        {
          "metadata": {
            "tags": null
          },
          "name": "stdout",
          "output_type": "stream",
          "text": [
            "[162/300]: loss_d: 0.002, loss_g: 13.242\n"
          ]
        },
        {
          "metadata": {
            "tags": null
          },
          "name": "stderr",
          "output_type": "stream",
          "text": [
            "Epoch 163/300: 100%|██████████| 600/600 [00:20<00:00, 28.84it/s, loss_d=0.00213, loss_g=13.1]\n"
          ]
        },
        {
          "metadata": {
            "tags": null
          },
          "name": "stdout",
          "output_type": "stream",
          "text": [
            "[163/300]: loss_d: 0.002, loss_g: 13.122\n"
          ]
        },
        {
          "metadata": {
            "tags": null
          },
          "name": "stderr",
          "output_type": "stream",
          "text": [
            "Epoch 164/300: 100%|██████████| 600/600 [00:20<00:00, 28.70it/s, loss_d=0.00174, loss_g=12.4]\n"
          ]
        },
        {
          "metadata": {
            "tags": null
          },
          "name": "stdout",
          "output_type": "stream",
          "text": [
            "[164/300]: loss_d: 0.002, loss_g: 12.398\n"
          ]
        },
        {
          "metadata": {
            "tags": null
          },
          "name": "stderr",
          "output_type": "stream",
          "text": [
            "Epoch 165/300: 100%|██████████| 600/600 [00:21<00:00, 28.29it/s, loss_d=0.00186, loss_g=13.4]\n"
          ]
        },
        {
          "metadata": {
            "tags": null
          },
          "name": "stdout",
          "output_type": "stream",
          "text": [
            "[165/300]: loss_d: 0.002, loss_g: 13.395\n"
          ]
        },
        {
          "metadata": {
            "tags": null
          },
          "name": "stderr",
          "output_type": "stream",
          "text": [
            "Epoch 166/300: 100%|██████████| 600/600 [00:20<00:00, 29.19it/s, loss_d=0.00242, loss_g=14.1]\n"
          ]
        },
        {
          "metadata": {
            "tags": null
          },
          "name": "stdout",
          "output_type": "stream",
          "text": [
            "[166/300]: loss_d: 0.002, loss_g: 14.064\n"
          ]
        },
        {
          "metadata": {
            "tags": null
          },
          "name": "stderr",
          "output_type": "stream",
          "text": [
            "Epoch 167/300: 100%|██████████| 600/600 [00:21<00:00, 27.72it/s, loss_d=0.00162, loss_g=13.5]\n"
          ]
        },
        {
          "metadata": {
            "tags": null
          },
          "name": "stdout",
          "output_type": "stream",
          "text": [
            "[167/300]: loss_d: 0.002, loss_g: 13.540\n"
          ]
        },
        {
          "metadata": {
            "tags": null
          },
          "name": "stderr",
          "output_type": "stream",
          "text": [
            "Epoch 168/300: 100%|██████████| 600/600 [00:21<00:00, 28.54it/s, loss_d=0.00235, loss_g=13.1]\n"
          ]
        },
        {
          "metadata": {
            "tags": null
          },
          "name": "stdout",
          "output_type": "stream",
          "text": [
            "[168/300]: loss_d: 0.002, loss_g: 13.058\n"
          ]
        },
        {
          "metadata": {
            "tags": null
          },
          "name": "stderr",
          "output_type": "stream",
          "text": [
            "Epoch 169/300: 100%|██████████| 600/600 [00:20<00:00, 29.57it/s, loss_d=0.00127, loss_g=14]\n"
          ]
        },
        {
          "metadata": {
            "tags": null
          },
          "name": "stdout",
          "output_type": "stream",
          "text": [
            "[169/300]: loss_d: 0.001, loss_g: 13.957\n"
          ]
        },
        {
          "metadata": {
            "tags": null
          },
          "name": "stderr",
          "output_type": "stream",
          "text": [
            "Epoch 170/300: 100%|██████████| 600/600 [00:20<00:00, 28.69it/s, loss_d=0.00157, loss_g=13.4]\n"
          ]
        },
        {
          "metadata": {
            "tags": null
          },
          "name": "stdout",
          "output_type": "stream",
          "text": [
            "[170/300]: loss_d: 0.002, loss_g: 13.364\n"
          ]
        },
        {
          "metadata": {
            "tags": null
          },
          "name": "stderr",
          "output_type": "stream",
          "text": [
            "Epoch 171/300: 100%|██████████| 600/600 [00:21<00:00, 28.50it/s, loss_d=0.00145, loss_g=13]\n"
          ]
        },
        {
          "metadata": {
            "tags": null
          },
          "name": "stdout",
          "output_type": "stream",
          "text": [
            "[171/300]: loss_d: 0.001, loss_g: 12.987\n"
          ]
        },
        {
          "metadata": {
            "tags": null
          },
          "name": "stderr",
          "output_type": "stream",
          "text": [
            "Epoch 172/300: 100%|██████████| 600/600 [00:20<00:00, 29.36it/s, loss_d=0.00257, loss_g=13.4]\n"
          ]
        },
        {
          "metadata": {
            "tags": null
          },
          "name": "stdout",
          "output_type": "stream",
          "text": [
            "[172/300]: loss_d: 0.003, loss_g: 13.438\n"
          ]
        },
        {
          "metadata": {
            "tags": null
          },
          "name": "stderr",
          "output_type": "stream",
          "text": [
            "Epoch 173/300: 100%|██████████| 600/600 [00:21<00:00, 28.57it/s, loss_d=0.00171, loss_g=12.7]\n"
          ]
        },
        {
          "metadata": {
            "tags": null
          },
          "name": "stdout",
          "output_type": "stream",
          "text": [
            "[173/300]: loss_d: 0.002, loss_g: 12.742\n"
          ]
        },
        {
          "metadata": {
            "tags": null
          },
          "name": "stderr",
          "output_type": "stream",
          "text": [
            "Epoch 174/300: 100%|██████████| 600/600 [00:21<00:00, 28.51it/s, loss_d=0.00174, loss_g=13]\n"
          ]
        },
        {
          "metadata": {
            "tags": null
          },
          "name": "stdout",
          "output_type": "stream",
          "text": [
            "[174/300]: loss_d: 0.002, loss_g: 13.043\n"
          ]
        },
        {
          "metadata": {
            "tags": null
          },
          "name": "stderr",
          "output_type": "stream",
          "text": [
            "Epoch 175/300: 100%|██████████| 600/600 [00:20<00:00, 28.59it/s, loss_d=0.0018, loss_g=13.3]\n"
          ]
        },
        {
          "metadata": {
            "tags": null
          },
          "name": "stdout",
          "output_type": "stream",
          "text": [
            "[175/300]: loss_d: 0.002, loss_g: 13.298\n"
          ]
        },
        {
          "metadata": {
            "tags": null
          },
          "name": "stderr",
          "output_type": "stream",
          "text": [
            "Epoch 176/300: 100%|██████████| 600/600 [00:20<00:00, 28.78it/s, loss_d=0.00237, loss_g=13.8]\n"
          ]
        },
        {
          "metadata": {
            "tags": null
          },
          "name": "stdout",
          "output_type": "stream",
          "text": [
            "[176/300]: loss_d: 0.002, loss_g: 13.825\n"
          ]
        },
        {
          "metadata": {
            "tags": null
          },
          "name": "stderr",
          "output_type": "stream",
          "text": [
            "Epoch 177/300: 100%|██████████| 600/600 [00:20<00:00, 28.93it/s, loss_d=0.00233, loss_g=13.1]\n"
          ]
        },
        {
          "metadata": {
            "tags": null
          },
          "name": "stdout",
          "output_type": "stream",
          "text": [
            "[177/300]: loss_d: 0.002, loss_g: 13.128\n"
          ]
        },
        {
          "metadata": {
            "tags": null
          },
          "name": "stderr",
          "output_type": "stream",
          "text": [
            "Epoch 178/300: 100%|██████████| 600/600 [00:20<00:00, 29.30it/s, loss_d=0.00283, loss_g=12]\n"
          ]
        },
        {
          "metadata": {
            "tags": null
          },
          "name": "stdout",
          "output_type": "stream",
          "text": [
            "[178/300]: loss_d: 0.003, loss_g: 12.026\n"
          ]
        },
        {
          "metadata": {
            "tags": null
          },
          "name": "stderr",
          "output_type": "stream",
          "text": [
            "Epoch 179/300: 100%|██████████| 600/600 [00:20<00:00, 29.03it/s, loss_d=0.00187, loss_g=12.3]\n"
          ]
        },
        {
          "metadata": {
            "tags": null
          },
          "name": "stdout",
          "output_type": "stream",
          "text": [
            "[179/300]: loss_d: 0.002, loss_g: 12.312\n"
          ]
        },
        {
          "metadata": {
            "tags": null
          },
          "name": "stderr",
          "output_type": "stream",
          "text": [
            "Epoch 180/300: 100%|██████████| 600/600 [00:20<00:00, 29.05it/s, loss_d=0.00244, loss_g=13]\n"
          ]
        },
        {
          "metadata": {
            "tags": null
          },
          "name": "stdout",
          "output_type": "stream",
          "text": [
            "[180/300]: loss_d: 0.002, loss_g: 13.000\n"
          ]
        },
        {
          "metadata": {
            "tags": null
          },
          "name": "stderr",
          "output_type": "stream",
          "text": [
            "Epoch 181/300: 100%|██████████| 600/600 [00:18<00:00, 32.35it/s, loss_d=0.00195, loss_g=12.4]\n"
          ]
        },
        {
          "metadata": {
            "tags": null
          },
          "name": "stdout",
          "output_type": "stream",
          "text": [
            "[181/300]: loss_d: 0.002, loss_g: 12.377\n"
          ]
        },
        {
          "metadata": {
            "tags": null
          },
          "name": "stderr",
          "output_type": "stream",
          "text": [
            "Epoch 182/300: 100%|██████████| 600/600 [00:18<00:00, 31.61it/s, loss_d=0.000997, loss_g=12.8]\n"
          ]
        },
        {
          "metadata": {
            "tags": null
          },
          "name": "stdout",
          "output_type": "stream",
          "text": [
            "[182/300]: loss_d: 0.001, loss_g: 12.825\n"
          ]
        },
        {
          "metadata": {
            "tags": null
          },
          "name": "stderr",
          "output_type": "stream",
          "text": [
            "Epoch 183/300: 100%|██████████| 600/600 [00:18<00:00, 32.63it/s, loss_d=0.00247, loss_g=12.6]\n"
          ]
        },
        {
          "metadata": {
            "tags": null
          },
          "name": "stdout",
          "output_type": "stream",
          "text": [
            "[183/300]: loss_d: 0.002, loss_g: 12.552\n"
          ]
        },
        {
          "metadata": {
            "tags": null
          },
          "name": "stderr",
          "output_type": "stream",
          "text": [
            "Epoch 184/300: 100%|██████████| 600/600 [00:19<00:00, 30.57it/s, loss_d=0.00363, loss_g=12.3]\n"
          ]
        },
        {
          "metadata": {
            "tags": null
          },
          "name": "stdout",
          "output_type": "stream",
          "text": [
            "[184/300]: loss_d: 0.004, loss_g: 12.301\n"
          ]
        },
        {
          "metadata": {
            "tags": null
          },
          "name": "stderr",
          "output_type": "stream",
          "text": [
            "Epoch 185/300: 100%|██████████| 600/600 [00:18<00:00, 32.35it/s, loss_d=0.00298, loss_g=12]\n"
          ]
        },
        {
          "metadata": {
            "tags": null
          },
          "name": "stdout",
          "output_type": "stream",
          "text": [
            "[185/300]: loss_d: 0.003, loss_g: 11.962\n"
          ]
        },
        {
          "metadata": {
            "tags": null
          },
          "name": "stderr",
          "output_type": "stream",
          "text": [
            "Epoch 186/300: 100%|██████████| 600/600 [00:19<00:00, 31.23it/s, loss_d=0.0023, loss_g=11.9]\n"
          ]
        },
        {
          "metadata": {
            "tags": null
          },
          "name": "stdout",
          "output_type": "stream",
          "text": [
            "[186/300]: loss_d: 0.002, loss_g: 11.902\n"
          ]
        },
        {
          "metadata": {
            "tags": null
          },
          "name": "stderr",
          "output_type": "stream",
          "text": [
            "Epoch 187/300: 100%|██████████| 600/600 [00:18<00:00, 32.00it/s, loss_d=0.00204, loss_g=12.6]\n"
          ]
        },
        {
          "metadata": {
            "tags": null
          },
          "name": "stdout",
          "output_type": "stream",
          "text": [
            "[187/300]: loss_d: 0.002, loss_g: 12.630\n"
          ]
        },
        {
          "metadata": {
            "tags": null
          },
          "name": "stderr",
          "output_type": "stream",
          "text": [
            "Epoch 188/300: 100%|██████████| 600/600 [00:19<00:00, 30.48it/s, loss_d=0.00219, loss_g=13.2]\n"
          ]
        },
        {
          "metadata": {
            "tags": null
          },
          "name": "stdout",
          "output_type": "stream",
          "text": [
            "[188/300]: loss_d: 0.002, loss_g: 13.177\n"
          ]
        },
        {
          "metadata": {
            "tags": null
          },
          "name": "stderr",
          "output_type": "stream",
          "text": [
            "Epoch 189/300: 100%|██████████| 600/600 [00:20<00:00, 28.61it/s, loss_d=0.00128, loss_g=12.9]\n"
          ]
        },
        {
          "metadata": {
            "tags": null
          },
          "name": "stdout",
          "output_type": "stream",
          "text": [
            "[189/300]: loss_d: 0.001, loss_g: 12.938\n"
          ]
        },
        {
          "metadata": {
            "tags": null
          },
          "name": "stderr",
          "output_type": "stream",
          "text": [
            "Epoch 190/300: 100%|██████████| 600/600 [00:20<00:00, 29.34it/s, loss_d=0.00196, loss_g=12.8]\n"
          ]
        },
        {
          "metadata": {
            "tags": null
          },
          "name": "stdout",
          "output_type": "stream",
          "text": [
            "[190/300]: loss_d: 0.002, loss_g: 12.774\n"
          ]
        },
        {
          "metadata": {
            "tags": null
          },
          "name": "stderr",
          "output_type": "stream",
          "text": [
            "Epoch 191/300: 100%|██████████| 600/600 [00:20<00:00, 28.75it/s, loss_d=0.00132, loss_g=13.6]\n"
          ]
        },
        {
          "metadata": {
            "tags": null
          },
          "name": "stdout",
          "output_type": "stream",
          "text": [
            "[191/300]: loss_d: 0.001, loss_g: 13.624\n"
          ]
        },
        {
          "metadata": {
            "tags": null
          },
          "name": "stderr",
          "output_type": "stream",
          "text": [
            "Epoch 192/300: 100%|██████████| 600/600 [00:21<00:00, 27.61it/s, loss_d=0.00208, loss_g=13.3]\n"
          ]
        },
        {
          "metadata": {
            "tags": null
          },
          "name": "stdout",
          "output_type": "stream",
          "text": [
            "[192/300]: loss_d: 0.002, loss_g: 13.266\n"
          ]
        },
        {
          "metadata": {
            "tags": null
          },
          "name": "stderr",
          "output_type": "stream",
          "text": [
            "Epoch 193/300: 100%|██████████| 600/600 [00:20<00:00, 29.36it/s, loss_d=0.00238, loss_g=13.2]\n"
          ]
        },
        {
          "metadata": {
            "tags": null
          },
          "name": "stdout",
          "output_type": "stream",
          "text": [
            "[193/300]: loss_d: 0.002, loss_g: 13.237\n"
          ]
        },
        {
          "metadata": {
            "tags": null
          },
          "name": "stderr",
          "output_type": "stream",
          "text": [
            "Epoch 194/300: 100%|██████████| 600/600 [00:20<00:00, 28.58it/s, loss_d=0.00252, loss_g=12.5]\n"
          ]
        },
        {
          "metadata": {
            "tags": null
          },
          "name": "stdout",
          "output_type": "stream",
          "text": [
            "[194/300]: loss_d: 0.003, loss_g: 12.519\n"
          ]
        },
        {
          "metadata": {
            "tags": null
          },
          "name": "stderr",
          "output_type": "stream",
          "text": [
            "Epoch 195/300: 100%|██████████| 600/600 [00:20<00:00, 28.74it/s, loss_d=0.00195, loss_g=12.4]\n"
          ]
        },
        {
          "metadata": {
            "tags": null
          },
          "name": "stdout",
          "output_type": "stream",
          "text": [
            "[195/300]: loss_d: 0.002, loss_g: 12.445\n"
          ]
        },
        {
          "metadata": {
            "tags": null
          },
          "name": "stderr",
          "output_type": "stream",
          "text": [
            "Epoch 196/300: 100%|██████████| 600/600 [00:20<00:00, 29.63it/s, loss_d=0.00217, loss_g=12.9]\n"
          ]
        },
        {
          "metadata": {
            "tags": null
          },
          "name": "stdout",
          "output_type": "stream",
          "text": [
            "[196/300]: loss_d: 0.002, loss_g: 12.916\n"
          ]
        },
        {
          "metadata": {
            "tags": null
          },
          "name": "stderr",
          "output_type": "stream",
          "text": [
            "Epoch 197/300: 100%|██████████| 600/600 [00:20<00:00, 28.63it/s, loss_d=0.00191, loss_g=12.7]\n"
          ]
        },
        {
          "metadata": {
            "tags": null
          },
          "name": "stdout",
          "output_type": "stream",
          "text": [
            "[197/300]: loss_d: 0.002, loss_g: 12.738\n"
          ]
        },
        {
          "metadata": {
            "tags": null
          },
          "name": "stderr",
          "output_type": "stream",
          "text": [
            "Epoch 198/300: 100%|██████████| 600/600 [00:20<00:00, 28.73it/s, loss_d=0.00298, loss_g=12.5]\n"
          ]
        },
        {
          "metadata": {
            "tags": null
          },
          "name": "stdout",
          "output_type": "stream",
          "text": [
            "[198/300]: loss_d: 0.003, loss_g: 12.519\n"
          ]
        },
        {
          "metadata": {
            "tags": null
          },
          "name": "stderr",
          "output_type": "stream",
          "text": [
            "Epoch 199/300: 100%|██████████| 600/600 [00:20<00:00, 29.63it/s, loss_d=0.00233, loss_g=12.2]\n"
          ]
        },
        {
          "metadata": {
            "tags": null
          },
          "name": "stdout",
          "output_type": "stream",
          "text": [
            "[199/300]: loss_d: 0.002, loss_g: 12.239\n"
          ]
        },
        {
          "metadata": {
            "tags": null
          },
          "name": "stderr",
          "output_type": "stream",
          "text": [
            "Epoch 200/300: 100%|██████████| 600/600 [00:21<00:00, 27.97it/s, loss_d=0.00252, loss_g=12.7]\n"
          ]
        },
        {
          "metadata": {
            "tags": null
          },
          "name": "stdout",
          "output_type": "stream",
          "text": [
            "[200/300]: loss_d: 0.003, loss_g: 12.684\n"
          ]
        },
        {
          "metadata": {
            "tags": null
          },
          "name": "stderr",
          "output_type": "stream",
          "text": [
            "Epoch 201/300: 100%|██████████| 600/600 [00:20<00:00, 28.67it/s, loss_d=0.00215, loss_g=12.8]\n"
          ]
        },
        {
          "metadata": {
            "tags": null
          },
          "name": "stdout",
          "output_type": "stream",
          "text": [
            "[201/300]: loss_d: 0.002, loss_g: 12.766\n"
          ]
        },
        {
          "metadata": {
            "tags": null
          },
          "name": "stderr",
          "output_type": "stream",
          "text": [
            "Epoch 202/300: 100%|██████████| 600/600 [00:20<00:00, 29.73it/s, loss_d=0.00174, loss_g=12.2]\n"
          ]
        },
        {
          "metadata": {
            "tags": null
          },
          "name": "stdout",
          "output_type": "stream",
          "text": [
            "[202/300]: loss_d: 0.002, loss_g: 12.244\n"
          ]
        },
        {
          "metadata": {
            "tags": null
          },
          "name": "stderr",
          "output_type": "stream",
          "text": [
            "Epoch 203/300: 100%|██████████| 600/600 [00:20<00:00, 28.88it/s, loss_d=0.0013, loss_g=12.2]\n"
          ]
        },
        {
          "metadata": {
            "tags": null
          },
          "name": "stdout",
          "output_type": "stream",
          "text": [
            "[203/300]: loss_d: 0.001, loss_g: 12.218\n"
          ]
        },
        {
          "metadata": {
            "tags": null
          },
          "name": "stderr",
          "output_type": "stream",
          "text": [
            "Epoch 204/300: 100%|██████████| 600/600 [00:20<00:00, 28.73it/s, loss_d=0.000794, loss_g=12.8]\n"
          ]
        },
        {
          "metadata": {
            "tags": null
          },
          "name": "stdout",
          "output_type": "stream",
          "text": [
            "[204/300]: loss_d: 0.001, loss_g: 12.826\n"
          ]
        },
        {
          "metadata": {
            "tags": null
          },
          "name": "stderr",
          "output_type": "stream",
          "text": [
            "Epoch 205/300: 100%|██████████| 600/600 [00:20<00:00, 29.87it/s, loss_d=0.00166, loss_g=12.9]\n"
          ]
        },
        {
          "metadata": {
            "tags": null
          },
          "name": "stdout",
          "output_type": "stream",
          "text": [
            "[205/300]: loss_d: 0.002, loss_g: 12.877\n"
          ]
        },
        {
          "metadata": {
            "tags": null
          },
          "name": "stderr",
          "output_type": "stream",
          "text": [
            "Epoch 206/300: 100%|██████████| 600/600 [00:20<00:00, 28.81it/s, loss_d=0.00167, loss_g=12.8]\n"
          ]
        },
        {
          "metadata": {
            "tags": null
          },
          "name": "stdout",
          "output_type": "stream",
          "text": [
            "[206/300]: loss_d: 0.002, loss_g: 12.838\n"
          ]
        },
        {
          "metadata": {
            "tags": null
          },
          "name": "stderr",
          "output_type": "stream",
          "text": [
            "Epoch 207/300: 100%|██████████| 600/600 [00:20<00:00, 28.93it/s, loss_d=0.00162, loss_g=12.9]\n"
          ]
        },
        {
          "metadata": {
            "tags": null
          },
          "name": "stdout",
          "output_type": "stream",
          "text": [
            "[207/300]: loss_d: 0.002, loss_g: 12.904\n"
          ]
        },
        {
          "metadata": {
            "tags": null
          },
          "name": "stderr",
          "output_type": "stream",
          "text": [
            "Epoch 208/300: 100%|██████████| 600/600 [00:20<00:00, 29.72it/s, loss_d=0.00192, loss_g=13.6]\n"
          ]
        },
        {
          "metadata": {
            "tags": null
          },
          "name": "stdout",
          "output_type": "stream",
          "text": [
            "[208/300]: loss_d: 0.002, loss_g: 13.628\n"
          ]
        },
        {
          "metadata": {
            "tags": null
          },
          "name": "stderr",
          "output_type": "stream",
          "text": [
            "Epoch 209/300: 100%|██████████| 600/600 [00:21<00:00, 27.66it/s, loss_d=0.00116, loss_g=12.8]\n"
          ]
        },
        {
          "metadata": {
            "tags": null
          },
          "name": "stdout",
          "output_type": "stream",
          "text": [
            "[209/300]: loss_d: 0.001, loss_g: 12.803\n"
          ]
        },
        {
          "metadata": {
            "tags": null
          },
          "name": "stderr",
          "output_type": "stream",
          "text": [
            "Epoch 210/300: 100%|██████████| 600/600 [00:20<00:00, 29.15it/s, loss_d=0.00121, loss_g=13.7]\n"
          ]
        },
        {
          "metadata": {
            "tags": null
          },
          "name": "stdout",
          "output_type": "stream",
          "text": [
            "[210/300]: loss_d: 0.001, loss_g: 13.698\n"
          ]
        },
        {
          "metadata": {
            "tags": null
          },
          "name": "stderr",
          "output_type": "stream",
          "text": [
            "Epoch 211/300: 100%|██████████| 600/600 [00:20<00:00, 29.21it/s, loss_d=0.00186, loss_g=13.5]\n"
          ]
        },
        {
          "metadata": {
            "tags": null
          },
          "name": "stdout",
          "output_type": "stream",
          "text": [
            "[211/300]: loss_d: 0.002, loss_g: 13.499\n"
          ]
        },
        {
          "metadata": {
            "tags": null
          },
          "name": "stderr",
          "output_type": "stream",
          "text": [
            "Epoch 212/300: 100%|██████████| 600/600 [00:20<00:00, 28.63it/s, loss_d=0.00202, loss_g=13.1]\n"
          ]
        },
        {
          "metadata": {
            "tags": null
          },
          "name": "stdout",
          "output_type": "stream",
          "text": [
            "[212/300]: loss_d: 0.002, loss_g: 13.112\n"
          ]
        },
        {
          "metadata": {
            "tags": null
          },
          "name": "stderr",
          "output_type": "stream",
          "text": [
            "Epoch 213/300: 100%|██████████| 600/600 [00:20<00:00, 29.25it/s, loss_d=0.00197, loss_g=12.8]\n"
          ]
        },
        {
          "metadata": {
            "tags": null
          },
          "name": "stdout",
          "output_type": "stream",
          "text": [
            "[213/300]: loss_d: 0.002, loss_g: 12.841\n"
          ]
        },
        {
          "metadata": {
            "tags": null
          },
          "name": "stderr",
          "output_type": "stream",
          "text": [
            "Epoch 214/300: 100%|██████████| 600/600 [00:20<00:00, 28.89it/s, loss_d=0.00131, loss_g=12.7]\n"
          ]
        },
        {
          "metadata": {
            "tags": null
          },
          "name": "stdout",
          "output_type": "stream",
          "text": [
            "[214/300]: loss_d: 0.001, loss_g: 12.737\n"
          ]
        },
        {
          "metadata": {
            "tags": null
          },
          "name": "stderr",
          "output_type": "stream",
          "text": [
            "Epoch 215/300: 100%|██████████| 600/600 [00:20<00:00, 28.59it/s, loss_d=0.00148, loss_g=13]\n"
          ]
        },
        {
          "metadata": {
            "tags": null
          },
          "name": "stdout",
          "output_type": "stream",
          "text": [
            "[215/300]: loss_d: 0.001, loss_g: 12.951\n"
          ]
        },
        {
          "metadata": {
            "tags": null
          },
          "name": "stderr",
          "output_type": "stream",
          "text": [
            "Epoch 216/300: 100%|██████████| 600/600 [00:20<00:00, 29.37it/s, loss_d=0.00226, loss_g=14.2]\n"
          ]
        },
        {
          "metadata": {
            "tags": null
          },
          "name": "stdout",
          "output_type": "stream",
          "text": [
            "[216/300]: loss_d: 0.002, loss_g: 14.153\n"
          ]
        },
        {
          "metadata": {
            "tags": null
          },
          "name": "stderr",
          "output_type": "stream",
          "text": [
            "Epoch 217/300: 100%|██████████| 600/600 [00:21<00:00, 27.85it/s, loss_d=0.00117, loss_g=13.6]\n"
          ]
        },
        {
          "metadata": {
            "tags": null
          },
          "name": "stdout",
          "output_type": "stream",
          "text": [
            "[217/300]: loss_d: 0.001, loss_g: 13.565\n"
          ]
        },
        {
          "metadata": {
            "tags": null
          },
          "name": "stderr",
          "output_type": "stream",
          "text": [
            "Epoch 218/300: 100%|██████████| 600/600 [00:20<00:00, 28.60it/s, loss_d=0.0016, loss_g=12.9]\n"
          ]
        },
        {
          "metadata": {
            "tags": null
          },
          "name": "stdout",
          "output_type": "stream",
          "text": [
            "[218/300]: loss_d: 0.002, loss_g: 12.859\n"
          ]
        },
        {
          "metadata": {
            "tags": null
          },
          "name": "stderr",
          "output_type": "stream",
          "text": [
            "Epoch 219/300: 100%|██████████| 600/600 [00:20<00:00, 29.26it/s, loss_d=0.00195, loss_g=13.3]\n"
          ]
        },
        {
          "metadata": {
            "tags": null
          },
          "name": "stdout",
          "output_type": "stream",
          "text": [
            "[219/300]: loss_d: 0.002, loss_g: 13.333\n"
          ]
        },
        {
          "metadata": {
            "tags": null
          },
          "name": "stderr",
          "output_type": "stream",
          "text": [
            "Epoch 220/300: 100%|██████████| 600/600 [00:20<00:00, 28.68it/s, loss_d=0.00214, loss_g=12.8]\n"
          ]
        },
        {
          "metadata": {
            "tags": null
          },
          "name": "stdout",
          "output_type": "stream",
          "text": [
            "[220/300]: loss_d: 0.002, loss_g: 12.844\n"
          ]
        },
        {
          "metadata": {
            "tags": null
          },
          "name": "stderr",
          "output_type": "stream",
          "text": [
            "Epoch 221/300: 100%|██████████| 600/600 [00:21<00:00, 28.36it/s, loss_d=0.00213, loss_g=13.1]\n"
          ]
        },
        {
          "metadata": {
            "tags": null
          },
          "name": "stdout",
          "output_type": "stream",
          "text": [
            "[221/300]: loss_d: 0.002, loss_g: 13.139\n"
          ]
        },
        {
          "metadata": {
            "tags": null
          },
          "name": "stderr",
          "output_type": "stream",
          "text": [
            "Epoch 222/300: 100%|██████████| 600/600 [00:20<00:00, 29.09it/s, loss_d=0.00154, loss_g=12.9]\n"
          ]
        },
        {
          "metadata": {
            "tags": null
          },
          "name": "stdout",
          "output_type": "stream",
          "text": [
            "[222/300]: loss_d: 0.002, loss_g: 12.947\n"
          ]
        },
        {
          "metadata": {
            "tags": null
          },
          "name": "stderr",
          "output_type": "stream",
          "text": [
            "Epoch 223/300: 100%|██████████| 600/600 [00:21<00:00, 28.28it/s, loss_d=0.00168, loss_g=13.1]\n"
          ]
        },
        {
          "metadata": {
            "tags": null
          },
          "name": "stdout",
          "output_type": "stream",
          "text": [
            "[223/300]: loss_d: 0.002, loss_g: 13.075\n"
          ]
        },
        {
          "metadata": {
            "tags": null
          },
          "name": "stderr",
          "output_type": "stream",
          "text": [
            "Epoch 224/300: 100%|██████████| 600/600 [00:21<00:00, 28.31it/s, loss_d=0.00266, loss_g=13.2]\n"
          ]
        },
        {
          "metadata": {
            "tags": null
          },
          "name": "stdout",
          "output_type": "stream",
          "text": [
            "[224/300]: loss_d: 0.003, loss_g: 13.177\n"
          ]
        },
        {
          "metadata": {
            "tags": null
          },
          "name": "stderr",
          "output_type": "stream",
          "text": [
            "Epoch 225/300: 100%|██████████| 600/600 [00:21<00:00, 28.05it/s, loss_d=0.00212, loss_g=13]\n"
          ]
        },
        {
          "metadata": {
            "tags": null
          },
          "name": "stdout",
          "output_type": "stream",
          "text": [
            "[225/300]: loss_d: 0.002, loss_g: 13.000\n"
          ]
        },
        {
          "metadata": {
            "tags": null
          },
          "name": "stderr",
          "output_type": "stream",
          "text": [
            "Epoch 226/300: 100%|██████████| 600/600 [00:20<00:00, 28.81it/s, loss_d=0.00177, loss_g=13.4]\n"
          ]
        },
        {
          "metadata": {
            "tags": null
          },
          "name": "stdout",
          "output_type": "stream",
          "text": [
            "[226/300]: loss_d: 0.002, loss_g: 13.434\n"
          ]
        },
        {
          "metadata": {
            "tags": null
          },
          "name": "stderr",
          "output_type": "stream",
          "text": [
            "Epoch 227/300: 100%|██████████| 600/600 [00:21<00:00, 28.45it/s, loss_d=0.00223, loss_g=13.2]\n"
          ]
        },
        {
          "metadata": {
            "tags": null
          },
          "name": "stdout",
          "output_type": "stream",
          "text": [
            "[227/300]: loss_d: 0.002, loss_g: 13.151\n"
          ]
        },
        {
          "metadata": {
            "tags": null
          },
          "name": "stderr",
          "output_type": "stream",
          "text": [
            "Epoch 228/300: 100%|██████████| 600/600 [00:20<00:00, 28.90it/s, loss_d=0.0016, loss_g=13.1]\n"
          ]
        },
        {
          "metadata": {
            "tags": null
          },
          "name": "stdout",
          "output_type": "stream",
          "text": [
            "[228/300]: loss_d: 0.002, loss_g: 13.107\n"
          ]
        },
        {
          "metadata": {
            "tags": null
          },
          "name": "stderr",
          "output_type": "stream",
          "text": [
            "Epoch 229/300: 100%|██████████| 600/600 [00:20<00:00, 28.78it/s, loss_d=0.0016, loss_g=13.1]\n"
          ]
        },
        {
          "metadata": {
            "tags": null
          },
          "name": "stdout",
          "output_type": "stream",
          "text": [
            "[229/300]: loss_d: 0.002, loss_g: 13.056\n"
          ]
        },
        {
          "metadata": {
            "tags": null
          },
          "name": "stderr",
          "output_type": "stream",
          "text": [
            "Epoch 230/300: 100%|██████████| 600/600 [00:21<00:00, 28.45it/s, loss_d=0.00133, loss_g=13.6]\n"
          ]
        },
        {
          "metadata": {
            "tags": null
          },
          "name": "stdout",
          "output_type": "stream",
          "text": [
            "[230/300]: loss_d: 0.001, loss_g: 13.602\n"
          ]
        },
        {
          "metadata": {
            "tags": null
          },
          "name": "stderr",
          "output_type": "stream",
          "text": [
            "Epoch 231/300: 100%|██████████| 600/600 [00:20<00:00, 29.30it/s, loss_d=0.00263, loss_g=13.2]\n"
          ]
        },
        {
          "metadata": {
            "tags": null
          },
          "name": "stdout",
          "output_type": "stream",
          "text": [
            "[231/300]: loss_d: 0.003, loss_g: 13.170\n"
          ]
        },
        {
          "metadata": {
            "tags": null
          },
          "name": "stderr",
          "output_type": "stream",
          "text": [
            "Epoch 232/300: 100%|██████████| 600/600 [00:20<00:00, 29.12it/s, loss_d=0.00118, loss_g=12.3]\n"
          ]
        },
        {
          "metadata": {
            "tags": null
          },
          "name": "stdout",
          "output_type": "stream",
          "text": [
            "[232/300]: loss_d: 0.001, loss_g: 12.312\n"
          ]
        },
        {
          "metadata": {
            "tags": null
          },
          "name": "stderr",
          "output_type": "stream",
          "text": [
            "Epoch 233/300: 100%|██████████| 600/600 [00:21<00:00, 27.96it/s, loss_d=0.00187, loss_g=13.7]\n"
          ]
        },
        {
          "metadata": {
            "tags": null
          },
          "name": "stdout",
          "output_type": "stream",
          "text": [
            "[233/300]: loss_d: 0.002, loss_g: 13.681\n"
          ]
        },
        {
          "metadata": {
            "tags": null
          },
          "name": "stderr",
          "output_type": "stream",
          "text": [
            "Epoch 234/300: 100%|██████████| 600/600 [00:20<00:00, 29.00it/s, loss_d=0.00211, loss_g=12.4]\n"
          ]
        },
        {
          "metadata": {
            "tags": null
          },
          "name": "stdout",
          "output_type": "stream",
          "text": [
            "[234/300]: loss_d: 0.002, loss_g: 12.421\n"
          ]
        },
        {
          "metadata": {
            "tags": null
          },
          "name": "stderr",
          "output_type": "stream",
          "text": [
            "Epoch 235/300: 100%|██████████| 600/600 [00:19<00:00, 31.23it/s, loss_d=0.00126, loss_g=13.2]\n"
          ]
        },
        {
          "metadata": {
            "tags": null
          },
          "name": "stdout",
          "output_type": "stream",
          "text": [
            "[235/300]: loss_d: 0.001, loss_g: 13.175\n"
          ]
        },
        {
          "metadata": {
            "tags": null
          },
          "name": "stderr",
          "output_type": "stream",
          "text": [
            "Epoch 236/300: 100%|██████████| 600/600 [00:19<00:00, 31.46it/s, loss_d=0.00162, loss_g=13.2]\n"
          ]
        },
        {
          "metadata": {
            "tags": null
          },
          "name": "stdout",
          "output_type": "stream",
          "text": [
            "[236/300]: loss_d: 0.002, loss_g: 13.205\n"
          ]
        },
        {
          "metadata": {
            "tags": null
          },
          "name": "stderr",
          "output_type": "stream",
          "text": [
            "Epoch 237/300: 100%|██████████| 600/600 [00:18<00:00, 32.31it/s, loss_d=0.00107, loss_g=12.3]\n"
          ]
        },
        {
          "metadata": {
            "tags": null
          },
          "name": "stdout",
          "output_type": "stream",
          "text": [
            "[237/300]: loss_d: 0.001, loss_g: 12.329\n"
          ]
        },
        {
          "metadata": {
            "tags": null
          },
          "name": "stderr",
          "output_type": "stream",
          "text": [
            "Epoch 238/300: 100%|██████████| 600/600 [00:19<00:00, 31.08it/s, loss_d=0.0021, loss_g=13.5]\n"
          ]
        },
        {
          "metadata": {
            "tags": null
          },
          "name": "stdout",
          "output_type": "stream",
          "text": [
            "[238/300]: loss_d: 0.002, loss_g: 13.460\n"
          ]
        },
        {
          "metadata": {
            "tags": null
          },
          "name": "stderr",
          "output_type": "stream",
          "text": [
            "Epoch 239/300: 100%|██████████| 600/600 [00:18<00:00, 31.70it/s, loss_d=0.000978, loss_g=12.9]\n"
          ]
        },
        {
          "metadata": {
            "tags": null
          },
          "name": "stdout",
          "output_type": "stream",
          "text": [
            "[239/300]: loss_d: 0.001, loss_g: 12.920\n"
          ]
        },
        {
          "metadata": {
            "tags": null
          },
          "name": "stderr",
          "output_type": "stream",
          "text": [
            "Epoch 240/300: 100%|██████████| 600/600 [00:19<00:00, 31.20it/s, loss_d=0.00192, loss_g=13.6]\n"
          ]
        },
        {
          "metadata": {
            "tags": null
          },
          "name": "stdout",
          "output_type": "stream",
          "text": [
            "[240/300]: loss_d: 0.002, loss_g: 13.600\n"
          ]
        },
        {
          "metadata": {
            "tags": null
          },
          "name": "stderr",
          "output_type": "stream",
          "text": [
            "Epoch 241/300: 100%|██████████| 600/600 [00:18<00:00, 32.23it/s, loss_d=0.00213, loss_g=12.7]\n"
          ]
        },
        {
          "metadata": {
            "tags": null
          },
          "name": "stdout",
          "output_type": "stream",
          "text": [
            "[241/300]: loss_d: 0.002, loss_g: 12.703\n"
          ]
        },
        {
          "metadata": {
            "tags": null
          },
          "name": "stderr",
          "output_type": "stream",
          "text": [
            "Epoch 242/300: 100%|██████████| 600/600 [00:20<00:00, 28.75it/s, loss_d=0.00146, loss_g=13.8]\n"
          ]
        },
        {
          "metadata": {
            "tags": null
          },
          "name": "stdout",
          "output_type": "stream",
          "text": [
            "[242/300]: loss_d: 0.001, loss_g: 13.837\n"
          ]
        },
        {
          "metadata": {
            "tags": null
          },
          "name": "stderr",
          "output_type": "stream",
          "text": [
            "Epoch 243/300: 100%|██████████| 600/600 [00:20<00:00, 28.60it/s, loss_d=0.00236, loss_g=13.3]\n"
          ]
        },
        {
          "metadata": {
            "tags": null
          },
          "name": "stdout",
          "output_type": "stream",
          "text": [
            "[243/300]: loss_d: 0.002, loss_g: 13.304\n"
          ]
        },
        {
          "metadata": {
            "tags": null
          },
          "name": "stderr",
          "output_type": "stream",
          "text": [
            "Epoch 244/300: 100%|██████████| 600/600 [00:20<00:00, 29.16it/s, loss_d=0.00172, loss_g=13.4]\n"
          ]
        },
        {
          "metadata": {
            "tags": null
          },
          "name": "stdout",
          "output_type": "stream",
          "text": [
            "[244/300]: loss_d: 0.002, loss_g: 13.420\n"
          ]
        },
        {
          "metadata": {
            "tags": null
          },
          "name": "stderr",
          "output_type": "stream",
          "text": [
            "Epoch 245/300: 100%|██████████| 600/600 [00:21<00:00, 28.19it/s, loss_d=0.00198, loss_g=12.4]\n"
          ]
        },
        {
          "metadata": {
            "tags": null
          },
          "name": "stdout",
          "output_type": "stream",
          "text": [
            "[245/300]: loss_d: 0.002, loss_g: 12.374\n"
          ]
        },
        {
          "metadata": {
            "tags": null
          },
          "name": "stderr",
          "output_type": "stream",
          "text": [
            "Epoch 246/300: 100%|██████████| 600/600 [00:21<00:00, 28.38it/s, loss_d=0.00178, loss_g=13.4]\n"
          ]
        },
        {
          "metadata": {
            "tags": null
          },
          "name": "stdout",
          "output_type": "stream",
          "text": [
            "[246/300]: loss_d: 0.002, loss_g: 13.392\n"
          ]
        },
        {
          "metadata": {
            "tags": null
          },
          "name": "stderr",
          "output_type": "stream",
          "text": [
            "Epoch 247/300: 100%|██████████| 600/600 [00:20<00:00, 29.00it/s, loss_d=0.00195, loss_g=12.8]\n"
          ]
        },
        {
          "metadata": {
            "tags": null
          },
          "name": "stdout",
          "output_type": "stream",
          "text": [
            "[247/300]: loss_d: 0.002, loss_g: 12.814\n"
          ]
        },
        {
          "metadata": {
            "tags": null
          },
          "name": "stderr",
          "output_type": "stream",
          "text": [
            "Epoch 248/300: 100%|██████████| 600/600 [00:21<00:00, 28.22it/s, loss_d=0.00196, loss_g=13.3]\n"
          ]
        },
        {
          "metadata": {
            "tags": null
          },
          "name": "stdout",
          "output_type": "stream",
          "text": [
            "[248/300]: loss_d: 0.002, loss_g: 13.337\n"
          ]
        },
        {
          "metadata": {
            "tags": null
          },
          "name": "stderr",
          "output_type": "stream",
          "text": [
            "Epoch 249/300: 100%|██████████| 600/600 [00:21<00:00, 28.32it/s, loss_d=0.00213, loss_g=12.9]\n"
          ]
        },
        {
          "metadata": {
            "tags": null
          },
          "name": "stdout",
          "output_type": "stream",
          "text": [
            "[249/300]: loss_d: 0.002, loss_g: 12.870\n"
          ]
        },
        {
          "metadata": {
            "tags": null
          },
          "name": "stderr",
          "output_type": "stream",
          "text": [
            "Epoch 250/300: 100%|██████████| 600/600 [00:21<00:00, 27.93it/s, loss_d=0.00081, loss_g=14.4]\n"
          ]
        },
        {
          "metadata": {
            "tags": null
          },
          "name": "stdout",
          "output_type": "stream",
          "text": [
            "[250/300]: loss_d: 0.001, loss_g: 14.394\n"
          ]
        },
        {
          "metadata": {
            "tags": null
          },
          "name": "stderr",
          "output_type": "stream",
          "text": [
            "Epoch 251/300: 100%|██████████| 600/600 [00:21<00:00, 28.52it/s, loss_d=0.00183, loss_g=12.7]\n"
          ]
        },
        {
          "metadata": {
            "tags": null
          },
          "name": "stdout",
          "output_type": "stream",
          "text": [
            "[251/300]: loss_d: 0.002, loss_g: 12.699\n"
          ]
        },
        {
          "metadata": {
            "tags": null
          },
          "name": "stderr",
          "output_type": "stream",
          "text": [
            "Epoch 252/300: 100%|██████████| 600/600 [00:21<00:00, 28.23it/s, loss_d=0.00195, loss_g=12.7]\n"
          ]
        },
        {
          "metadata": {
            "tags": null
          },
          "name": "stdout",
          "output_type": "stream",
          "text": [
            "[252/300]: loss_d: 0.002, loss_g: 12.694\n"
          ]
        },
        {
          "metadata": {
            "tags": null
          },
          "name": "stderr",
          "output_type": "stream",
          "text": [
            "Epoch 253/300: 100%|██████████| 600/600 [00:21<00:00, 28.27it/s, loss_d=0.00164, loss_g=12.4]\n"
          ]
        },
        {
          "metadata": {
            "tags": null
          },
          "name": "stdout",
          "output_type": "stream",
          "text": [
            "[253/300]: loss_d: 0.002, loss_g: 12.371\n"
          ]
        },
        {
          "metadata": {
            "tags": null
          },
          "name": "stderr",
          "output_type": "stream",
          "text": [
            "Epoch 254/300: 100%|██████████| 600/600 [00:21<00:00, 28.35it/s, loss_d=0.00179, loss_g=12.4]\n"
          ]
        },
        {
          "metadata": {
            "tags": null
          },
          "name": "stdout",
          "output_type": "stream",
          "text": [
            "[254/300]: loss_d: 0.002, loss_g: 12.440\n"
          ]
        },
        {
          "metadata": {
            "tags": null
          },
          "name": "stderr",
          "output_type": "stream",
          "text": [
            "Epoch 255/300: 100%|██████████| 600/600 [00:21<00:00, 28.05it/s, loss_d=0.000926, loss_g=12.5]\n"
          ]
        },
        {
          "metadata": {
            "tags": null
          },
          "name": "stdout",
          "output_type": "stream",
          "text": [
            "[255/300]: loss_d: 0.001, loss_g: 12.493\n"
          ]
        },
        {
          "metadata": {
            "tags": null
          },
          "name": "stderr",
          "output_type": "stream",
          "text": [
            "Epoch 256/300: 100%|██████████| 600/600 [00:21<00:00, 28.53it/s, loss_d=0.000821, loss_g=14]\n"
          ]
        },
        {
          "metadata": {
            "tags": null
          },
          "name": "stdout",
          "output_type": "stream",
          "text": [
            "[256/300]: loss_d: 0.001, loss_g: 13.968\n"
          ]
        },
        {
          "metadata": {
            "tags": null
          },
          "name": "stderr",
          "output_type": "stream",
          "text": [
            "Epoch 257/300: 100%|██████████| 600/600 [00:20<00:00, 29.01it/s, loss_d=0.00154, loss_g=13.4]\n"
          ]
        },
        {
          "metadata": {
            "tags": null
          },
          "name": "stdout",
          "output_type": "stream",
          "text": [
            "[257/300]: loss_d: 0.002, loss_g: 13.395\n"
          ]
        },
        {
          "metadata": {
            "tags": null
          },
          "name": "stderr",
          "output_type": "stream",
          "text": [
            "Epoch 258/300: 100%|██████████| 600/600 [00:21<00:00, 27.62it/s, loss_d=0.00164, loss_g=13.5]\n"
          ]
        },
        {
          "metadata": {
            "tags": null
          },
          "name": "stdout",
          "output_type": "stream",
          "text": [
            "[258/300]: loss_d: 0.002, loss_g: 13.505\n"
          ]
        },
        {
          "metadata": {
            "tags": null
          },
          "name": "stderr",
          "output_type": "stream",
          "text": [
            "Epoch 259/300: 100%|██████████| 600/600 [00:21<00:00, 28.05it/s, loss_d=0.00215, loss_g=13.5]\n"
          ]
        },
        {
          "metadata": {
            "tags": null
          },
          "name": "stdout",
          "output_type": "stream",
          "text": [
            "[259/300]: loss_d: 0.002, loss_g: 13.521\n"
          ]
        },
        {
          "metadata": {
            "tags": null
          },
          "name": "stderr",
          "output_type": "stream",
          "text": [
            "Epoch 260/300: 100%|██████████| 600/600 [00:20<00:00, 29.08it/s, loss_d=0.00146, loss_g=13]\n"
          ]
        },
        {
          "metadata": {
            "tags": null
          },
          "name": "stdout",
          "output_type": "stream",
          "text": [
            "[260/300]: loss_d: 0.001, loss_g: 12.951\n"
          ]
        },
        {
          "metadata": {
            "tags": null
          },
          "name": "stderr",
          "output_type": "stream",
          "text": [
            "Epoch 261/300: 100%|██████████| 600/600 [00:21<00:00, 28.43it/s, loss_d=0.00173, loss_g=12.6]\n"
          ]
        },
        {
          "metadata": {
            "tags": null
          },
          "name": "stdout",
          "output_type": "stream",
          "text": [
            "[261/300]: loss_d: 0.002, loss_g: 12.566\n"
          ]
        },
        {
          "metadata": {
            "tags": null
          },
          "name": "stderr",
          "output_type": "stream",
          "text": [
            "Epoch 262/300: 100%|██████████| 600/600 [00:21<00:00, 28.54it/s, loss_d=0.00117, loss_g=13.1]\n"
          ]
        },
        {
          "metadata": {
            "tags": null
          },
          "name": "stdout",
          "output_type": "stream",
          "text": [
            "[262/300]: loss_d: 0.001, loss_g: 13.074\n"
          ]
        },
        {
          "metadata": {
            "tags": null
          },
          "name": "stderr",
          "output_type": "stream",
          "text": [
            "Epoch 263/300: 100%|██████████| 600/600 [00:20<00:00, 29.65it/s, loss_d=0.000916, loss_g=13.5]\n"
          ]
        },
        {
          "metadata": {
            "tags": null
          },
          "name": "stdout",
          "output_type": "stream",
          "text": [
            "[263/300]: loss_d: 0.001, loss_g: 13.485\n"
          ]
        },
        {
          "metadata": {
            "tags": null
          },
          "name": "stderr",
          "output_type": "stream",
          "text": [
            "Epoch 264/300: 100%|██████████| 600/600 [00:20<00:00, 28.61it/s, loss_d=0.00139, loss_g=14.3]\n"
          ]
        },
        {
          "metadata": {
            "tags": null
          },
          "name": "stdout",
          "output_type": "stream",
          "text": [
            "[264/300]: loss_d: 0.001, loss_g: 14.289\n"
          ]
        },
        {
          "metadata": {
            "tags": null
          },
          "name": "stderr",
          "output_type": "stream",
          "text": [
            "Epoch 265/300: 100%|██████████| 600/600 [00:19<00:00, 31.43it/s, loss_d=0.00153, loss_g=12.8]\n"
          ]
        },
        {
          "metadata": {
            "tags": null
          },
          "name": "stdout",
          "output_type": "stream",
          "text": [
            "[265/300]: loss_d: 0.002, loss_g: 12.782\n"
          ]
        },
        {
          "metadata": {
            "tags": null
          },
          "name": "stderr",
          "output_type": "stream",
          "text": [
            "Epoch 266/300: 100%|██████████| 600/600 [00:19<00:00, 30.83it/s, loss_d=0.00175, loss_g=13.3]\n"
          ]
        },
        {
          "metadata": {
            "tags": null
          },
          "name": "stdout",
          "output_type": "stream",
          "text": [
            "[266/300]: loss_d: 0.002, loss_g: 13.271\n"
          ]
        },
        {
          "metadata": {
            "tags": null
          },
          "name": "stderr",
          "output_type": "stream",
          "text": [
            "Epoch 267/300: 100%|██████████| 600/600 [00:19<00:00, 30.78it/s, loss_d=0.00243, loss_g=13.7]\n"
          ]
        },
        {
          "metadata": {
            "tags": null
          },
          "name": "stdout",
          "output_type": "stream",
          "text": [
            "[267/300]: loss_d: 0.002, loss_g: 13.698\n"
          ]
        },
        {
          "metadata": {
            "tags": null
          },
          "name": "stderr",
          "output_type": "stream",
          "text": [
            "Epoch 268/300: 100%|██████████| 600/600 [00:18<00:00, 31.95it/s, loss_d=0.00157, loss_g=13.8]\n"
          ]
        },
        {
          "metadata": {
            "tags": null
          },
          "name": "stdout",
          "output_type": "stream",
          "text": [
            "[268/300]: loss_d: 0.002, loss_g: 13.816\n"
          ]
        },
        {
          "metadata": {
            "tags": null
          },
          "name": "stderr",
          "output_type": "stream",
          "text": [
            "Epoch 269/300: 100%|██████████| 600/600 [00:19<00:00, 30.60it/s, loss_d=0.00104, loss_g=13.5]\n"
          ]
        },
        {
          "metadata": {
            "tags": null
          },
          "name": "stdout",
          "output_type": "stream",
          "text": [
            "[269/300]: loss_d: 0.001, loss_g: 13.466\n"
          ]
        },
        {
          "metadata": {
            "tags": null
          },
          "name": "stderr",
          "output_type": "stream",
          "text": [
            "Epoch 270/300: 100%|██████████| 600/600 [00:18<00:00, 31.91it/s, loss_d=0.00203, loss_g=13.7]\n"
          ]
        },
        {
          "metadata": {
            "tags": null
          },
          "name": "stdout",
          "output_type": "stream",
          "text": [
            "[270/300]: loss_d: 0.002, loss_g: 13.692\n"
          ]
        },
        {
          "metadata": {
            "tags": null
          },
          "name": "stderr",
          "output_type": "stream",
          "text": [
            "Epoch 271/300: 100%|██████████| 600/600 [00:19<00:00, 30.74it/s, loss_d=0.00176, loss_g=12.8]\n"
          ]
        },
        {
          "metadata": {
            "tags": null
          },
          "name": "stdout",
          "output_type": "stream",
          "text": [
            "[271/300]: loss_d: 0.002, loss_g: 12.803\n"
          ]
        },
        {
          "metadata": {
            "tags": null
          },
          "name": "stderr",
          "output_type": "stream",
          "text": [
            "Epoch 272/300: 100%|██████████| 600/600 [00:20<00:00, 28.94it/s, loss_d=0.00204, loss_g=13.9]\n"
          ]
        },
        {
          "metadata": {
            "tags": null
          },
          "name": "stdout",
          "output_type": "stream",
          "text": [
            "[272/300]: loss_d: 0.002, loss_g: 13.884\n"
          ]
        },
        {
          "metadata": {
            "tags": null
          },
          "name": "stderr",
          "output_type": "stream",
          "text": [
            "Epoch 273/300: 100%|██████████| 600/600 [00:20<00:00, 28.81it/s, loss_d=0.002, loss_g=13.7]\n"
          ]
        },
        {
          "metadata": {
            "tags": null
          },
          "name": "stdout",
          "output_type": "stream",
          "text": [
            "[273/300]: loss_d: 0.002, loss_g: 13.686\n"
          ]
        },
        {
          "metadata": {
            "tags": null
          },
          "name": "stderr",
          "output_type": "stream",
          "text": [
            "Epoch 274/300: 100%|██████████| 600/600 [00:21<00:00, 27.61it/s, loss_d=0.00127, loss_g=13]\n"
          ]
        },
        {
          "metadata": {
            "tags": null
          },
          "name": "stdout",
          "output_type": "stream",
          "text": [
            "[274/300]: loss_d: 0.001, loss_g: 13.018\n"
          ]
        },
        {
          "output_type": "stream",
          "name": "stderr",
          "text": [
            "Epoch 275/300: 100%|██████████| 600/600 [00:22<00:00, 26.32it/s, loss_d=0.00102, loss_g=13.8]\n"
          ]
        },
        {
          "output_type": "stream",
          "name": "stdout",
          "text": [
            "[275/300]: loss_d: 0.001, loss_g: 13.791\n"
          ]
        },
        {
          "output_type": "stream",
          "name": "stderr",
          "text": [
            "Epoch 276/300: 100%|██████████| 600/600 [00:23<00:00, 25.51it/s, loss_d=0.0013, loss_g=13.2]\n"
          ]
        },
        {
          "output_type": "stream",
          "name": "stdout",
          "text": [
            "[276/300]: loss_d: 0.001, loss_g: 13.162\n"
          ]
        },
        {
          "output_type": "stream",
          "name": "stderr",
          "text": [
            "Epoch 277/300: 100%|██████████| 600/600 [00:24<00:00, 24.96it/s, loss_d=0.00118, loss_g=14.4]\n"
          ]
        },
        {
          "output_type": "stream",
          "name": "stdout",
          "text": [
            "[277/300]: loss_d: 0.001, loss_g: 14.393\n"
          ]
        },
        {
          "output_type": "stream",
          "name": "stderr",
          "text": [
            "Epoch 278/300: 100%|██████████| 600/600 [00:23<00:00, 25.86it/s, loss_d=0.00157, loss_g=12.9]\n"
          ]
        },
        {
          "output_type": "stream",
          "name": "stdout",
          "text": [
            "[278/300]: loss_d: 0.002, loss_g: 12.929\n"
          ]
        },
        {
          "output_type": "stream",
          "name": "stderr",
          "text": [
            "Epoch 279/300: 100%|██████████| 600/600 [00:21<00:00, 28.03it/s, loss_d=0.00172, loss_g=13.7]\n"
          ]
        },
        {
          "output_type": "stream",
          "name": "stdout",
          "text": [
            "[279/300]: loss_d: 0.002, loss_g: 13.671\n"
          ]
        },
        {
          "output_type": "stream",
          "name": "stderr",
          "text": [
            "Epoch 280/300: 100%|██████████| 600/600 [00:20<00:00, 29.25it/s, loss_d=0.00244, loss_g=12.6]\n"
          ]
        },
        {
          "output_type": "stream",
          "name": "stdout",
          "text": [
            "[280/300]: loss_d: 0.002, loss_g: 12.629\n"
          ]
        },
        {
          "output_type": "stream",
          "name": "stderr",
          "text": [
            "Epoch 281/300: 100%|██████████| 600/600 [00:21<00:00, 27.99it/s, loss_d=0.000865, loss_g=12.2]\n"
          ]
        },
        {
          "output_type": "stream",
          "name": "stdout",
          "text": [
            "[281/300]: loss_d: 0.001, loss_g: 12.163\n"
          ]
        },
        {
          "output_type": "stream",
          "name": "stderr",
          "text": [
            "Epoch 282/300: 100%|██████████| 600/600 [00:21<00:00, 27.32it/s, loss_d=0.000655, loss_g=12.9]\n"
          ]
        },
        {
          "output_type": "stream",
          "name": "stdout",
          "text": [
            "[282/300]: loss_d: 0.001, loss_g: 12.896\n"
          ]
        },
        {
          "output_type": "stream",
          "name": "stderr",
          "text": [
            "Epoch 283/300: 100%|██████████| 600/600 [00:21<00:00, 28.34it/s, loss_d=0.000866, loss_g=12.8]\n"
          ]
        },
        {
          "output_type": "stream",
          "name": "stdout",
          "text": [
            "[283/300]: loss_d: 0.001, loss_g: 12.823\n"
          ]
        },
        {
          "output_type": "stream",
          "name": "stderr",
          "text": [
            "Epoch 284/300: 100%|██████████| 600/600 [00:20<00:00, 28.78it/s, loss_d=0.00144, loss_g=13.4]\n"
          ]
        },
        {
          "output_type": "stream",
          "name": "stdout",
          "text": [
            "[284/300]: loss_d: 0.001, loss_g: 13.398\n"
          ]
        },
        {
          "output_type": "stream",
          "name": "stderr",
          "text": [
            "Epoch 285/300: 100%|██████████| 600/600 [00:21<00:00, 28.16it/s, loss_d=0.00141, loss_g=13.2]\n"
          ]
        },
        {
          "output_type": "stream",
          "name": "stdout",
          "text": [
            "[285/300]: loss_d: 0.001, loss_g: 13.152\n"
          ]
        },
        {
          "output_type": "stream",
          "name": "stderr",
          "text": [
            "Epoch 286/300: 100%|██████████| 600/600 [00:21<00:00, 28.29it/s, loss_d=0.0015, loss_g=13.2]\n"
          ]
        },
        {
          "output_type": "stream",
          "name": "stdout",
          "text": [
            "[286/300]: loss_d: 0.001, loss_g: 13.232\n"
          ]
        },
        {
          "output_type": "stream",
          "name": "stderr",
          "text": [
            "Epoch 287/300: 100%|██████████| 600/600 [00:21<00:00, 28.48it/s, loss_d=0.00166, loss_g=13.7]\n"
          ]
        },
        {
          "output_type": "stream",
          "name": "stdout",
          "text": [
            "[287/300]: loss_d: 0.002, loss_g: 13.746\n"
          ]
        },
        {
          "output_type": "stream",
          "name": "stderr",
          "text": [
            "Epoch 288/300: 100%|██████████| 600/600 [00:21<00:00, 28.02it/s, loss_d=0.00216, loss_g=12.9]\n"
          ]
        },
        {
          "output_type": "stream",
          "name": "stdout",
          "text": [
            "[288/300]: loss_d: 0.002, loss_g: 12.919\n"
          ]
        },
        {
          "output_type": "stream",
          "name": "stderr",
          "text": [
            "Epoch 289/300: 100%|██████████| 600/600 [00:21<00:00, 28.39it/s, loss_d=0.000742, loss_g=13.1]\n"
          ]
        },
        {
          "output_type": "stream",
          "name": "stdout",
          "text": [
            "[289/300]: loss_d: 0.001, loss_g: 13.096\n"
          ]
        },
        {
          "output_type": "stream",
          "name": "stderr",
          "text": [
            "Epoch 290/300: 100%|██████████| 600/600 [00:21<00:00, 27.59it/s, loss_d=0.00117, loss_g=13.9]\n"
          ]
        },
        {
          "output_type": "stream",
          "name": "stdout",
          "text": [
            "[290/300]: loss_d: 0.001, loss_g: 13.906\n"
          ]
        },
        {
          "output_type": "stream",
          "name": "stderr",
          "text": [
            "Epoch 291/300: 100%|██████████| 600/600 [00:21<00:00, 28.12it/s, loss_d=0.00056, loss_g=12.9]\n"
          ]
        },
        {
          "output_type": "stream",
          "name": "stdout",
          "text": [
            "[291/300]: loss_d: 0.001, loss_g: 12.860\n"
          ]
        },
        {
          "output_type": "stream",
          "name": "stderr",
          "text": [
            "Epoch 292/300: 100%|██████████| 600/600 [00:21<00:00, 28.04it/s, loss_d=0.000905, loss_g=13.5]\n"
          ]
        },
        {
          "output_type": "stream",
          "name": "stdout",
          "text": [
            "[292/300]: loss_d: 0.001, loss_g: 13.518\n"
          ]
        },
        {
          "output_type": "stream",
          "name": "stderr",
          "text": [
            "Epoch 293/300: 100%|██████████| 600/600 [00:20<00:00, 28.88it/s, loss_d=0.00107, loss_g=13.2]\n"
          ]
        },
        {
          "output_type": "stream",
          "name": "stdout",
          "text": [
            "[293/300]: loss_d: 0.001, loss_g: 13.227\n"
          ]
        },
        {
          "output_type": "stream",
          "name": "stderr",
          "text": [
            "Epoch 294/300: 100%|██████████| 600/600 [00:21<00:00, 27.83it/s, loss_d=0.000683, loss_g=14.6]\n"
          ]
        },
        {
          "output_type": "stream",
          "name": "stdout",
          "text": [
            "[294/300]: loss_d: 0.001, loss_g: 14.601\n"
          ]
        },
        {
          "output_type": "stream",
          "name": "stderr",
          "text": [
            "Epoch 295/300: 100%|██████████| 600/600 [00:21<00:00, 28.32it/s, loss_d=0.00207, loss_g=14]\n"
          ]
        },
        {
          "output_type": "stream",
          "name": "stdout",
          "text": [
            "[295/300]: loss_d: 0.002, loss_g: 14.000\n"
          ]
        },
        {
          "output_type": "stream",
          "name": "stderr",
          "text": [
            "Epoch 296/300: 100%|██████████| 600/600 [00:21<00:00, 28.48it/s, loss_d=0.0023, loss_g=13.2]\n"
          ]
        },
        {
          "output_type": "stream",
          "name": "stdout",
          "text": [
            "[296/300]: loss_d: 0.002, loss_g: 13.154\n"
          ]
        },
        {
          "output_type": "stream",
          "name": "stderr",
          "text": [
            "Epoch 297/300: 100%|██████████| 600/600 [00:21<00:00, 28.49it/s, loss_d=0.00153, loss_g=13.4]\n"
          ]
        },
        {
          "output_type": "stream",
          "name": "stdout",
          "text": [
            "[297/300]: loss_d: 0.002, loss_g: 13.449\n"
          ]
        },
        {
          "output_type": "stream",
          "name": "stderr",
          "text": [
            "Epoch 298/300: 100%|██████████| 600/600 [00:22<00:00, 27.10it/s, loss_d=0.000933, loss_g=13.4]\n"
          ]
        },
        {
          "output_type": "stream",
          "name": "stdout",
          "text": [
            "[298/300]: loss_d: 0.001, loss_g: 13.396\n"
          ]
        },
        {
          "output_type": "stream",
          "name": "stderr",
          "text": [
            "Epoch 299/300: 100%|██████████| 600/600 [00:20<00:00, 28.59it/s, loss_d=0.00128, loss_g=13.3]\n"
          ]
        },
        {
          "output_type": "stream",
          "name": "stdout",
          "text": [
            "[299/300]: loss_d: 0.001, loss_g: 13.253\n"
          ]
        },
        {
          "output_type": "stream",
          "name": "stderr",
          "text": [
            "Epoch 300/300: 100%|██████████| 600/600 [00:21<00:00, 28.44it/s, loss_d=0.0015, loss_g=13.8]"
          ]
        },
        {
          "output_type": "stream",
          "name": "stdout",
          "text": [
            "[300/300]: loss_d: 0.002, loss_g: 13.806\n"
          ]
        },
        {
          "output_type": "stream",
          "name": "stderr",
          "text": [
            "\n"
          ]
        }
      ],
      "source": [
        "n_epoch = 300\n",
        "for epoch in range(1, n_epoch + 1):\n",
        "    D_losses, G_losses = [], []\n",
        "    with tqdm(enumerate(train_loader), total=len(train_loader), desc=f\"Epoch {epoch}/{n_epoch}\") as pbar:\n",
        "        for batch_idx, (x, _) in pbar:\n",
        "            D_losses.append(D_train(x))\n",
        "            G_losses.append(G_train(x))\n",
        "\n",
        "            # Обновляем строку с текущими потерями\n",
        "            pbar.set_postfix({\n",
        "                \"loss_d\": torch.mean(torch.FloatTensor(D_losses)).item(),\n",
        "                \"loss_g\": torch.mean(torch.FloatTensor(G_losses)).item()\n",
        "            })\n",
        "\n",
        "    print('[%d/%d]: loss_d: %.3f, loss_g: %.3f' % (\n",
        "            epoch, n_epoch,\n",
        "            torch.mean(torch.FloatTensor(D_losses)),\n",
        "            torch.mean(torch.FloatTensor(G_losses))))\n",
        "\n",
        "    generate_test_image(epoch)"
      ]
    },
    {
      "cell_type": "markdown",
      "metadata": {
        "id": "w19LKnhv3yK5"
      },
      "source": [
        "### Попытаемся использовать сверточные слои для улучшения"
      ]
    },
    {
      "cell_type": "code",
      "execution_count": 102,
      "metadata": {
        "id": "Xlebo_ft3yK7"
      },
      "outputs": [],
      "source": [
        "def generate_test_image(epoch):\n",
        "    with torch.no_grad():\n",
        "        test_latent = Variable(torch.randn(BATCH_SIZE, input_size_G, 1, 1).to(device))\n",
        "        generated = generator(test_latent)\n",
        "        save_image(generated, f'./output2/sample_{epoch}.png', nrow=10, normalize=True)"
      ]
    },
    {
      "cell_type": "code",
      "source": [
        "# Параметры\n",
        "input_size_G = 64\n",
        "mnist_channels = 1  # Для grayscale\n",
        "image_size = 28\n",
        "BATCH_SIZE = 100\n",
        "device = torch.device(\"cuda\" if torch.cuda.is_available() else \"cpu\")\n"
      ],
      "metadata": {
        "id": "PMWQ9XMSSvFC"
      },
      "execution_count": 92,
      "outputs": []
    },
    {
      "cell_type": "code",
      "source": [
        "class Generator(nn.Module):\n",
        "    def __init__(self, input_size, output_channels=1):\n",
        "        super(Generator, self).__init__()\n",
        "        self.model = nn.Sequential(\n",
        "            nn.ConvTranspose2d(input_size, 256, kernel_size=7, stride=1, padding=0, bias=False),\n",
        "            nn.BatchNorm2d(256),\n",
        "            nn.ReLU(),\n",
        "\n",
        "            nn.ConvTranspose2d(256, 128, kernel_size=4, stride=2, padding=1, bias=False),\n",
        "            nn.BatchNorm2d(128),\n",
        "            nn.ReLU(),\n",
        "\n",
        "            nn.ConvTranspose2d(128, 64, kernel_size=4, stride=2, padding=1, bias=False),\n",
        "            nn.BatchNorm2d(64),\n",
        "            nn.ReLU(),\n",
        "\n",
        "            nn.ConvTranspose2d(64, output_channels, kernel_size=3, stride=1, padding=1, bias=False),\n",
        "            nn.Tanh()\n",
        "        )\n",
        "\n",
        "    def forward(self, x):\n",
        "        return self.model(x)\n"
      ],
      "metadata": {
        "id": "kyVy5riTS41L"
      },
      "execution_count": 93,
      "outputs": []
    },
    {
      "cell_type": "code",
      "source": [
        "class Discriminator(nn.Module):\n",
        "    def __init__(self, input_channels=1):  # Grayscale input\n",
        "        super(Discriminator, self).__init__()\n",
        "        self.model = nn.Sequential(\n",
        "            nn.Conv2d(input_channels, 64, kernel_size=3, stride=2, padding=1, bias=False),\n",
        "            nn.LeakyReLU(0.2, inplace=True),\n",
        "\n",
        "            nn.Conv2d(64, 128, kernel_size=3, stride=2, padding=1, bias=False),\n",
        "            nn.BatchNorm2d(128),\n",
        "            nn.LeakyReLU(0.2, inplace=True),\n",
        "\n",
        "            nn.Conv2d(128, 256, kernel_size=3, stride=2, padding=1, bias=False),\n",
        "            nn.BatchNorm2d(256),\n",
        "            nn.LeakyReLU(0.2, inplace=True),\n",
        "\n",
        "            nn.Conv2d(256, 1, kernel_size=4, stride=1, padding=0, bias=False),\n",
        "            nn.Sigmoid()\n",
        "        )\n",
        "\n",
        "    def forward(self, x):\n",
        "        return self.model(x).view(-1, 1)"
      ],
      "metadata": {
        "id": "n97V9WEXS8es"
      },
      "execution_count": 94,
      "outputs": []
    },
    {
      "cell_type": "code",
      "source": [
        "def D_train(real_images, generator, discriminator, criterion, d_optimizer, device):\n",
        "    batch_size = real_images.size(0)\n",
        "    real_labels = torch.ones(batch_size, 1).to(device)\n",
        "    fake_labels = torch.zeros(batch_size, 1).to(device)\n",
        "\n",
        "    # 1. Обучение на реальных изображениях\n",
        "    d_optimizer.zero_grad()\n",
        "    real_images = real_images.to(device)\n",
        "    real_outputs = discriminator(real_images)\n",
        "    real_loss = criterion(real_outputs, real_labels)\n",
        "\n",
        "    # 2. Обучение на сгенерированных изображениях\n",
        "    noise = torch.randn(batch_size, generator.model[0].in_channels, 1, 1).to(device)\n",
        "    fake_images = generator(noise)\n",
        "    fake_outputs = discriminator(fake_images.detach())\n",
        "    fake_loss = criterion(fake_outputs, fake_labels)\n",
        "\n",
        "    # 3. Суммарный лосс и шаг оптимизации\n",
        "    d_loss = real_loss + fake_loss\n",
        "    d_loss.backward()\n",
        "    d_optimizer.step()\n",
        "\n",
        "    return d_loss.item()"
      ],
      "metadata": {
        "id": "DhJ3m53sWlOj"
      },
      "execution_count": 97,
      "outputs": []
    },
    {
      "cell_type": "code",
      "source": [
        "def G_train(generator, discriminator, criterion, g_optimizer, device):\n",
        "    batch_size = BATCH_SIZE\n",
        "    g_optimizer.zero_grad()\n",
        "\n",
        "    noise = torch.randn(batch_size, generator.model[0].in_channels, 1, 1).to(device)\n",
        "    fake_images = generator(noise)\n",
        "    labels = torch.ones(batch_size, 1).to(device)\n",
        "\n",
        "    outputs = discriminator(fake_images)\n",
        "    g_loss = criterion(outputs, labels)\n",
        "\n",
        "    g_loss.backward()\n",
        "    g_optimizer.step()\n",
        "\n",
        "    return g_loss.item()"
      ],
      "metadata": {
        "id": "bMD1SlK0Wn7L"
      },
      "execution_count": 95,
      "outputs": []
    },
    {
      "cell_type": "code",
      "source": [
        "n_epoch = 100\n",
        "generator = Generator(input_size=64, output_channels=1).to(device)  # Grayscale\n",
        "\n",
        "discriminator = Discriminator(input_channels=1).to(device)  # Grayscale\n",
        "\n",
        "criterion = nn.BCELoss()\n",
        "g_optimizer = optim.Adam(generator.parameters(), lr=0.0002, betas=(0.5, 0.999))\n",
        "d_optimizer = optim.Adam(discriminator.parameters(), lr=0.0002, betas=(0.5, 0.999))\n",
        "\n",
        "for epoch in range(1, n_epoch + 1):\n",
        "    D_losses, G_losses = [], []\n",
        "\n",
        "    with tqdm(enumerate(train_loader), total=len(train_loader), desc=f\"Epoch {epoch}/{n_epoch}\") as pbar:\n",
        "        for batch_idx, (x, _) in pbar:\n",
        "            x = x.to(device)  # Передаем данные на устройство\n",
        "            d_loss = D_train(x, generator, discriminator, criterion, d_optimizer, device)\n",
        "            g_loss = G_train(generator, discriminator, criterion, g_optimizer, device)\n",
        "\n",
        "            D_losses.append(d_loss)\n",
        "            G_losses.append(g_loss)\n",
        "\n",
        "            pbar.set_postfix({\n",
        "                \"loss_d\": torch.mean(torch.FloatTensor(D_losses)).item(),\n",
        "                \"loss_g\": torch.mean(torch.FloatTensor(G_losses)).item()\n",
        "            })\n",
        "\n",
        "    print('[%d/%d]: loss_d: %.3f, loss_g: %.3f' % (\n",
        "            epoch, n_epoch,\n",
        "            torch.mean(torch.FloatTensor(D_losses)),\n",
        "            torch.mean(torch.FloatTensor(G_losses))))\n",
        "\n",
        "    # Генерация тестовых изображений\n",
        "    generate_test_image(epoch)"
      ],
      "metadata": {
        "colab": {
          "base_uri": "https://localhost:8080/"
        },
        "id": "F-P8AaXeWvJC",
        "outputId": "1c08762d-27ec-46cf-d694-f31fd18fcc3e"
      },
      "execution_count": 103,
      "outputs": [
        {
          "metadata": {
            "tags": null
          },
          "name": "stderr",
          "output_type": "stream",
          "text": [
            "Epoch 1/100: 100%|██████████| 600/600 [00:34<00:00, 17.43it/s, loss_d=0.219, loss_g=4.16]\n"
          ]
        },
        {
          "metadata": {
            "tags": null
          },
          "name": "stdout",
          "output_type": "stream",
          "text": [
            "[1/100]: loss_d: 0.219, loss_g: 4.157\n"
          ]
        },
        {
          "metadata": {
            "tags": null
          },
          "name": "stderr",
          "output_type": "stream",
          "text": [
            "Epoch 2/100: 100%|██████████| 600/600 [00:35<00:00, 17.08it/s, loss_d=0.237, loss_g=3.91]\n"
          ]
        },
        {
          "metadata": {
            "tags": null
          },
          "name": "stdout",
          "output_type": "stream",
          "text": [
            "[2/100]: loss_d: 0.237, loss_g: 3.912\n"
          ]
        },
        {
          "metadata": {
            "tags": null
          },
          "name": "stderr",
          "output_type": "stream",
          "text": [
            "Epoch 3/100: 100%|██████████| 600/600 [00:34<00:00, 17.42it/s, loss_d=0.361, loss_g=3.3]\n"
          ]
        },
        {
          "metadata": {
            "tags": null
          },
          "name": "stdout",
          "output_type": "stream",
          "text": [
            "[3/100]: loss_d: 0.361, loss_g: 3.296\n"
          ]
        },
        {
          "metadata": {
            "tags": null
          },
          "name": "stderr",
          "output_type": "stream",
          "text": [
            "Epoch 4/100: 100%|██████████| 600/600 [00:34<00:00, 17.50it/s, loss_d=0.264, loss_g=3.63]\n"
          ]
        },
        {
          "metadata": {
            "tags": null
          },
          "name": "stdout",
          "output_type": "stream",
          "text": [
            "[4/100]: loss_d: 0.264, loss_g: 3.633\n"
          ]
        },
        {
          "metadata": {
            "tags": null
          },
          "name": "stderr",
          "output_type": "stream",
          "text": [
            "Epoch 5/100: 100%|██████████| 600/600 [00:34<00:00, 17.58it/s, loss_d=0.257, loss_g=3.7]\n"
          ]
        },
        {
          "metadata": {
            "tags": null
          },
          "name": "stdout",
          "output_type": "stream",
          "text": [
            "[5/100]: loss_d: 0.257, loss_g: 3.700\n"
          ]
        },
        {
          "metadata": {
            "tags": null
          },
          "name": "stderr",
          "output_type": "stream",
          "text": [
            "Epoch 6/100: 100%|██████████| 600/600 [00:34<00:00, 17.45it/s, loss_d=0.244, loss_g=3.84]\n"
          ]
        },
        {
          "metadata": {
            "tags": null
          },
          "name": "stdout",
          "output_type": "stream",
          "text": [
            "[6/100]: loss_d: 0.244, loss_g: 3.839\n"
          ]
        },
        {
          "metadata": {
            "tags": null
          },
          "name": "stderr",
          "output_type": "stream",
          "text": [
            "Epoch 7/100: 100%|██████████| 600/600 [00:34<00:00, 17.33it/s, loss_d=0.203, loss_g=4.19]\n"
          ]
        },
        {
          "metadata": {
            "tags": null
          },
          "name": "stdout",
          "output_type": "stream",
          "text": [
            "[7/100]: loss_d: 0.203, loss_g: 4.188\n"
          ]
        },
        {
          "metadata": {
            "tags": null
          },
          "name": "stderr",
          "output_type": "stream",
          "text": [
            "Epoch 8/100: 100%|██████████| 600/600 [00:34<00:00, 17.41it/s, loss_d=0.316, loss_g=3.62]\n"
          ]
        },
        {
          "metadata": {
            "tags": null
          },
          "name": "stdout",
          "output_type": "stream",
          "text": [
            "[8/100]: loss_d: 0.316, loss_g: 3.619\n"
          ]
        },
        {
          "metadata": {
            "tags": null
          },
          "name": "stderr",
          "output_type": "stream",
          "text": [
            "Epoch 9/100: 100%|██████████| 600/600 [00:34<00:00, 17.57it/s, loss_d=0.127, loss_g=4.65]\n"
          ]
        },
        {
          "metadata": {
            "tags": null
          },
          "name": "stdout",
          "output_type": "stream",
          "text": [
            "[9/100]: loss_d: 0.127, loss_g: 4.648\n"
          ]
        },
        {
          "metadata": {
            "tags": null
          },
          "name": "stderr",
          "output_type": "stream",
          "text": [
            "Epoch 10/100: 100%|██████████| 600/600 [00:34<00:00, 17.47it/s, loss_d=0.254, loss_g=4.05]\n"
          ]
        },
        {
          "metadata": {
            "tags": null
          },
          "name": "stdout",
          "output_type": "stream",
          "text": [
            "[10/100]: loss_d: 0.254, loss_g: 4.049\n"
          ]
        },
        {
          "metadata": {
            "tags": null
          },
          "name": "stderr",
          "output_type": "stream",
          "text": [
            "Epoch 11/100: 100%|██████████| 600/600 [00:34<00:00, 17.39it/s, loss_d=0.268, loss_g=4.01]\n"
          ]
        },
        {
          "metadata": {
            "tags": null
          },
          "name": "stdout",
          "output_type": "stream",
          "text": [
            "[11/100]: loss_d: 0.268, loss_g: 4.010\n"
          ]
        },
        {
          "metadata": {
            "tags": null
          },
          "name": "stderr",
          "output_type": "stream",
          "text": [
            "Epoch 12/100: 100%|██████████| 600/600 [00:34<00:00, 17.26it/s, loss_d=0.17, loss_g=4.38]\n"
          ]
        },
        {
          "metadata": {
            "tags": null
          },
          "name": "stdout",
          "output_type": "stream",
          "text": [
            "[12/100]: loss_d: 0.170, loss_g: 4.383\n"
          ]
        },
        {
          "metadata": {
            "tags": null
          },
          "name": "stderr",
          "output_type": "stream",
          "text": [
            "Epoch 13/100: 100%|██████████| 600/600 [00:34<00:00, 17.53it/s, loss_d=0.236, loss_g=4.18]\n"
          ]
        },
        {
          "metadata": {
            "tags": null
          },
          "name": "stdout",
          "output_type": "stream",
          "text": [
            "[13/100]: loss_d: 0.236, loss_g: 4.181\n"
          ]
        },
        {
          "metadata": {
            "tags": null
          },
          "name": "stderr",
          "output_type": "stream",
          "text": [
            "Epoch 14/100: 100%|██████████| 600/600 [00:34<00:00, 17.61it/s, loss_d=0.264, loss_g=4.02]\n"
          ]
        },
        {
          "metadata": {
            "tags": null
          },
          "name": "stdout",
          "output_type": "stream",
          "text": [
            "[14/100]: loss_d: 0.264, loss_g: 4.016\n"
          ]
        },
        {
          "metadata": {
            "tags": null
          },
          "name": "stderr",
          "output_type": "stream",
          "text": [
            "Epoch 15/100: 100%|██████████| 600/600 [00:34<00:00, 17.48it/s, loss_d=0.197, loss_g=4.45]\n"
          ]
        },
        {
          "metadata": {
            "tags": null
          },
          "name": "stdout",
          "output_type": "stream",
          "text": [
            "[15/100]: loss_d: 0.197, loss_g: 4.448\n"
          ]
        },
        {
          "metadata": {
            "tags": null
          },
          "name": "stderr",
          "output_type": "stream",
          "text": [
            "Epoch 16/100: 100%|██████████| 600/600 [00:34<00:00, 17.45it/s, loss_d=0.328, loss_g=3.66]\n"
          ]
        },
        {
          "metadata": {
            "tags": null
          },
          "name": "stdout",
          "output_type": "stream",
          "text": [
            "[16/100]: loss_d: 0.328, loss_g: 3.662\n"
          ]
        },
        {
          "metadata": {
            "tags": null
          },
          "name": "stderr",
          "output_type": "stream",
          "text": [
            "Epoch 17/100: 100%|██████████| 600/600 [00:34<00:00, 17.33it/s, loss_d=0.243, loss_g=4.04]\n"
          ]
        },
        {
          "metadata": {
            "tags": null
          },
          "name": "stdout",
          "output_type": "stream",
          "text": [
            "[17/100]: loss_d: 0.243, loss_g: 4.038\n"
          ]
        },
        {
          "metadata": {
            "tags": null
          },
          "name": "stderr",
          "output_type": "stream",
          "text": [
            "Epoch 18/100: 100%|██████████| 600/600 [00:34<00:00, 17.54it/s, loss_d=0.229, loss_g=4.03]\n"
          ]
        },
        {
          "metadata": {
            "tags": null
          },
          "name": "stdout",
          "output_type": "stream",
          "text": [
            "[18/100]: loss_d: 0.229, loss_g: 4.029\n"
          ]
        },
        {
          "metadata": {
            "tags": null
          },
          "name": "stderr",
          "output_type": "stream",
          "text": [
            "Epoch 19/100: 100%|██████████| 600/600 [00:34<00:00, 17.54it/s, loss_d=0.329, loss_g=3.43]\n"
          ]
        },
        {
          "metadata": {
            "tags": null
          },
          "name": "stdout",
          "output_type": "stream",
          "text": [
            "[19/100]: loss_d: 0.329, loss_g: 3.432\n"
          ]
        },
        {
          "metadata": {
            "tags": null
          },
          "name": "stderr",
          "output_type": "stream",
          "text": [
            "Epoch 20/100: 100%|██████████| 600/600 [00:34<00:00, 17.42it/s, loss_d=0.316, loss_g=3.19]\n"
          ]
        },
        {
          "metadata": {
            "tags": null
          },
          "name": "stdout",
          "output_type": "stream",
          "text": [
            "[20/100]: loss_d: 0.316, loss_g: 3.194\n"
          ]
        },
        {
          "metadata": {
            "tags": null
          },
          "name": "stderr",
          "output_type": "stream",
          "text": [
            "Epoch 21/100: 100%|██████████| 600/600 [00:34<00:00, 17.50it/s, loss_d=0.29, loss_g=3.38]\n"
          ]
        },
        {
          "metadata": {
            "tags": null
          },
          "name": "stdout",
          "output_type": "stream",
          "text": [
            "[21/100]: loss_d: 0.290, loss_g: 3.380\n"
          ]
        },
        {
          "metadata": {
            "tags": null
          },
          "name": "stderr",
          "output_type": "stream",
          "text": [
            "Epoch 22/100: 100%|██████████| 600/600 [00:34<00:00, 17.31it/s, loss_d=0.238, loss_g=3.76]\n"
          ]
        },
        {
          "metadata": {
            "tags": null
          },
          "name": "stdout",
          "output_type": "stream",
          "text": [
            "[22/100]: loss_d: 0.238, loss_g: 3.756\n"
          ]
        },
        {
          "metadata": {
            "tags": null
          },
          "name": "stderr",
          "output_type": "stream",
          "text": [
            "Epoch 23/100: 100%|██████████| 600/600 [00:34<00:00, 17.54it/s, loss_d=0.262, loss_g=3.63]\n"
          ]
        },
        {
          "metadata": {
            "tags": null
          },
          "name": "stdout",
          "output_type": "stream",
          "text": [
            "[23/100]: loss_d: 0.262, loss_g: 3.629\n"
          ]
        },
        {
          "metadata": {
            "tags": null
          },
          "name": "stderr",
          "output_type": "stream",
          "text": [
            "Epoch 24/100: 100%|██████████| 600/600 [00:34<00:00, 17.48it/s, loss_d=0.281, loss_g=3.68]\n"
          ]
        },
        {
          "metadata": {
            "tags": null
          },
          "name": "stdout",
          "output_type": "stream",
          "text": [
            "[24/100]: loss_d: 0.281, loss_g: 3.682\n"
          ]
        },
        {
          "metadata": {
            "tags": null
          },
          "name": "stderr",
          "output_type": "stream",
          "text": [
            "Epoch 25/100: 100%|██████████| 600/600 [00:33<00:00, 17.70it/s, loss_d=0.258, loss_g=3.87]\n"
          ]
        },
        {
          "metadata": {
            "tags": null
          },
          "name": "stdout",
          "output_type": "stream",
          "text": [
            "[25/100]: loss_d: 0.258, loss_g: 3.873\n"
          ]
        },
        {
          "metadata": {
            "tags": null
          },
          "name": "stderr",
          "output_type": "stream",
          "text": [
            "Epoch 26/100: 100%|██████████| 600/600 [00:33<00:00, 17.81it/s, loss_d=0.248, loss_g=3.61]\n"
          ]
        },
        {
          "metadata": {
            "tags": null
          },
          "name": "stdout",
          "output_type": "stream",
          "text": [
            "[26/100]: loss_d: 0.248, loss_g: 3.613\n"
          ]
        },
        {
          "metadata": {
            "tags": null
          },
          "name": "stderr",
          "output_type": "stream",
          "text": [
            "Epoch 27/100: 100%|██████████| 600/600 [00:33<00:00, 17.95it/s, loss_d=0.262, loss_g=3.71]\n"
          ]
        },
        {
          "metadata": {
            "tags": null
          },
          "name": "stdout",
          "output_type": "stream",
          "text": [
            "[27/100]: loss_d: 0.262, loss_g: 3.714\n"
          ]
        },
        {
          "metadata": {
            "tags": null
          },
          "name": "stderr",
          "output_type": "stream",
          "text": [
            "Epoch 28/100: 100%|██████████| 600/600 [00:34<00:00, 17.65it/s, loss_d=0.299, loss_g=3.7]\n"
          ]
        },
        {
          "metadata": {
            "tags": null
          },
          "name": "stdout",
          "output_type": "stream",
          "text": [
            "[28/100]: loss_d: 0.299, loss_g: 3.697\n"
          ]
        },
        {
          "metadata": {
            "tags": null
          },
          "name": "stderr",
          "output_type": "stream",
          "text": [
            "Epoch 29/100: 100%|██████████| 600/600 [00:33<00:00, 17.78it/s, loss_d=0.278, loss_g=3.69]\n"
          ]
        },
        {
          "metadata": {
            "tags": null
          },
          "name": "stdout",
          "output_type": "stream",
          "text": [
            "[29/100]: loss_d: 0.278, loss_g: 3.695\n"
          ]
        },
        {
          "metadata": {
            "tags": null
          },
          "name": "stderr",
          "output_type": "stream",
          "text": [
            "Epoch 30/100: 100%|██████████| 600/600 [00:33<00:00, 17.81it/s, loss_d=0.222, loss_g=3.94]\n"
          ]
        },
        {
          "metadata": {
            "tags": null
          },
          "name": "stdout",
          "output_type": "stream",
          "text": [
            "[30/100]: loss_d: 0.222, loss_g: 3.942\n"
          ]
        },
        {
          "metadata": {
            "tags": null
          },
          "name": "stderr",
          "output_type": "stream",
          "text": [
            "Epoch 31/100: 100%|██████████| 600/600 [00:33<00:00, 17.99it/s, loss_d=0.282, loss_g=3.68]\n"
          ]
        },
        {
          "metadata": {
            "tags": null
          },
          "name": "stdout",
          "output_type": "stream",
          "text": [
            "[31/100]: loss_d: 0.282, loss_g: 3.684\n"
          ]
        },
        {
          "metadata": {
            "tags": null
          },
          "name": "stderr",
          "output_type": "stream",
          "text": [
            "Epoch 32/100: 100%|██████████| 600/600 [00:33<00:00, 17.77it/s, loss_d=0.259, loss_g=3.74]\n"
          ]
        },
        {
          "metadata": {
            "tags": null
          },
          "name": "stdout",
          "output_type": "stream",
          "text": [
            "[32/100]: loss_d: 0.259, loss_g: 3.742\n"
          ]
        },
        {
          "metadata": {
            "tags": null
          },
          "name": "stderr",
          "output_type": "stream",
          "text": [
            "Epoch 33/100: 100%|██████████| 600/600 [00:34<00:00, 17.64it/s, loss_d=0.277, loss_g=3.8]\n"
          ]
        },
        {
          "metadata": {
            "tags": null
          },
          "name": "stdout",
          "output_type": "stream",
          "text": [
            "[33/100]: loss_d: 0.277, loss_g: 3.803\n"
          ]
        },
        {
          "metadata": {
            "tags": null
          },
          "name": "stderr",
          "output_type": "stream",
          "text": [
            "Epoch 34/100: 100%|██████████| 600/600 [00:33<00:00, 17.75it/s, loss_d=0.219, loss_g=3.97]\n"
          ]
        },
        {
          "metadata": {
            "tags": null
          },
          "name": "stdout",
          "output_type": "stream",
          "text": [
            "[34/100]: loss_d: 0.219, loss_g: 3.972\n"
          ]
        },
        {
          "metadata": {
            "tags": null
          },
          "name": "stderr",
          "output_type": "stream",
          "text": [
            "Epoch 35/100: 100%|██████████| 600/600 [00:34<00:00, 17.40it/s, loss_d=0.314, loss_g=3.66]\n"
          ]
        },
        {
          "metadata": {
            "tags": null
          },
          "name": "stdout",
          "output_type": "stream",
          "text": [
            "[35/100]: loss_d: 0.314, loss_g: 3.658\n"
          ]
        },
        {
          "metadata": {
            "tags": null
          },
          "name": "stderr",
          "output_type": "stream",
          "text": [
            "Epoch 36/100: 100%|██████████| 600/600 [00:35<00:00, 17.14it/s, loss_d=0.274, loss_g=3.68]\n"
          ]
        },
        {
          "metadata": {
            "tags": null
          },
          "name": "stdout",
          "output_type": "stream",
          "text": [
            "[36/100]: loss_d: 0.274, loss_g: 3.680\n"
          ]
        },
        {
          "metadata": {
            "tags": null
          },
          "name": "stderr",
          "output_type": "stream",
          "text": [
            "Epoch 37/100: 100%|██████████| 600/600 [00:35<00:00, 17.12it/s, loss_d=0.262, loss_g=3.86]\n"
          ]
        },
        {
          "metadata": {
            "tags": null
          },
          "name": "stdout",
          "output_type": "stream",
          "text": [
            "[37/100]: loss_d: 0.262, loss_g: 3.863\n"
          ]
        },
        {
          "metadata": {
            "tags": null
          },
          "name": "stderr",
          "output_type": "stream",
          "text": [
            "Epoch 38/100: 100%|██████████| 600/600 [00:35<00:00, 16.97it/s, loss_d=0.246, loss_g=3.76]\n"
          ]
        },
        {
          "metadata": {
            "tags": null
          },
          "name": "stdout",
          "output_type": "stream",
          "text": [
            "[38/100]: loss_d: 0.246, loss_g: 3.762\n"
          ]
        },
        {
          "metadata": {
            "tags": null
          },
          "name": "stderr",
          "output_type": "stream",
          "text": [
            "Epoch 39/100: 100%|██████████| 600/600 [00:34<00:00, 17.17it/s, loss_d=0.261, loss_g=3.9]\n"
          ]
        },
        {
          "metadata": {
            "tags": null
          },
          "name": "stdout",
          "output_type": "stream",
          "text": [
            "[39/100]: loss_d: 0.261, loss_g: 3.901\n"
          ]
        },
        {
          "metadata": {
            "tags": null
          },
          "name": "stderr",
          "output_type": "stream",
          "text": [
            "Epoch 40/100: 100%|██████████| 600/600 [00:35<00:00, 17.11it/s, loss_d=0.287, loss_g=3.69]\n"
          ]
        },
        {
          "metadata": {
            "tags": null
          },
          "name": "stdout",
          "output_type": "stream",
          "text": [
            "[40/100]: loss_d: 0.287, loss_g: 3.685\n"
          ]
        },
        {
          "metadata": {
            "tags": null
          },
          "name": "stderr",
          "output_type": "stream",
          "text": [
            "Epoch 41/100: 100%|██████████| 600/600 [00:35<00:00, 17.07it/s, loss_d=0.283, loss_g=3.73]\n"
          ]
        },
        {
          "metadata": {
            "tags": null
          },
          "name": "stdout",
          "output_type": "stream",
          "text": [
            "[41/100]: loss_d: 0.283, loss_g: 3.731\n"
          ]
        },
        {
          "metadata": {
            "tags": null
          },
          "name": "stderr",
          "output_type": "stream",
          "text": [
            "Epoch 42/100: 100%|██████████| 600/600 [00:34<00:00, 17.26it/s, loss_d=0.239, loss_g=3.9]\n"
          ]
        },
        {
          "metadata": {
            "tags": null
          },
          "name": "stdout",
          "output_type": "stream",
          "text": [
            "[42/100]: loss_d: 0.239, loss_g: 3.898\n"
          ]
        },
        {
          "metadata": {
            "tags": null
          },
          "name": "stderr",
          "output_type": "stream",
          "text": [
            "Epoch 43/100: 100%|██████████| 600/600 [00:34<00:00, 17.21it/s, loss_d=0.277, loss_g=3.75]\n"
          ]
        },
        {
          "metadata": {
            "tags": null
          },
          "name": "stdout",
          "output_type": "stream",
          "text": [
            "[43/100]: loss_d: 0.277, loss_g: 3.751\n"
          ]
        },
        {
          "metadata": {
            "tags": null
          },
          "name": "stderr",
          "output_type": "stream",
          "text": [
            "Epoch 44/100: 100%|██████████| 600/600 [00:35<00:00, 16.97it/s, loss_d=0.266, loss_g=4]\n"
          ]
        },
        {
          "metadata": {
            "tags": null
          },
          "name": "stdout",
          "output_type": "stream",
          "text": [
            "[44/100]: loss_d: 0.266, loss_g: 3.995\n"
          ]
        },
        {
          "metadata": {
            "tags": null
          },
          "name": "stderr",
          "output_type": "stream",
          "text": [
            "Epoch 45/100: 100%|██████████| 600/600 [00:35<00:00, 17.09it/s, loss_d=0.251, loss_g=3.8]\n"
          ]
        },
        {
          "metadata": {
            "tags": null
          },
          "name": "stdout",
          "output_type": "stream",
          "text": [
            "[45/100]: loss_d: 0.251, loss_g: 3.798\n"
          ]
        },
        {
          "metadata": {
            "tags": null
          },
          "name": "stderr",
          "output_type": "stream",
          "text": [
            "Epoch 46/100: 100%|██████████| 600/600 [00:35<00:00, 17.03it/s, loss_d=0.272, loss_g=3.75]\n"
          ]
        },
        {
          "metadata": {
            "tags": null
          },
          "name": "stdout",
          "output_type": "stream",
          "text": [
            "[46/100]: loss_d: 0.272, loss_g: 3.746\n"
          ]
        },
        {
          "metadata": {
            "tags": null
          },
          "name": "stderr",
          "output_type": "stream",
          "text": [
            "Epoch 47/100: 100%|██████████| 600/600 [00:35<00:00, 17.10it/s, loss_d=0.25, loss_g=4]\n"
          ]
        },
        {
          "metadata": {
            "tags": null
          },
          "name": "stdout",
          "output_type": "stream",
          "text": [
            "[47/100]: loss_d: 0.250, loss_g: 4.003\n"
          ]
        },
        {
          "metadata": {
            "tags": null
          },
          "name": "stderr",
          "output_type": "stream",
          "text": [
            "Epoch 48/100: 100%|██████████| 600/600 [00:35<00:00, 17.12it/s, loss_d=0.259, loss_g=3.76]\n"
          ]
        },
        {
          "metadata": {
            "tags": null
          },
          "name": "stdout",
          "output_type": "stream",
          "text": [
            "[48/100]: loss_d: 0.259, loss_g: 3.760\n"
          ]
        },
        {
          "metadata": {
            "tags": null
          },
          "name": "stderr",
          "output_type": "stream",
          "text": [
            "Epoch 49/100: 100%|██████████| 600/600 [00:35<00:00, 16.97it/s, loss_d=0.278, loss_g=3.75]\n"
          ]
        },
        {
          "metadata": {
            "tags": null
          },
          "name": "stdout",
          "output_type": "stream",
          "text": [
            "[49/100]: loss_d: 0.278, loss_g: 3.754\n"
          ]
        },
        {
          "metadata": {
            "tags": null
          },
          "name": "stderr",
          "output_type": "stream",
          "text": [
            "Epoch 50/100: 100%|██████████| 600/600 [00:34<00:00, 17.18it/s, loss_d=0.31, loss_g=3.62]\n"
          ]
        },
        {
          "metadata": {
            "tags": null
          },
          "name": "stdout",
          "output_type": "stream",
          "text": [
            "[50/100]: loss_d: 0.310, loss_g: 3.619\n"
          ]
        },
        {
          "metadata": {
            "tags": null
          },
          "name": "stderr",
          "output_type": "stream",
          "text": [
            "Epoch 51/100: 100%|██████████| 600/600 [00:35<00:00, 17.14it/s, loss_d=0.25, loss_g=3.91]\n"
          ]
        },
        {
          "metadata": {
            "tags": null
          },
          "name": "stdout",
          "output_type": "stream",
          "text": [
            "[51/100]: loss_d: 0.250, loss_g: 3.914\n"
          ]
        },
        {
          "metadata": {
            "tags": null
          },
          "name": "stderr",
          "output_type": "stream",
          "text": [
            "Epoch 52/100: 100%|██████████| 600/600 [00:35<00:00, 17.07it/s, loss_d=0.286, loss_g=3.65]\n"
          ]
        },
        {
          "metadata": {
            "tags": null
          },
          "name": "stdout",
          "output_type": "stream",
          "text": [
            "[52/100]: loss_d: 0.286, loss_g: 3.651\n"
          ]
        },
        {
          "metadata": {
            "tags": null
          },
          "name": "stderr",
          "output_type": "stream",
          "text": [
            "Epoch 53/100: 100%|██████████| 600/600 [00:35<00:00, 17.06it/s, loss_d=0.311, loss_g=3.67]\n"
          ]
        },
        {
          "metadata": {
            "tags": null
          },
          "name": "stdout",
          "output_type": "stream",
          "text": [
            "[53/100]: loss_d: 0.311, loss_g: 3.669\n"
          ]
        },
        {
          "metadata": {
            "tags": null
          },
          "name": "stderr",
          "output_type": "stream",
          "text": [
            "Epoch 54/100: 100%|██████████| 600/600 [00:35<00:00, 16.88it/s, loss_d=0.316, loss_g=3.47]\n"
          ]
        },
        {
          "metadata": {
            "tags": null
          },
          "name": "stdout",
          "output_type": "stream",
          "text": [
            "[54/100]: loss_d: 0.316, loss_g: 3.469\n"
          ]
        },
        {
          "metadata": {
            "tags": null
          },
          "name": "stderr",
          "output_type": "stream",
          "text": [
            "Epoch 55/100: 100%|██████████| 600/600 [00:35<00:00, 17.04it/s, loss_d=0.3, loss_g=3.51]\n"
          ]
        },
        {
          "metadata": {
            "tags": null
          },
          "name": "stdout",
          "output_type": "stream",
          "text": [
            "[55/100]: loss_d: 0.300, loss_g: 3.513\n"
          ]
        },
        {
          "metadata": {
            "tags": null
          },
          "name": "stderr",
          "output_type": "stream",
          "text": [
            "Epoch 56/100: 100%|██████████| 600/600 [00:34<00:00, 17.17it/s, loss_d=0.273, loss_g=3.75]\n"
          ]
        },
        {
          "metadata": {
            "tags": null
          },
          "name": "stdout",
          "output_type": "stream",
          "text": [
            "[56/100]: loss_d: 0.273, loss_g: 3.747\n"
          ]
        },
        {
          "metadata": {
            "tags": null
          },
          "name": "stderr",
          "output_type": "stream",
          "text": [
            "Epoch 57/100: 100%|██████████| 600/600 [00:35<00:00, 17.04it/s, loss_d=0.328, loss_g=3.51]\n"
          ]
        },
        {
          "metadata": {
            "tags": null
          },
          "name": "stdout",
          "output_type": "stream",
          "text": [
            "[57/100]: loss_d: 0.328, loss_g: 3.513\n"
          ]
        },
        {
          "metadata": {
            "tags": null
          },
          "name": "stderr",
          "output_type": "stream",
          "text": [
            "Epoch 58/100: 100%|██████████| 600/600 [00:35<00:00, 17.05it/s, loss_d=0.289, loss_g=3.66]\n"
          ]
        },
        {
          "metadata": {
            "tags": null
          },
          "name": "stdout",
          "output_type": "stream",
          "text": [
            "[58/100]: loss_d: 0.289, loss_g: 3.660\n"
          ]
        },
        {
          "metadata": {
            "tags": null
          },
          "name": "stderr",
          "output_type": "stream",
          "text": [
            "Epoch 59/100: 100%|██████████| 600/600 [00:35<00:00, 16.88it/s, loss_d=0.296, loss_g=3.62]\n"
          ]
        },
        {
          "metadata": {
            "tags": null
          },
          "name": "stdout",
          "output_type": "stream",
          "text": [
            "[59/100]: loss_d: 0.296, loss_g: 3.621\n"
          ]
        },
        {
          "metadata": {
            "tags": null
          },
          "name": "stderr",
          "output_type": "stream",
          "text": [
            "Epoch 60/100: 100%|██████████| 600/600 [00:35<00:00, 17.03it/s, loss_d=0.338, loss_g=3.43]\n"
          ]
        },
        {
          "metadata": {
            "tags": null
          },
          "name": "stdout",
          "output_type": "stream",
          "text": [
            "[60/100]: loss_d: 0.338, loss_g: 3.427\n"
          ]
        },
        {
          "metadata": {
            "tags": null
          },
          "name": "stderr",
          "output_type": "stream",
          "text": [
            "Epoch 61/100: 100%|██████████| 600/600 [00:35<00:00, 17.08it/s, loss_d=0.309, loss_g=3.64]\n"
          ]
        },
        {
          "metadata": {
            "tags": null
          },
          "name": "stdout",
          "output_type": "stream",
          "text": [
            "[61/100]: loss_d: 0.309, loss_g: 3.641\n"
          ]
        },
        {
          "metadata": {
            "tags": null
          },
          "name": "stderr",
          "output_type": "stream",
          "text": [
            "Epoch 62/100: 100%|██████████| 600/600 [00:35<00:00, 17.00it/s, loss_d=0.326, loss_g=3.46]\n"
          ]
        },
        {
          "metadata": {
            "tags": null
          },
          "name": "stdout",
          "output_type": "stream",
          "text": [
            "[62/100]: loss_d: 0.326, loss_g: 3.456\n"
          ]
        },
        {
          "metadata": {
            "tags": null
          },
          "name": "stderr",
          "output_type": "stream",
          "text": [
            "Epoch 63/100: 100%|██████████| 600/600 [00:35<00:00, 17.13it/s, loss_d=0.326, loss_g=3.56]\n"
          ]
        },
        {
          "metadata": {
            "tags": null
          },
          "name": "stdout",
          "output_type": "stream",
          "text": [
            "[63/100]: loss_d: 0.326, loss_g: 3.557\n"
          ]
        },
        {
          "metadata": {
            "tags": null
          },
          "name": "stderr",
          "output_type": "stream",
          "text": [
            "Epoch 64/100: 100%|██████████| 600/600 [00:35<00:00, 16.93it/s, loss_d=0.28, loss_g=3.6]\n"
          ]
        },
        {
          "metadata": {
            "tags": null
          },
          "name": "stdout",
          "output_type": "stream",
          "text": [
            "[64/100]: loss_d: 0.280, loss_g: 3.597\n"
          ]
        },
        {
          "metadata": {
            "tags": null
          },
          "name": "stderr",
          "output_type": "stream",
          "text": [
            "Epoch 65/100: 100%|██████████| 600/600 [00:35<00:00, 17.10it/s, loss_d=0.317, loss_g=3.54]\n"
          ]
        },
        {
          "metadata": {
            "tags": null
          },
          "name": "stdout",
          "output_type": "stream",
          "text": [
            "[65/100]: loss_d: 0.317, loss_g: 3.537\n"
          ]
        },
        {
          "metadata": {
            "tags": null
          },
          "name": "stderr",
          "output_type": "stream",
          "text": [
            "Epoch 66/100: 100%|██████████| 600/600 [00:35<00:00, 17.09it/s, loss_d=0.293, loss_g=3.52]\n"
          ]
        },
        {
          "metadata": {
            "tags": null
          },
          "name": "stdout",
          "output_type": "stream",
          "text": [
            "[66/100]: loss_d: 0.293, loss_g: 3.517\n"
          ]
        },
        {
          "output_type": "stream",
          "name": "stderr",
          "text": [
            "Epoch 67/100: 100%|██████████| 600/600 [00:36<00:00, 16.64it/s, loss_d=0.356, loss_g=3.37]\n"
          ]
        },
        {
          "output_type": "stream",
          "name": "stdout",
          "text": [
            "[67/100]: loss_d: 0.356, loss_g: 3.374\n"
          ]
        },
        {
          "output_type": "stream",
          "name": "stderr",
          "text": [
            "Epoch 68/100: 100%|██████████| 600/600 [00:35<00:00, 16.73it/s, loss_d=0.292, loss_g=3.49]\n"
          ]
        },
        {
          "output_type": "stream",
          "name": "stdout",
          "text": [
            "[68/100]: loss_d: 0.292, loss_g: 3.494\n"
          ]
        },
        {
          "output_type": "stream",
          "name": "stderr",
          "text": [
            "Epoch 69/100: 100%|██████████| 600/600 [00:35<00:00, 17.00it/s, loss_d=0.32, loss_g=3.44]\n"
          ]
        },
        {
          "output_type": "stream",
          "name": "stdout",
          "text": [
            "[69/100]: loss_d: 0.320, loss_g: 3.438\n"
          ]
        },
        {
          "output_type": "stream",
          "name": "stderr",
          "text": [
            "Epoch 70/100: 100%|██████████| 600/600 [00:35<00:00, 16.95it/s, loss_d=0.294, loss_g=3.53]\n"
          ]
        },
        {
          "output_type": "stream",
          "name": "stdout",
          "text": [
            "[70/100]: loss_d: 0.294, loss_g: 3.530\n"
          ]
        },
        {
          "output_type": "stream",
          "name": "stderr",
          "text": [
            "Epoch 71/100: 100%|██████████| 600/600 [00:35<00:00, 17.08it/s, loss_d=0.298, loss_g=3.56]\n"
          ]
        },
        {
          "output_type": "stream",
          "name": "stdout",
          "text": [
            "[71/100]: loss_d: 0.298, loss_g: 3.559\n"
          ]
        },
        {
          "output_type": "stream",
          "name": "stderr",
          "text": [
            "Epoch 72/100: 100%|██████████| 600/600 [00:34<00:00, 17.18it/s, loss_d=0.329, loss_g=3.41]\n"
          ]
        },
        {
          "output_type": "stream",
          "name": "stdout",
          "text": [
            "[72/100]: loss_d: 0.329, loss_g: 3.415\n"
          ]
        },
        {
          "output_type": "stream",
          "name": "stderr",
          "text": [
            "Epoch 73/100: 100%|██████████| 600/600 [00:35<00:00, 17.03it/s, loss_d=0.314, loss_g=3.51]\n"
          ]
        },
        {
          "output_type": "stream",
          "name": "stdout",
          "text": [
            "[73/100]: loss_d: 0.314, loss_g: 3.512\n"
          ]
        },
        {
          "output_type": "stream",
          "name": "stderr",
          "text": [
            "Epoch 74/100: 100%|██████████| 600/600 [00:35<00:00, 16.95it/s, loss_d=0.304, loss_g=3.52]\n"
          ]
        },
        {
          "output_type": "stream",
          "name": "stdout",
          "text": [
            "[74/100]: loss_d: 0.304, loss_g: 3.523\n"
          ]
        },
        {
          "output_type": "stream",
          "name": "stderr",
          "text": [
            "Epoch 76/100: 100%|██████████| 600/600 [00:35<00:00, 17.10it/s, loss_d=0.275, loss_g=3.6]\n"
          ]
        },
        {
          "output_type": "stream",
          "name": "stdout",
          "text": [
            "[76/100]: loss_d: 0.275, loss_g: 3.599\n"
          ]
        },
        {
          "output_type": "stream",
          "name": "stderr",
          "text": [
            "Epoch 77/100: 100%|██████████| 600/600 [00:35<00:00, 17.07it/s, loss_d=0.318, loss_g=3.55]\n"
          ]
        },
        {
          "output_type": "stream",
          "name": "stdout",
          "text": [
            "[77/100]: loss_d: 0.318, loss_g: 3.550\n"
          ]
        },
        {
          "output_type": "stream",
          "name": "stderr",
          "text": [
            "Epoch 78/100: 100%|██████████| 600/600 [00:35<00:00, 17.06it/s, loss_d=0.285, loss_g=3.59]\n"
          ]
        },
        {
          "output_type": "stream",
          "name": "stdout",
          "text": [
            "[78/100]: loss_d: 0.285, loss_g: 3.592\n"
          ]
        },
        {
          "output_type": "stream",
          "name": "stderr",
          "text": [
            "Epoch 79/100: 100%|██████████| 600/600 [00:35<00:00, 17.08it/s, loss_d=0.374, loss_g=3.32]\n"
          ]
        },
        {
          "output_type": "stream",
          "name": "stdout",
          "text": [
            "[79/100]: loss_d: 0.374, loss_g: 3.322\n"
          ]
        },
        {
          "output_type": "stream",
          "name": "stderr",
          "text": [
            "Epoch 80/100: 100%|██████████| 600/600 [00:35<00:00, 16.97it/s, loss_d=0.312, loss_g=3.41]\n"
          ]
        },
        {
          "output_type": "stream",
          "name": "stdout",
          "text": [
            "[80/100]: loss_d: 0.312, loss_g: 3.412\n"
          ]
        },
        {
          "output_type": "stream",
          "name": "stderr",
          "text": [
            "Epoch 81/100: 100%|██████████| 600/600 [00:35<00:00, 17.05it/s, loss_d=0.334, loss_g=3.38]\n"
          ]
        },
        {
          "output_type": "stream",
          "name": "stdout",
          "text": [
            "[81/100]: loss_d: 0.334, loss_g: 3.383\n"
          ]
        },
        {
          "output_type": "stream",
          "name": "stderr",
          "text": [
            "Epoch 82/100: 100%|██████████| 600/600 [00:35<00:00, 16.92it/s, loss_d=0.301, loss_g=3.56]\n"
          ]
        },
        {
          "output_type": "stream",
          "name": "stdout",
          "text": [
            "[82/100]: loss_d: 0.301, loss_g: 3.562\n"
          ]
        },
        {
          "output_type": "stream",
          "name": "stderr",
          "text": [
            "Epoch 83/100: 100%|██████████| 600/600 [00:35<00:00, 16.98it/s, loss_d=0.302, loss_g=3.63]\n"
          ]
        },
        {
          "output_type": "stream",
          "name": "stdout",
          "text": [
            "[83/100]: loss_d: 0.302, loss_g: 3.635\n"
          ]
        },
        {
          "output_type": "stream",
          "name": "stderr",
          "text": [
            "Epoch 84/100: 100%|██████████| 600/600 [00:35<00:00, 17.06it/s, loss_d=0.305, loss_g=3.58]\n"
          ]
        },
        {
          "output_type": "stream",
          "name": "stdout",
          "text": [
            "[84/100]: loss_d: 0.305, loss_g: 3.578\n"
          ]
        },
        {
          "output_type": "stream",
          "name": "stderr",
          "text": [
            "Epoch 85/100: 100%|██████████| 600/600 [00:35<00:00, 16.88it/s, loss_d=0.286, loss_g=3.68]\n"
          ]
        },
        {
          "output_type": "stream",
          "name": "stdout",
          "text": [
            "[85/100]: loss_d: 0.286, loss_g: 3.682\n"
          ]
        },
        {
          "output_type": "stream",
          "name": "stderr",
          "text": [
            "Epoch 86/100: 100%|██████████| 600/600 [00:35<00:00, 17.00it/s, loss_d=0.268, loss_g=3.73]\n"
          ]
        },
        {
          "output_type": "stream",
          "name": "stdout",
          "text": [
            "[86/100]: loss_d: 0.268, loss_g: 3.732\n"
          ]
        },
        {
          "output_type": "stream",
          "name": "stderr",
          "text": [
            "Epoch 87/100: 100%|██████████| 600/600 [00:35<00:00, 16.86it/s, loss_d=0.293, loss_g=3.71]\n"
          ]
        },
        {
          "output_type": "stream",
          "name": "stdout",
          "text": [
            "[87/100]: loss_d: 0.293, loss_g: 3.709\n"
          ]
        },
        {
          "output_type": "stream",
          "name": "stderr",
          "text": [
            "Epoch 88/100: 100%|██████████| 600/600 [00:35<00:00, 16.87it/s, loss_d=0.303, loss_g=3.51]\n"
          ]
        },
        {
          "output_type": "stream",
          "name": "stdout",
          "text": [
            "[88/100]: loss_d: 0.303, loss_g: 3.508\n"
          ]
        },
        {
          "output_type": "stream",
          "name": "stderr",
          "text": [
            "Epoch 89/100: 100%|██████████| 600/600 [00:35<00:00, 16.77it/s, loss_d=0.287, loss_g=3.64]\n"
          ]
        },
        {
          "output_type": "stream",
          "name": "stdout",
          "text": [
            "[89/100]: loss_d: 0.287, loss_g: 3.642\n"
          ]
        },
        {
          "output_type": "stream",
          "name": "stderr",
          "text": [
            "Epoch 90/100: 100%|██████████| 600/600 [00:35<00:00, 16.69it/s, loss_d=0.29, loss_g=3.65]\n"
          ]
        },
        {
          "output_type": "stream",
          "name": "stdout",
          "text": [
            "[90/100]: loss_d: 0.290, loss_g: 3.655\n"
          ]
        },
        {
          "output_type": "stream",
          "name": "stderr",
          "text": [
            "Epoch 91/100: 100%|██████████| 600/600 [00:35<00:00, 16.87it/s, loss_d=0.318, loss_g=3.56]\n"
          ]
        },
        {
          "output_type": "stream",
          "name": "stdout",
          "text": [
            "[91/100]: loss_d: 0.318, loss_g: 3.564\n"
          ]
        },
        {
          "output_type": "stream",
          "name": "stderr",
          "text": [
            "Epoch 92/100: 100%|██████████| 600/600 [00:35<00:00, 16.91it/s, loss_d=0.262, loss_g=3.72]\n"
          ]
        },
        {
          "output_type": "stream",
          "name": "stdout",
          "text": [
            "[92/100]: loss_d: 0.262, loss_g: 3.723\n"
          ]
        },
        {
          "output_type": "stream",
          "name": "stderr",
          "text": [
            "Epoch 93/100: 100%|██████████| 600/600 [00:35<00:00, 16.96it/s, loss_d=0.26, loss_g=3.86]\n"
          ]
        },
        {
          "output_type": "stream",
          "name": "stdout",
          "text": [
            "[93/100]: loss_d: 0.260, loss_g: 3.857\n"
          ]
        },
        {
          "output_type": "stream",
          "name": "stderr",
          "text": [
            "Epoch 94/100: 100%|██████████| 600/600 [00:35<00:00, 16.84it/s, loss_d=0.223, loss_g=4.01]\n"
          ]
        },
        {
          "output_type": "stream",
          "name": "stdout",
          "text": [
            "[94/100]: loss_d: 0.223, loss_g: 4.013\n"
          ]
        },
        {
          "output_type": "stream",
          "name": "stderr",
          "text": [
            "Epoch 95/100: 100%|██████████| 600/600 [00:35<00:00, 16.91it/s, loss_d=0.284, loss_g=3.75]\n"
          ]
        },
        {
          "output_type": "stream",
          "name": "stdout",
          "text": [
            "[95/100]: loss_d: 0.284, loss_g: 3.751\n"
          ]
        },
        {
          "output_type": "stream",
          "name": "stderr",
          "text": [
            "Epoch 96/100: 100%|██████████| 600/600 [00:35<00:00, 16.86it/s, loss_d=0.187, loss_g=4.25]\n"
          ]
        },
        {
          "output_type": "stream",
          "name": "stdout",
          "text": [
            "[96/100]: loss_d: 0.187, loss_g: 4.246\n"
          ]
        },
        {
          "output_type": "stream",
          "name": "stderr",
          "text": [
            "Epoch 97/100: 100%|██████████| 600/600 [00:35<00:00, 17.06it/s, loss_d=0.294, loss_g=3.94]\n"
          ]
        },
        {
          "output_type": "stream",
          "name": "stdout",
          "text": [
            "[97/100]: loss_d: 0.294, loss_g: 3.944\n"
          ]
        },
        {
          "output_type": "stream",
          "name": "stderr",
          "text": [
            "Epoch 98/100: 100%|██████████| 600/600 [00:35<00:00, 16.85it/s, loss_d=0.0601, loss_g=5.03]\n"
          ]
        },
        {
          "output_type": "stream",
          "name": "stdout",
          "text": [
            "[98/100]: loss_d: 0.060, loss_g: 5.029\n"
          ]
        },
        {
          "output_type": "stream",
          "name": "stderr",
          "text": [
            "Epoch 99/100: 100%|██████████| 600/600 [00:35<00:00, 16.73it/s, loss_d=0.457, loss_g=3.75]\n"
          ]
        },
        {
          "output_type": "stream",
          "name": "stdout",
          "text": [
            "[99/100]: loss_d: 0.457, loss_g: 3.746\n"
          ]
        },
        {
          "output_type": "stream",
          "name": "stderr",
          "text": [
            "Epoch 100/100: 100%|██████████| 600/600 [00:35<00:00, 17.01it/s, loss_d=0.332, loss_g=3.43]\n"
          ]
        },
        {
          "output_type": "stream",
          "name": "stdout",
          "text": [
            "[100/100]: loss_d: 0.332, loss_g: 3.429\n"
          ]
        }
      ]
    },
    {
      "cell_type": "code",
      "source": [],
      "metadata": {
        "id": "j86iPvnpg7e0"
      },
      "execution_count": null,
      "outputs": []
    }
  ],
  "metadata": {
    "accelerator": "GPU",
    "colab": {
      "gpuType": "T4",
      "provenance": [],
      "toc_visible": true
    },
    "kernelspec": {
      "display_name": "torch",
      "language": "python",
      "name": "python3"
    },
    "language_info": {
      "codemirror_mode": {
        "name": "ipython",
        "version": 3
      },
      "file_extension": ".py",
      "mimetype": "text/x-python",
      "name": "python",
      "nbconvert_exporter": "python",
      "pygments_lexer": "ipython3",
      "version": "3.12.7"
    }
  },
  "nbformat": 4,
  "nbformat_minor": 0
}